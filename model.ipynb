{
 "cells": [
  {
   "cell_type": "code",
   "execution_count": 1,
   "id": "figured-syndrome",
   "metadata": {},
   "outputs": [],
   "source": [
    "import pandas as pd\n",
    "import numpy as np\n",
    "import matplotlib.pyplot as plt\n",
    "import seaborn as sns"
   ]
  },
  {
   "cell_type": "code",
   "execution_count": 2,
   "id": "accredited-exploration",
   "metadata": {},
   "outputs": [],
   "source": [
    "pd.set_option('display.max_columns',None)\n",
    "dataset = pd.read_excel('train.xlsx')"
   ]
  },
  {
   "cell_type": "code",
   "execution_count": 3,
   "id": "exclusive-quilt",
   "metadata": {},
   "outputs": [
    {
     "data": {
      "text/html": [
       "<div>\n",
       "<style scoped>\n",
       "    .dataframe tbody tr th:only-of-type {\n",
       "        vertical-align: middle;\n",
       "    }\n",
       "\n",
       "    .dataframe tbody tr th {\n",
       "        vertical-align: top;\n",
       "    }\n",
       "\n",
       "    .dataframe thead th {\n",
       "        text-align: right;\n",
       "    }\n",
       "</style>\n",
       "<table border=\"1\" class=\"dataframe\">\n",
       "  <thead>\n",
       "    <tr style=\"text-align: right;\">\n",
       "      <th></th>\n",
       "      <th>Airline</th>\n",
       "      <th>Date_of_Journey</th>\n",
       "      <th>Source</th>\n",
       "      <th>Destination</th>\n",
       "      <th>Route</th>\n",
       "      <th>Dep_Time</th>\n",
       "      <th>Arrival_Time</th>\n",
       "      <th>Duration</th>\n",
       "      <th>Total_Stops</th>\n",
       "      <th>Additional_Info</th>\n",
       "      <th>Price</th>\n",
       "    </tr>\n",
       "  </thead>\n",
       "  <tbody>\n",
       "    <tr>\n",
       "      <th>0</th>\n",
       "      <td>IndiGo</td>\n",
       "      <td>24/03/2019</td>\n",
       "      <td>Banglore</td>\n",
       "      <td>New Delhi</td>\n",
       "      <td>BLR → DEL</td>\n",
       "      <td>22:20</td>\n",
       "      <td>01:10 22 Mar</td>\n",
       "      <td>2h 50m</td>\n",
       "      <td>non-stop</td>\n",
       "      <td>No info</td>\n",
       "      <td>3897</td>\n",
       "    </tr>\n",
       "    <tr>\n",
       "      <th>1</th>\n",
       "      <td>Air India</td>\n",
       "      <td>1/05/2019</td>\n",
       "      <td>Kolkata</td>\n",
       "      <td>Banglore</td>\n",
       "      <td>CCU → IXR → BBI → BLR</td>\n",
       "      <td>05:50</td>\n",
       "      <td>13:15</td>\n",
       "      <td>7h 25m</td>\n",
       "      <td>2 stops</td>\n",
       "      <td>No info</td>\n",
       "      <td>7662</td>\n",
       "    </tr>\n",
       "    <tr>\n",
       "      <th>2</th>\n",
       "      <td>Jet Airways</td>\n",
       "      <td>9/06/2019</td>\n",
       "      <td>Delhi</td>\n",
       "      <td>Cochin</td>\n",
       "      <td>DEL → LKO → BOM → COK</td>\n",
       "      <td>09:25</td>\n",
       "      <td>04:25 10 Jun</td>\n",
       "      <td>19h</td>\n",
       "      <td>2 stops</td>\n",
       "      <td>No info</td>\n",
       "      <td>13882</td>\n",
       "    </tr>\n",
       "    <tr>\n",
       "      <th>3</th>\n",
       "      <td>IndiGo</td>\n",
       "      <td>12/05/2019</td>\n",
       "      <td>Kolkata</td>\n",
       "      <td>Banglore</td>\n",
       "      <td>CCU → NAG → BLR</td>\n",
       "      <td>18:05</td>\n",
       "      <td>23:30</td>\n",
       "      <td>5h 25m</td>\n",
       "      <td>1 stop</td>\n",
       "      <td>No info</td>\n",
       "      <td>6218</td>\n",
       "    </tr>\n",
       "    <tr>\n",
       "      <th>4</th>\n",
       "      <td>IndiGo</td>\n",
       "      <td>01/03/2019</td>\n",
       "      <td>Banglore</td>\n",
       "      <td>New Delhi</td>\n",
       "      <td>BLR → NAG → DEL</td>\n",
       "      <td>16:50</td>\n",
       "      <td>21:35</td>\n",
       "      <td>4h 45m</td>\n",
       "      <td>1 stop</td>\n",
       "      <td>No info</td>\n",
       "      <td>13302</td>\n",
       "    </tr>\n",
       "  </tbody>\n",
       "</table>\n",
       "</div>"
      ],
      "text/plain": [
       "       Airline Date_of_Journey    Source Destination                  Route  \\\n",
       "0       IndiGo      24/03/2019  Banglore   New Delhi              BLR → DEL   \n",
       "1    Air India       1/05/2019   Kolkata    Banglore  CCU → IXR → BBI → BLR   \n",
       "2  Jet Airways       9/06/2019     Delhi      Cochin  DEL → LKO → BOM → COK   \n",
       "3       IndiGo      12/05/2019   Kolkata    Banglore        CCU → NAG → BLR   \n",
       "4       IndiGo      01/03/2019  Banglore   New Delhi        BLR → NAG → DEL   \n",
       "\n",
       "  Dep_Time  Arrival_Time Duration Total_Stops Additional_Info  Price  \n",
       "0    22:20  01:10 22 Mar   2h 50m    non-stop         No info   3897  \n",
       "1    05:50         13:15   7h 25m     2 stops         No info   7662  \n",
       "2    09:25  04:25 10 Jun      19h     2 stops         No info  13882  \n",
       "3    18:05         23:30   5h 25m      1 stop         No info   6218  \n",
       "4    16:50         21:35   4h 45m      1 stop         No info  13302  "
      ]
     },
     "execution_count": 3,
     "metadata": {},
     "output_type": "execute_result"
    }
   ],
   "source": [
    "dataset.head()"
   ]
  },
  {
   "cell_type": "code",
   "execution_count": 4,
   "id": "ongoing-canyon",
   "metadata": {},
   "outputs": [
    {
     "data": {
      "text/plain": [
       "(10683, 11)"
      ]
     },
     "execution_count": 4,
     "metadata": {},
     "output_type": "execute_result"
    }
   ],
   "source": [
    "dataset.shape"
   ]
  },
  {
   "cell_type": "markdown",
   "id": "trained-prerequisite",
   "metadata": {},
   "source": [
    "## EDA"
   ]
  },
  {
   "cell_type": "code",
   "execution_count": 5,
   "id": "alert-married",
   "metadata": {},
   "outputs": [],
   "source": [
    "cat_feat = [i for i in dataset.columns if dataset[i].dtype=='O']"
   ]
  },
  {
   "cell_type": "code",
   "execution_count": 6,
   "id": "mathematical-romance",
   "metadata": {},
   "outputs": [
    {
     "name": "stdout",
     "output_type": "stream",
     "text": [
      "Airline 12\n",
      "Date_of_Journey 44\n",
      "Source 5\n",
      "Destination 6\n",
      "Route 129\n",
      "Dep_Time 222\n",
      "Arrival_Time 1343\n",
      "Duration 368\n",
      "Total_Stops 6\n",
      "Additional_Info 10\n"
     ]
    }
   ],
   "source": [
    "for i in cat_feat:\n",
    "    print(i, len(dataset[i].unique()))"
   ]
  },
  {
   "cell_type": "code",
   "execution_count": 7,
   "id": "harmful-travel",
   "metadata": {},
   "outputs": [
    {
     "data": {
      "image/png": "[encoded data removed]",
      "text/plain": [
       "<Figure size 432x288 with 1 Axes>"
      ]
     },
     "metadata": {
      "needs_background": "light"
     },
     "output_type": "display_data"
    },
    {
     "data": {
      "image/png": "[encoded data removed]",
      "text/plain": [
       "<Figure size 432x288 with 1 Axes>"
      ]
     },
     "metadata": {
      "needs_background": "light"
     },
     "output_type": "display_data"
    },
    {
     "data": {
      "image/png": "[encoded data removed]",
      "text/plain": [
       "<Figure size 432x288 with 1 Axes>"
      ]
     },
     "metadata": {
      "needs_background": "light"
     },
     "output_type": "display_data"
    },
    {
     "data": {
      "image/png": "[encoded data removed]",
      "text/plain": [
       "<Figure size 432x288 with 1 Axes>"
      ]
     },
     "metadata": {
      "needs_background": "light"
     },
     "output_type": "display_data"
    },
    {
     "data": {
      "image/png": "[encoded data removed]",
      "text/plain": [
       "<Figure size 432x288 with 1 Axes>"
      ]
     },
     "metadata": {
      "needs_background": "light"
     },
     "output_type": "display_data"
    }
   ],
   "source": [
    "for i in cat_feat:\n",
    "    if len(dataset[i].unique())>20:\n",
    "        continue\n",
    "    dataset.groupby(i)['Price'].mean().plot.bar()\n",
    "    plt.title(i)\n",
    "    plt.ylabel('Price')\n",
    "    plt.show()"
   ]
  },
  {
   "cell_type": "code",
   "execution_count": 8,
   "id": "intended-speaker",
   "metadata": {},
   "outputs": [
    {
     "name": "stdout",
     "output_type": "stream",
     "text": [
      "\n",
      "Airline\n",
      "Air Asia                              5590.260188\n",
      "Air India                             9611.210616\n",
      "GoAir                                 5861.056701\n",
      "IndiGo                                5673.682903\n",
      "Jet Airways                          11643.923357\n",
      "Jet Airways Business                 58358.666667\n",
      "Multiple carriers                    10902.678094\n",
      "Multiple carriers Premium economy    11418.846154\n",
      "SpiceJet                              4338.284841\n",
      "Trujet                                4140.000000\n",
      "Vistara                               7796.348643\n",
      "Vistara Premium economy               8962.333333\n",
      "Name: Price, dtype: float64\n",
      "\n",
      "\n",
      "Source\n",
      "Banglore     8017.464269\n",
      "Chennai      4789.892388\n",
      "Delhi       10539.439057\n",
      "Kolkata      9158.389411\n",
      "Mumbai       5059.708752\n",
      "Name: Price, dtype: float64\n",
      "\n",
      "Destination\n",
      "Banglore      9158.389411\n",
      "Cochin       10539.439057\n",
      "Delhi         5143.918577\n",
      "Hyderabad     5059.708752\n",
      "Kolkata       4789.892388\n",
      "New Delhi    11917.716738\n",
      "Name: Price, dtype: float64\n",
      "\n",
      "\n",
      "\n",
      "\n",
      "\n",
      "Total_Stops\n",
      "1 stop      10594.123556\n",
      "2 stops     12715.807895\n",
      "3 stops     13112.000000\n",
      "4 stops     17686.000000\n",
      "non-stop     5024.900315\n",
      "Name: Price, dtype: float64\n",
      "\n",
      "Additional_Info\n",
      "1 Long layover                  22109.631579\n",
      "1 Short layover                 26743.000000\n",
      "2 Long layover                  26480.000000\n",
      "Business class                  56811.250000\n",
      "Change airports                 16800.714286\n",
      "In-flight meal not included      9471.834511\n",
      "No Info                          8044.666667\n",
      "No check-in baggage included     3645.156250\n",
      "No info                          9141.320192\n",
      "Red-eye flight                  10873.000000\n",
      "Name: Price, dtype: float64\n"
     ]
    }
   ],
   "source": [
    "for i in cat_feat:\n",
    "    print()\n",
    "    if len(dataset[i].unique())>20:\n",
    "        continue\n",
    "    print(dataset.groupby(i)['Price'].mean())"
   ]
  },
  {
   "cell_type": "code",
   "execution_count": 9,
   "id": "legal-white",
   "metadata": {},
   "outputs": [],
   "source": [
    "dataset.loc[dataset.Destination=='New Delhi', 'Destination'] = 'Delhi'"
   ]
  },
  {
   "cell_type": "code",
   "execution_count": 10,
   "id": "departmental-military",
   "metadata": {},
   "outputs": [
    {
     "name": "stderr",
     "output_type": "stream",
     "text": [
      "C:\\Users\\shash\\Anaconda3\\envs\\flight\\lib\\site-packages\\seaborn\\distributions.py:2557: FutureWarning: `distplot` is a deprecated function and will be removed in a future version. Please adapt your code to use either `displot` (a figure-level function with similar flexibility) or `histplot` (an axes-level function for histograms).\n",
      "  warnings.warn(msg, FutureWarning)\n"
     ]
    },
    {
     "data": {
      "text/plain": [
       "<AxesSubplot:xlabel='Price', ylabel='Density'>"
      ]
     },
     "execution_count": 10,
     "metadata": {},
     "output_type": "execute_result"
    },
    {
     "data": {
      "image/png": "[encoded data removed]",
      "text/plain": [
       "<Figure size 432x288 with 1 Axes>"
      ]
     },
     "metadata": {
      "needs_background": "light"
     },
     "output_type": "display_data"
    }
   ],
   "source": [
    "sns.distplot(dataset.Price)"
   ]
  },
  {
   "cell_type": "code",
   "execution_count": 11,
   "id": "present-fountain",
   "metadata": {},
   "outputs": [
    {
     "name": "stderr",
     "output_type": "stream",
     "text": [
      "C:\\Users\\shash\\Anaconda3\\envs\\flight\\lib\\site-packages\\seaborn\\_decorators.py:43: FutureWarning: Pass the following variable as a keyword arg: x. From version 0.12, the only valid positional argument will be `data`, and passing other arguments without an explicit keyword will result in an error or misinterpretation.\n",
      "  FutureWarning\n"
     ]
    },
    {
     "data": {
      "text/plain": [
       "<AxesSubplot:xlabel='Price'>"
      ]
     },
     "execution_count": 11,
     "metadata": {},
     "output_type": "execute_result"
    },
    {
     "data": {
      "image/png": "[encoded data removed]",
      "text/plain": [
       "<Figure size 432x288 with 1 Axes>"
      ]
     },
     "metadata": {
      "needs_background": "light"
     },
     "output_type": "display_data"
    }
   ],
   "source": [
    "sns.boxplot(dataset.Price)"
   ]
  },
  {
   "cell_type": "code",
   "execution_count": 12,
   "id": "tamil-accounting",
   "metadata": {},
   "outputs": [
    {
     "data": {
      "text/plain": [
       "Airline            0\n",
       "Date_of_Journey    0\n",
       "Source             0\n",
       "Destination        0\n",
       "Route              1\n",
       "Dep_Time           0\n",
       "Arrival_Time       0\n",
       "Duration           0\n",
       "Total_Stops        1\n",
       "Additional_Info    0\n",
       "Price              0\n",
       "dtype: int64"
      ]
     },
     "execution_count": 12,
     "metadata": {},
     "output_type": "execute_result"
    }
   ],
   "source": [
    "dataset.isnull().sum()"
   ]
  },
  {
   "cell_type": "markdown",
   "id": "artificial-complexity",
   "metadata": {},
   "source": [
    "## Feature Engineering"
   ]
  },
  {
   "cell_type": "code",
   "execution_count": 13,
   "id": "smooth-mills",
   "metadata": {},
   "outputs": [],
   "source": [
    "data = dataset.copy(deep=True)"
   ]
  },
  {
   "cell_type": "code",
   "execution_count": 14,
   "id": "baking-luther",
   "metadata": {},
   "outputs": [
    {
     "data": {
      "text/plain": [
       "(10683, 11)"
      ]
     },
     "execution_count": 14,
     "metadata": {},
     "output_type": "execute_result"
    }
   ],
   "source": [
    "data.shape"
   ]
  },
  {
   "cell_type": "code",
   "execution_count": 15,
   "id": "joint-failing",
   "metadata": {},
   "outputs": [],
   "source": [
    "# test = pd.read_excel('test.xlsx')\n",
    "# test_pred = pd.read_excel('test_pred.xlsx')\n",
    "# test = pd.concat([test, test_pred], axis=1)\n",
    "# data = pd.concat([test, data])"
   ]
  },
  {
   "cell_type": "code",
   "execution_count": 16,
   "id": "curious-approach",
   "metadata": {},
   "outputs": [
    {
     "data": {
      "text/html": [
       "<div>\n",
       "<style scoped>\n",
       "    .dataframe tbody tr th:only-of-type {\n",
       "        vertical-align: middle;\n",
       "    }\n",
       "\n",
       "    .dataframe tbody tr th {\n",
       "        vertical-align: top;\n",
       "    }\n",
       "\n",
       "    .dataframe thead th {\n",
       "        text-align: right;\n",
       "    }\n",
       "</style>\n",
       "<table border=\"1\" class=\"dataframe\">\n",
       "  <thead>\n",
       "    <tr style=\"text-align: right;\">\n",
       "      <th></th>\n",
       "      <th>Airline</th>\n",
       "      <th>Date_of_Journey</th>\n",
       "      <th>Source</th>\n",
       "      <th>Destination</th>\n",
       "      <th>Route</th>\n",
       "      <th>Dep_Time</th>\n",
       "      <th>Arrival_Time</th>\n",
       "      <th>Duration</th>\n",
       "      <th>Total_Stops</th>\n",
       "      <th>Additional_Info</th>\n",
       "      <th>Price</th>\n",
       "    </tr>\n",
       "  </thead>\n",
       "  <tbody>\n",
       "    <tr>\n",
       "      <th>0</th>\n",
       "      <td>IndiGo</td>\n",
       "      <td>24/03/2019</td>\n",
       "      <td>Banglore</td>\n",
       "      <td>Delhi</td>\n",
       "      <td>BLR → DEL</td>\n",
       "      <td>22:20</td>\n",
       "      <td>01:10 22 Mar</td>\n",
       "      <td>2h 50m</td>\n",
       "      <td>non-stop</td>\n",
       "      <td>No info</td>\n",
       "      <td>3897</td>\n",
       "    </tr>\n",
       "    <tr>\n",
       "      <th>1</th>\n",
       "      <td>Air India</td>\n",
       "      <td>1/05/2019</td>\n",
       "      <td>Kolkata</td>\n",
       "      <td>Banglore</td>\n",
       "      <td>CCU → IXR → BBI → BLR</td>\n",
       "      <td>05:50</td>\n",
       "      <td>13:15</td>\n",
       "      <td>7h 25m</td>\n",
       "      <td>2 stops</td>\n",
       "      <td>No info</td>\n",
       "      <td>7662</td>\n",
       "    </tr>\n",
       "    <tr>\n",
       "      <th>2</th>\n",
       "      <td>Jet Airways</td>\n",
       "      <td>9/06/2019</td>\n",
       "      <td>Delhi</td>\n",
       "      <td>Cochin</td>\n",
       "      <td>DEL → LKO → BOM → COK</td>\n",
       "      <td>09:25</td>\n",
       "      <td>04:25 10 Jun</td>\n",
       "      <td>19h</td>\n",
       "      <td>2 stops</td>\n",
       "      <td>No info</td>\n",
       "      <td>13882</td>\n",
       "    </tr>\n",
       "    <tr>\n",
       "      <th>3</th>\n",
       "      <td>IndiGo</td>\n",
       "      <td>12/05/2019</td>\n",
       "      <td>Kolkata</td>\n",
       "      <td>Banglore</td>\n",
       "      <td>CCU → NAG → BLR</td>\n",
       "      <td>18:05</td>\n",
       "      <td>23:30</td>\n",
       "      <td>5h 25m</td>\n",
       "      <td>1 stop</td>\n",
       "      <td>No info</td>\n",
       "      <td>6218</td>\n",
       "    </tr>\n",
       "    <tr>\n",
       "      <th>4</th>\n",
       "      <td>IndiGo</td>\n",
       "      <td>01/03/2019</td>\n",
       "      <td>Banglore</td>\n",
       "      <td>Delhi</td>\n",
       "      <td>BLR → NAG → DEL</td>\n",
       "      <td>16:50</td>\n",
       "      <td>21:35</td>\n",
       "      <td>4h 45m</td>\n",
       "      <td>1 stop</td>\n",
       "      <td>No info</td>\n",
       "      <td>13302</td>\n",
       "    </tr>\n",
       "  </tbody>\n",
       "</table>\n",
       "</div>"
      ],
      "text/plain": [
       "       Airline Date_of_Journey    Source Destination                  Route  \\\n",
       "0       IndiGo      24/03/2019  Banglore       Delhi              BLR → DEL   \n",
       "1    Air India       1/05/2019   Kolkata    Banglore  CCU → IXR → BBI → BLR   \n",
       "2  Jet Airways       9/06/2019     Delhi      Cochin  DEL → LKO → BOM → COK   \n",
       "3       IndiGo      12/05/2019   Kolkata    Banglore        CCU → NAG → BLR   \n",
       "4       IndiGo      01/03/2019  Banglore       Delhi        BLR → NAG → DEL   \n",
       "\n",
       "  Dep_Time  Arrival_Time Duration Total_Stops Additional_Info  Price  \n",
       "0    22:20  01:10 22 Mar   2h 50m    non-stop         No info   3897  \n",
       "1    05:50         13:15   7h 25m     2 stops         No info   7662  \n",
       "2    09:25  04:25 10 Jun      19h     2 stops         No info  13882  \n",
       "3    18:05         23:30   5h 25m      1 stop         No info   6218  \n",
       "4    16:50         21:35   4h 45m      1 stop         No info  13302  "
      ]
     },
     "execution_count": 16,
     "metadata": {},
     "output_type": "execute_result"
    }
   ],
   "source": [
    "data.head()"
   ]
  },
  {
   "cell_type": "code",
   "execution_count": 17,
   "id": "statutory-examination",
   "metadata": {},
   "outputs": [
    {
     "data": {
      "text/plain": [
       "Delhi       4537\n",
       "Kolkata     2871\n",
       "Banglore    2197\n",
       "Mumbai       697\n",
       "Chennai      381\n",
       "Name: Source, dtype: int64"
      ]
     },
     "execution_count": 17,
     "metadata": {},
     "output_type": "execute_result"
    }
   ],
   "source": [
    "data.Source.value_counts()"
   ]
  },
  {
   "cell_type": "code",
   "execution_count": 18,
   "id": "devoted-wesley",
   "metadata": {},
   "outputs": [],
   "source": [
    "data['Journey_Day'] = pd.to_datetime(data.Date_of_Journey, format=\"%d/%m/%Y\").dt.day\n",
    "data['Journey_Month'] = pd.to_datetime(data.Date_of_Journey, format=\"%d/%m/%Y\").dt.month\n",
    "data.dropna(axis=0, inplace=True)\n",
    "Source = data[['Source']]\n",
    "Source = pd.get_dummies(Source, drop_first= True)\n",
    "Destination = data[['Destination']]\n",
    "Destination = pd.get_dummies(Destination, drop_first= True)\n",
    "data = pd.concat([data, Source, Destination], axis=1)\n",
    "data[\"Dep_hour\"] = pd.to_datetime(data[\"Dep_Time\"]).dt.hour\n",
    "data[\"Dep_min\"] = pd.to_datetime(data[\"Dep_Time\"]).dt.minute\n",
    "data.drop([\"Dep_Time\"], axis = 1, inplace = True)\n",
    "data[\"Arrival_hour\"] = pd.to_datetime(data.Arrival_Time).dt.hour\n",
    "data[\"Arrival_min\"] = pd.to_datetime(data.Arrival_Time).dt.minute\n",
    "data.drop([\"Arrival_Time\"], axis = 1, inplace = True)\n",
    "\n",
    "hr = []\n",
    "for i in data.Duration.values:\n",
    "    duration = i.split(' ')\n",
    "    if len(duration)==2:\n",
    "        hr.append(float(duration[0][:-1])+(float(duration[1][:-1])/60))\n",
    "    else:\n",
    "        hr.append(float(duration[0][:-1]))\n",
    "        \n",
    "data['Duration'] = hr\n",
    "s = []    \n",
    "for i in data.Total_Stops.values:\n",
    "    stops = 0\n",
    "    total_stops = i.split(' ')\n",
    "    if len(total_stops)==2:\n",
    "        stops = int(total_stops[0])\n",
    "    else:\n",
    "        stops = 0\n",
    "    s.append(stops)\n",
    "\n",
    "data.Total_Stops = s\n",
    "data.Additional_Info = np.where(data.Additional_Info=='No Info','No info',data.Additional_Info)\n",
    "data[pd.get_dummies(data['Airline'], drop_first=True).columns] = pd.get_dummies(data['Airline'], drop_first=True)\n",
    "data[pd.get_dummies(data['Additional_Info'], drop_first=True).columns] = pd.get_dummies(data['Additional_Info'], drop_first=True)\n",
    "data.drop(['Airline','Additional_Info','Date_of_Journey','Source','Destination','Route'], axis=1, inplace=True)\n"
   ]
  },
  {
   "cell_type": "code",
   "execution_count": null,
   "id": "local-sunset",
   "metadata": {},
   "outputs": [],
   "source": []
  },
  {
   "cell_type": "code",
   "execution_count": 19,
   "id": "careful-newspaper",
   "metadata": {},
   "outputs": [],
   "source": [
    "X = [i for i in data.columns if i not in 'Price']\n",
    "y = 'Price'"
   ]
  },
  {
   "cell_type": "code",
   "execution_count": 20,
   "id": "protected-recipe",
   "metadata": {},
   "outputs": [
    {
     "data": {
      "image/png": "[encoded data removed]",
      "text/plain": [
       "<Figure size 864x576 with 1 Axes>"
      ]
     },
     "metadata": {
      "needs_background": "light"
     },
     "output_type": "display_data"
    }
   ],
   "source": [
    "from sklearn.ensemble import ExtraTreesRegressor\n",
    "selection = ExtraTreesRegressor()\n",
    "selection.fit(data[X], data[y])\n",
    "plt.figure(figsize = (12,8))\n",
    "feat_importances = pd.Series(selection.feature_importances_, index=data[X].columns)\n",
    "feat_importances.nlargest(20).plot(kind='barh')\n",
    "plt.show()"
   ]
  },
  {
   "cell_type": "code",
   "execution_count": 21,
   "id": "classified-advancement",
   "metadata": {},
   "outputs": [
    {
     "data": {
      "text/html": [
       "<div>\n",
       "<style scoped>\n",
       "    .dataframe tbody tr th:only-of-type {\n",
       "        vertical-align: middle;\n",
       "    }\n",
       "\n",
       "    .dataframe tbody tr th {\n",
       "        vertical-align: top;\n",
       "    }\n",
       "\n",
       "    .dataframe thead th {\n",
       "        text-align: right;\n",
       "    }\n",
       "</style>\n",
       "<table border=\"1\" class=\"dataframe\">\n",
       "  <thead>\n",
       "    <tr style=\"text-align: right;\">\n",
       "      <th></th>\n",
       "      <th>Duration</th>\n",
       "      <th>Total_Stops</th>\n",
       "      <th>Price</th>\n",
       "      <th>Journey_Day</th>\n",
       "      <th>Journey_Month</th>\n",
       "      <th>Source_Chennai</th>\n",
       "      <th>Source_Delhi</th>\n",
       "      <th>Source_Kolkata</th>\n",
       "      <th>Source_Mumbai</th>\n",
       "      <th>Destination_Cochin</th>\n",
       "      <th>Destination_Delhi</th>\n",
       "      <th>Destination_Hyderabad</th>\n",
       "      <th>Destination_Kolkata</th>\n",
       "      <th>Dep_hour</th>\n",
       "      <th>Dep_min</th>\n",
       "      <th>Arrival_hour</th>\n",
       "      <th>Arrival_min</th>\n",
       "      <th>Air India</th>\n",
       "      <th>GoAir</th>\n",
       "      <th>IndiGo</th>\n",
       "      <th>Jet Airways</th>\n",
       "      <th>Jet Airways Business</th>\n",
       "      <th>Multiple carriers</th>\n",
       "      <th>Multiple carriers Premium economy</th>\n",
       "      <th>SpiceJet</th>\n",
       "      <th>Trujet</th>\n",
       "      <th>Vistara</th>\n",
       "      <th>Vistara Premium economy</th>\n",
       "      <th>1 Short layover</th>\n",
       "      <th>2 Long layover</th>\n",
       "      <th>Business class</th>\n",
       "      <th>Change airports</th>\n",
       "      <th>In-flight meal not included</th>\n",
       "      <th>No check-in baggage included</th>\n",
       "      <th>No info</th>\n",
       "      <th>Red-eye flight</th>\n",
       "    </tr>\n",
       "  </thead>\n",
       "  <tbody>\n",
       "    <tr>\n",
       "      <th>0</th>\n",
       "      <td>2.833333</td>\n",
       "      <td>0</td>\n",
       "      <td>3897</td>\n",
       "      <td>24</td>\n",
       "      <td>3</td>\n",
       "      <td>0</td>\n",
       "      <td>0</td>\n",
       "      <td>0</td>\n",
       "      <td>0</td>\n",
       "      <td>0</td>\n",
       "      <td>1</td>\n",
       "      <td>0</td>\n",
       "      <td>0</td>\n",
       "      <td>22</td>\n",
       "      <td>20</td>\n",
       "      <td>1</td>\n",
       "      <td>10</td>\n",
       "      <td>0</td>\n",
       "      <td>0</td>\n",
       "      <td>1</td>\n",
       "      <td>0</td>\n",
       "      <td>0</td>\n",
       "      <td>0</td>\n",
       "      <td>0</td>\n",
       "      <td>0</td>\n",
       "      <td>0</td>\n",
       "      <td>0</td>\n",
       "      <td>0</td>\n",
       "      <td>0</td>\n",
       "      <td>0</td>\n",
       "      <td>0</td>\n",
       "      <td>0</td>\n",
       "      <td>0</td>\n",
       "      <td>0</td>\n",
       "      <td>1</td>\n",
       "      <td>0</td>\n",
       "    </tr>\n",
       "    <tr>\n",
       "      <th>1</th>\n",
       "      <td>7.416667</td>\n",
       "      <td>2</td>\n",
       "      <td>7662</td>\n",
       "      <td>1</td>\n",
       "      <td>5</td>\n",
       "      <td>0</td>\n",
       "      <td>0</td>\n",
       "      <td>1</td>\n",
       "      <td>0</td>\n",
       "      <td>0</td>\n",
       "      <td>0</td>\n",
       "      <td>0</td>\n",
       "      <td>0</td>\n",
       "      <td>5</td>\n",
       "      <td>50</td>\n",
       "      <td>13</td>\n",
       "      <td>15</td>\n",
       "      <td>1</td>\n",
       "      <td>0</td>\n",
       "      <td>0</td>\n",
       "      <td>0</td>\n",
       "      <td>0</td>\n",
       "      <td>0</td>\n",
       "      <td>0</td>\n",
       "      <td>0</td>\n",
       "      <td>0</td>\n",
       "      <td>0</td>\n",
       "      <td>0</td>\n",
       "      <td>0</td>\n",
       "      <td>0</td>\n",
       "      <td>0</td>\n",
       "      <td>0</td>\n",
       "      <td>0</td>\n",
       "      <td>0</td>\n",
       "      <td>1</td>\n",
       "      <td>0</td>\n",
       "    </tr>\n",
       "    <tr>\n",
       "      <th>2</th>\n",
       "      <td>19.000000</td>\n",
       "      <td>2</td>\n",
       "      <td>13882</td>\n",
       "      <td>9</td>\n",
       "      <td>6</td>\n",
       "      <td>0</td>\n",
       "      <td>1</td>\n",
       "      <td>0</td>\n",
       "      <td>0</td>\n",
       "      <td>1</td>\n",
       "      <td>0</td>\n",
       "      <td>0</td>\n",
       "      <td>0</td>\n",
       "      <td>9</td>\n",
       "      <td>25</td>\n",
       "      <td>4</td>\n",
       "      <td>25</td>\n",
       "      <td>0</td>\n",
       "      <td>0</td>\n",
       "      <td>0</td>\n",
       "      <td>1</td>\n",
       "      <td>0</td>\n",
       "      <td>0</td>\n",
       "      <td>0</td>\n",
       "      <td>0</td>\n",
       "      <td>0</td>\n",
       "      <td>0</td>\n",
       "      <td>0</td>\n",
       "      <td>0</td>\n",
       "      <td>0</td>\n",
       "      <td>0</td>\n",
       "      <td>0</td>\n",
       "      <td>0</td>\n",
       "      <td>0</td>\n",
       "      <td>1</td>\n",
       "      <td>0</td>\n",
       "    </tr>\n",
       "    <tr>\n",
       "      <th>3</th>\n",
       "      <td>5.416667</td>\n",
       "      <td>1</td>\n",
       "      <td>6218</td>\n",
       "      <td>12</td>\n",
       "      <td>5</td>\n",
       "      <td>0</td>\n",
       "      <td>0</td>\n",
       "      <td>1</td>\n",
       "      <td>0</td>\n",
       "      <td>0</td>\n",
       "      <td>0</td>\n",
       "      <td>0</td>\n",
       "      <td>0</td>\n",
       "      <td>18</td>\n",
       "      <td>5</td>\n",
       "      <td>23</td>\n",
       "      <td>30</td>\n",
       "      <td>0</td>\n",
       "      <td>0</td>\n",
       "      <td>1</td>\n",
       "      <td>0</td>\n",
       "      <td>0</td>\n",
       "      <td>0</td>\n",
       "      <td>0</td>\n",
       "      <td>0</td>\n",
       "      <td>0</td>\n",
       "      <td>0</td>\n",
       "      <td>0</td>\n",
       "      <td>0</td>\n",
       "      <td>0</td>\n",
       "      <td>0</td>\n",
       "      <td>0</td>\n",
       "      <td>0</td>\n",
       "      <td>0</td>\n",
       "      <td>1</td>\n",
       "      <td>0</td>\n",
       "    </tr>\n",
       "    <tr>\n",
       "      <th>4</th>\n",
       "      <td>4.750000</td>\n",
       "      <td>1</td>\n",
       "      <td>13302</td>\n",
       "      <td>1</td>\n",
       "      <td>3</td>\n",
       "      <td>0</td>\n",
       "      <td>0</td>\n",
       "      <td>0</td>\n",
       "      <td>0</td>\n",
       "      <td>0</td>\n",
       "      <td>1</td>\n",
       "      <td>0</td>\n",
       "      <td>0</td>\n",
       "      <td>16</td>\n",
       "      <td>50</td>\n",
       "      <td>21</td>\n",
       "      <td>35</td>\n",
       "      <td>0</td>\n",
       "      <td>0</td>\n",
       "      <td>1</td>\n",
       "      <td>0</td>\n",
       "      <td>0</td>\n",
       "      <td>0</td>\n",
       "      <td>0</td>\n",
       "      <td>0</td>\n",
       "      <td>0</td>\n",
       "      <td>0</td>\n",
       "      <td>0</td>\n",
       "      <td>0</td>\n",
       "      <td>0</td>\n",
       "      <td>0</td>\n",
       "      <td>0</td>\n",
       "      <td>0</td>\n",
       "      <td>0</td>\n",
       "      <td>1</td>\n",
       "      <td>0</td>\n",
       "    </tr>\n",
       "  </tbody>\n",
       "</table>\n",
       "</div>"
      ],
      "text/plain": [
       "    Duration  Total_Stops  Price  Journey_Day  Journey_Month  Source_Chennai  \\\n",
       "0   2.833333            0   3897           24              3               0   \n",
       "1   7.416667            2   7662            1              5               0   \n",
       "2  19.000000            2  13882            9              6               0   \n",
       "3   5.416667            1   6218           12              5               0   \n",
       "4   4.750000            1  13302            1              3               0   \n",
       "\n",
       "   Source_Delhi  Source_Kolkata  Source_Mumbai  Destination_Cochin  \\\n",
       "0             0               0              0                   0   \n",
       "1             0               1              0                   0   \n",
       "2             1               0              0                   1   \n",
       "3             0               1              0                   0   \n",
       "4             0               0              0                   0   \n",
       "\n",
       "   Destination_Delhi  Destination_Hyderabad  Destination_Kolkata  Dep_hour  \\\n",
       "0                  1                      0                    0        22   \n",
       "1                  0                      0                    0         5   \n",
       "2                  0                      0                    0         9   \n",
       "3                  0                      0                    0        18   \n",
       "4                  1                      0                    0        16   \n",
       "\n",
       "   Dep_min  Arrival_hour  Arrival_min  Air India  GoAir  IndiGo  Jet Airways  \\\n",
       "0       20             1           10          0      0       1            0   \n",
       "1       50            13           15          1      0       0            0   \n",
       "2       25             4           25          0      0       0            1   \n",
       "3        5            23           30          0      0       1            0   \n",
       "4       50            21           35          0      0       1            0   \n",
       "\n",
       "   Jet Airways Business  Multiple carriers  Multiple carriers Premium economy  \\\n",
       "0                     0                  0                                  0   \n",
       "1                     0                  0                                  0   \n",
       "2                     0                  0                                  0   \n",
       "3                     0                  0                                  0   \n",
       "4                     0                  0                                  0   \n",
       "\n",
       "   SpiceJet  Trujet  Vistara  Vistara Premium economy  1 Short layover  \\\n",
       "0         0       0        0                        0                0   \n",
       "1         0       0        0                        0                0   \n",
       "2         0       0        0                        0                0   \n",
       "3         0       0        0                        0                0   \n",
       "4         0       0        0                        0                0   \n",
       "\n",
       "   2 Long layover  Business class  Change airports  \\\n",
       "0               0               0                0   \n",
       "1               0               0                0   \n",
       "2               0               0                0   \n",
       "3               0               0                0   \n",
       "4               0               0                0   \n",
       "\n",
       "   In-flight meal not included  No check-in baggage included  No info  \\\n",
       "0                            0                             0        1   \n",
       "1                            0                             0        1   \n",
       "2                            0                             0        1   \n",
       "3                            0                             0        1   \n",
       "4                            0                             0        1   \n",
       "\n",
       "   Red-eye flight  \n",
       "0               0  \n",
       "1               0  \n",
       "2               0  \n",
       "3               0  \n",
       "4               0  "
      ]
     },
     "execution_count": 21,
     "metadata": {},
     "output_type": "execute_result"
    }
   ],
   "source": [
    "data.head()"
   ]
  },
  {
   "cell_type": "code",
   "execution_count": 22,
   "id": "confident-interstate",
   "metadata": {},
   "outputs": [
    {
     "data": {
      "text/plain": [
       "array(['No info', 'In-flight meal not included',\n",
       "       'No check-in baggage included', '1 Short layover', 'No Info',\n",
       "       '1 Long layover', 'Change airports', 'Business class',\n",
       "       'Red-eye flight', '2 Long layover'], dtype=object)"
      ]
     },
     "execution_count": 22,
     "metadata": {},
     "output_type": "execute_result"
    }
   ],
   "source": [
    "dataset.Additional_Info.unique()"
   ]
  },
  {
   "cell_type": "code",
   "execution_count": 43,
   "id": "incoming-california",
   "metadata": {},
   "outputs": [
    {
     "data": {
      "text/plain": [
       "(1, 36)"
      ]
     },
     "execution_count": 43,
     "metadata": {},
     "output_type": "execute_result"
    }
   ],
   "source": [
    "data.sample(1).shape"
   ]
  },
  {
   "cell_type": "code",
   "execution_count": 23,
   "id": "hairy-conversion",
   "metadata": {},
   "outputs": [],
   "source": [
    "from sklearn.model_selection import train_test_split"
   ]
  },
  {
   "cell_type": "code",
   "execution_count": 24,
   "id": "pharmaceutical-sitting",
   "metadata": {},
   "outputs": [],
   "source": [
    "X_train, X_test, y_train, y_test = train_test_split(data[X], data[y], test_size=0.3, random_state=42)"
   ]
  },
  {
   "cell_type": "code",
   "execution_count": 46,
   "id": "oriented-beaver",
   "metadata": {},
   "outputs": [
    {
     "data": {
      "text/plain": [
       "array([[ 3.,  0., 15.,  5.,  0.,  0.,  0.,  0.,  0.,  1.,  0.,  0.,  7.,\n",
       "        10., 10., 10.,  0.,  0.,  0.,  1.,  0.,  0.,  0.,  0.,  0.,  0.,\n",
       "         0.,  0.,  0.,  0.,  0.,  1.,  0.,  0.,  0.]])"
      ]
     },
     "execution_count": 46,
     "metadata": {},
     "output_type": "execute_result"
    }
   ],
   "source": [
    "X_train.sample(random_state=1).values"
   ]
  },
  {
   "cell_type": "code",
   "execution_count": 25,
   "id": "supported-series",
   "metadata": {},
   "outputs": [
    {
     "data": {
      "text/plain": [
       "XGBRegressor(base_score=0.5, booster='gbtree', colsample_bylevel=1,\n",
       "             colsample_bynode=1, colsample_bytree=1, gamma=0, gpu_id=-1,\n",
       "             importance_type='gain', interaction_constraints='',\n",
       "             learning_rate=0.300000012, max_delta_step=0, max_depth=6,\n",
       "             min_child_weight=1, missing=nan, monotone_constraints='()',\n",
       "             n_estimators=100, n_jobs=8, num_parallel_tree=1, random_state=0,\n",
       "             reg_alpha=0, reg_lambda=1, scale_pos_weight=1, subsample=1,\n",
       "             tree_method='exact', validate_parameters=1, verbosity=None)"
      ]
     },
     "execution_count": 25,
     "metadata": {},
     "output_type": "execute_result"
    }
   ],
   "source": [
    "from xgboost import XGBRegressor\n",
    "model = XGBRegressor()\n",
    "model.fit(X_train, y_train)"
   ]
  },
  {
   "cell_type": "code",
   "execution_count": 26,
   "id": "republican-angel",
   "metadata": {},
   "outputs": [],
   "source": [
    "pred = model.predict(X_test)"
   ]
  },
  {
   "cell_type": "code",
   "execution_count": 27,
   "id": "numerical-silicon",
   "metadata": {},
   "outputs": [
    {
     "data": {
      "text/plain": [
       "0.9031549377170479"
      ]
     },
     "execution_count": 27,
     "metadata": {},
     "output_type": "execute_result"
    }
   ],
   "source": [
    "model.score(X_test, y_test)"
   ]
  },
  {
   "cell_type": "code",
   "execution_count": 28,
   "id": "actual-bidding",
   "metadata": {},
   "outputs": [],
   "source": [
    "from sklearn import metrics"
   ]
  },
  {
   "cell_type": "code",
   "execution_count": 29,
   "id": "unnecessary-india",
   "metadata": {},
   "outputs": [
    {
     "name": "stdout",
     "output_type": "stream",
     "text": [
      "MAE: 770.0633469889577\n",
      "MSE: 1975729.0052044285\n",
      "RMSE: 1405.6062767377032\n"
     ]
    }
   ],
   "source": [
    "print('MAE:', metrics.mean_absolute_error(y_test, pred))\n",
    "print('MSE:', metrics.mean_squared_error(y_test, pred))\n",
    "print('RMSE:', np.sqrt(metrics.mean_squared_error(y_test, pred)))"
   ]
  },
  {
   "cell_type": "code",
   "execution_count": 30,
   "id": "alpine-boost",
   "metadata": {},
   "outputs": [
    {
     "name": "stderr",
     "output_type": "stream",
     "text": [
      "C:\\Users\\shash\\Anaconda3\\envs\\flight\\lib\\site-packages\\seaborn\\_decorators.py:43: FutureWarning: Pass the following variables as keyword args: x, y. From version 0.12, the only valid positional argument will be `data`, and passing other arguments without an explicit keyword will result in an error or misinterpretation.\n",
      "  FutureWarning\n"
     ]
    },
    {
     "data": {
      "text/plain": [
       "<AxesSubplot:xlabel='Price'>"
      ]
     },
     "execution_count": 30,
     "metadata": {},
     "output_type": "execute_result"
    },
    {
     "data": {
      "image/png": "[encoded data removed]",
      "text/plain": [
       "<Figure size 432x288 with 1 Axes>"
      ]
     },
     "metadata": {
      "needs_background": "light"
     },
     "output_type": "display_data"
    }
   ],
   "source": [
    "sns.regplot(y_test, pred)"
   ]
  },
  {
   "cell_type": "code",
   "execution_count": 31,
   "id": "industrial-smoke",
   "metadata": {},
   "outputs": [
    {
     "data": {
      "text/plain": [
       "0.9031549377170479"
      ]
     },
     "execution_count": 31,
     "metadata": {},
     "output_type": "execute_result"
    }
   ],
   "source": [
    "metrics.r2_score(y_test, pred)"
   ]
  },
  {
   "cell_type": "code",
   "execution_count": 32,
   "id": "outstanding-store",
   "metadata": {},
   "outputs": [
    {
     "data": {
      "text/plain": [
       "Index(['Duration', 'Total_Stops', 'Price', 'Journey_Day', 'Journey_Month',\n",
       "       'Source_Chennai', 'Source_Delhi', 'Source_Kolkata', 'Source_Mumbai',\n",
       "       'Destination_Cochin', 'Destination_Delhi', 'Destination_Hyderabad',\n",
       "       'Destination_Kolkata', 'Dep_hour', 'Dep_min', 'Arrival_hour',\n",
       "       'Arrival_min', 'Air India', 'GoAir', 'IndiGo', 'Jet Airways',\n",
       "       'Jet Airways Business', 'Multiple carriers',\n",
       "       'Multiple carriers Premium economy', 'SpiceJet', 'Trujet', 'Vistara',\n",
       "       'Vistara Premium economy', '1 Short layover', '2 Long layover',\n",
       "       'Business class', 'Change airports', 'In-flight meal not included',\n",
       "       'No check-in baggage included', 'No info', 'Red-eye flight'],\n",
       "      dtype='object')"
      ]
     },
     "execution_count": 32,
     "metadata": {},
     "output_type": "execute_result"
    }
   ],
   "source": [
    "data.columns"
   ]
  },
  {
   "cell_type": "code",
   "execution_count": 33,
   "id": "static-muslim",
   "metadata": {},
   "outputs": [
    {
     "data": {
      "text/plain": [
       "<AxesSubplot:ylabel='Density'>"
      ]
     },
     "execution_count": 33,
     "metadata": {},
     "output_type": "execute_result"
    },
    {
     "data": {
      "image/png": "[encoded data removed]",
      "text/plain": [
       "<Figure size 432x288 with 1 Axes>"
      ]
     },
     "metadata": {
      "needs_background": "light"
     },
     "output_type": "display_data"
    }
   ],
   "source": [
    "pd.Series(y_test-pred).plot.kde()"
   ]
  },
  {
   "cell_type": "code",
   "execution_count": null,
   "id": "radical-store",
   "metadata": {},
   "outputs": [],
   "source": [
    "import optuna"
   ]
  },
  {
   "cell_type": "code",
   "execution_count": 61,
   "id": "understood-platform",
   "metadata": {},
   "outputs": [],
   "source": [
    "def objective(trial):\n",
    "    # Invoke suggest methods of a Trial object to generate hyperparameters.\n",
    "    eta = trial.suggest_float('eta', 0.1, 1)\n",
    "    gamma = trial.suggest_float('gamma', 0.1, 1)\n",
    "    max_depth = trial.suggest_int('max_depth', 0, 32)\n",
    "    model = XGBRegressor(predictor='gpu_predictor',eta=eta,gamma=gamma,max_depth=max_depth)\n",
    "    model.fit(X_train, y_train)\n",
    "    y_pred = model.predict(X_test)\n",
    "\n",
    "    error = metrics.mean_squared_error(y_test, y_pred)\n",
    "\n",
    "    return error  # An objective value linked with the Trial object."
   ]
  },
  {
   "cell_type": "code",
   "execution_count": 60,
   "id": "religious-sessions",
   "metadata": {
    "scrolled": true
   },
   "outputs": [
    {
     "name": "stderr",
     "output_type": "stream",
     "text": [
      "\u001b[32m[I 2021-01-25 12:10:05,547]\u001b[0m A new study created in memory with name: no-name-2e2fb6b7-c887-4559-b6ab-848b9b34fec9\u001b[0m\n",
      "\u001b[32m[I 2021-01-25 12:10:16,880]\u001b[0m Trial 0 finished with value: 2111101.8519103373 and parameters: {'eta': 0.36305196935035033, 'gamma': 0.6810445101333831, 'max_depth': 30}. Best is trial 0 with value: 2111101.8519103373.\u001b[0m\n",
      "\u001b[32m[I 2021-01-25 12:10:21,113]\u001b[0m Trial 1 finished with value: 2522461.8069605567 and parameters: {'eta': 0.45585806231356507, 'gamma': 0.5644604320649522, 'max_depth': 15}. Best is trial 0 with value: 2111101.8519103373.\u001b[0m\n",
      "\u001b[32m[I 2021-01-25 12:10:25,978]\u001b[0m Trial 2 finished with value: 2251772.375458706 and parameters: {'eta': 0.37290751226926944, 'gamma': 0.9893796912024472, 'max_depth': 16}. Best is trial 0 with value: 2111101.8519103373.\u001b[0m\n",
      "\u001b[32m[I 2021-01-25 12:10:29,803]\u001b[0m Trial 3 finished with value: 2300323.483430533 and parameters: {'eta': 0.7941518356769749, 'gamma': 0.46111731426134894, 'max_depth': 14}. Best is trial 0 with value: 2111101.8519103373.\u001b[0m\n",
      "\u001b[32m[I 2021-01-25 12:10:37,904]\u001b[0m Trial 4 finished with value: 2513241.3351751603 and parameters: {'eta': 0.6629739198748604, 'gamma': 0.8815712653269485, 'max_depth': 25}. Best is trial 0 with value: 2111101.8519103373.\u001b[0m\n",
      "\u001b[32m[I 2021-01-25 12:10:38,248]\u001b[0m Trial 5 finished with value: 20407201.9083256 and parameters: {'eta': 0.1455081876706659, 'gamma': 0.5590091223008713, 'max_depth': 0}. Best is trial 0 with value: 2111101.8519103373.\u001b[0m\n",
      "\u001b[32m[I 2021-01-25 12:10:47,734]\u001b[0m Trial 6 finished with value: 2320692.2862355914 and parameters: {'eta': 0.5446406624810818, 'gamma': 0.9574494110339122, 'max_depth': 24}. Best is trial 0 with value: 2111101.8519103373.\u001b[0m\n",
      "\u001b[32m[I 2021-01-25 12:10:48,534]\u001b[0m Trial 7 finished with value: 1985949.1397488846 and parameters: {'eta': 0.5795093381283095, 'gamma': 0.325666273340414, 'max_depth': 6}. Best is trial 7 with value: 1985949.1397488846.\u001b[0m\n",
      "\u001b[32m[I 2021-01-25 12:10:54,250]\u001b[0m Trial 8 finished with value: 2193734.841029187 and parameters: {'eta': 0.43796253689312914, 'gamma': 0.10574092696368675, 'max_depth': 19}. Best is trial 7 with value: 1985949.1397488846.\u001b[0m\n",
      "\u001b[32m[I 2021-01-25 12:11:00,844]\u001b[0m Trial 9 finished with value: 2642872.4930697815 and parameters: {'eta': 0.822844233547026, 'gamma': 0.3471384412102153, 'max_depth': 21}. Best is trial 7 with value: 1985949.1397488846.\u001b[0m\n",
      "\u001b[32m[I 2021-01-25 12:11:01,492]\u001b[0m Trial 10 finished with value: 2761672.4909113017 and parameters: {'eta': 0.9885363400306861, 'gamma': 0.11478264081241041, 'max_depth': 4}. Best is trial 7 with value: 1985949.1397488846.\u001b[0m\n",
      "\u001b[32m[I 2021-01-25 12:11:11,465]\u001b[0m Trial 11 finished with value: 2116956.1714350246 and parameters: {'eta': 0.21108232026900958, 'gamma': 0.7763470089674724, 'max_depth': 32}. Best is trial 7 with value: 1985949.1397488846.\u001b[0m\n",
      "\u001b[32m[I 2021-01-25 12:11:12,377]\u001b[0m Trial 12 finished with value: 2060903.3716763929 and parameters: {'eta': 0.2757196380379919, 'gamma': 0.308209022178709, 'max_depth': 7}. Best is trial 7 with value: 1985949.1397488846.\u001b[0m\n",
      "\u001b[32m[I 2021-01-25 12:11:13,506]\u001b[0m Trial 13 finished with value: 2113717.222173355 and parameters: {'eta': 0.6525575820605453, 'gamma': 0.2655310751860665, 'max_depth': 8}. Best is trial 7 with value: 1985949.1397488846.\u001b[0m\n",
      "\u001b[32m[I 2021-01-25 12:11:14,575]\u001b[0m Trial 14 finished with value: 1856760.753530437 and parameters: {'eta': 0.2652251476917185, 'gamma': 0.2620754349524943, 'max_depth': 8}. Best is trial 14 with value: 1856760.753530437.\u001b[0m\n",
      "\u001b[32m[I 2021-01-25 12:11:16,047]\u001b[0m Trial 15 finished with value: 1884214.9615869627 and parameters: {'eta': 0.1161319946299337, 'gamma': 0.200420666268468, 'max_depth': 10}. Best is trial 14 with value: 1856760.753530437.\u001b[0m\n",
      "\u001b[32m[I 2021-01-25 12:11:17,765]\u001b[0m Trial 16 finished with value: 1850927.1280736267 and parameters: {'eta': 0.14903002242340052, 'gamma': 0.17995787642161182, 'max_depth': 11}. Best is trial 16 with value: 1850927.1280736267.\u001b[0m\n",
      "\u001b[32m[I 2021-01-25 12:11:18,129]\u001b[0m Trial 17 finished with value: 20407202.217770718 and parameters: {'eta': 0.2504405864193586, 'gamma': 0.42676402309289907, 'max_depth': 0}. Best is trial 16 with value: 1850927.1280736267.\u001b[0m\n",
      "\u001b[32m[I 2021-01-25 12:11:19,869]\u001b[0m Trial 18 finished with value: 1950857.3893557186 and parameters: {'eta': 0.105744937051239, 'gamma': 0.17826978053490472, 'max_depth': 11}. Best is trial 16 with value: 1850927.1280736267.\u001b[0m\n",
      "\u001b[32m[I 2021-01-25 12:11:20,369]\u001b[0m Trial 19 finished with value: 3924672.761999227 and parameters: {'eta': 0.18892384457450107, 'gamma': 0.18572269249004125, 'max_depth': 2}. Best is trial 16 with value: 1850927.1280736267.\u001b[0m\n",
      "\u001b[32m[I 2021-01-25 12:11:22,683]\u001b[0m Trial 20 finished with value: 1967071.0485636129 and parameters: {'eta': 0.30005252997417153, 'gamma': 0.4329494307806633, 'max_depth': 12}. Best is trial 16 with value: 1850927.1280736267.\u001b[0m\n",
      "\u001b[32m[I 2021-01-25 12:11:24,105]\u001b[0m Trial 21 finished with value: 1823682.2684737998 and parameters: {'eta': 0.10037268795062773, 'gamma': 0.22996163351450932, 'max_depth': 10}. Best is trial 21 with value: 1823682.2684737998.\u001b[0m\n",
      "\u001b[32m[I 2021-01-25 12:11:25,593]\u001b[0m Trial 22 finished with value: 1806350.8072385446 and parameters: {'eta': 0.16636587671720643, 'gamma': 0.10138326478071893, 'max_depth': 10}. Best is trial 22 with value: 1806350.8072385446.\u001b[0m\n",
      "\u001b[32m[I 2021-01-25 12:11:27,921]\u001b[0m Trial 23 finished with value: 1939461.4949429056 and parameters: {'eta': 0.11115924131838378, 'gamma': 0.12321489704441393, 'max_depth': 13}. Best is trial 22 with value: 1806350.8072385446.\u001b[0m\n",
      "\u001b[32m[I 2021-01-25 12:11:33,871]\u001b[0m Trial 24 finished with value: 2126688.3256168095 and parameters: {'eta': 0.17544657677591122, 'gamma': 0.10103563685181338, 'max_depth': 18}. Best is trial 22 with value: 1806350.8072385446.\u001b[0m\n",
      "\u001b[32m[I 2021-01-25 12:11:34,500]\u001b[0m Trial 25 finished with value: 2913461.5600272673 and parameters: {'eta': 0.10336601197486642, 'gamma': 0.2288854270910497, 'max_depth': 4}. Best is trial 22 with value: 1806350.8072385446.\u001b[0m\n",
      "\u001b[32m[I 2021-01-25 12:11:36,104]\u001b[0m Trial 26 finished with value: 2107236.6597707705 and parameters: {'eta': 0.3370417519691122, 'gamma': 0.3678987681417015, 'max_depth': 10}. Best is trial 22 with value: 1806350.8072385446.\u001b[0m\n",
      "\u001b[32m[I 2021-01-25 12:11:36,808]\u001b[0m Trial 27 finished with value: 2320651.893552871 and parameters: {'eta': 0.21181276438999436, 'gamma': 0.1470757789874607, 'max_depth': 5}. Best is trial 22 with value: 1806350.8072385446.\u001b[0m\n",
      "\u001b[32m[I 2021-01-25 12:11:38,125]\u001b[0m Trial 28 finished with value: 1969203.8597494182 and parameters: {'eta': 0.41359033669302453, 'gamma': 0.25677817427664934, 'max_depth': 9}. Best is trial 22 with value: 1806350.8072385446.\u001b[0m\n",
      "\u001b[32m[I 2021-01-25 12:11:43,599]\u001b[0m Trial 29 finished with value: 2354726.451831658 and parameters: {'eta': 0.34317480255622934, 'gamma': 0.6410346156532887, 'max_depth': 17}. Best is trial 22 with value: 1806350.8072385446.\u001b[0m\n",
      "\u001b[32m[I 2021-01-25 12:11:46,041]\u001b[0m Trial 30 finished with value: 2015332.4559672878 and parameters: {'eta': 0.16687856649658986, 'gamma': 0.4860507817727172, 'max_depth': 13}. Best is trial 22 with value: 1806350.8072385446.\u001b[0m\n",
      "\u001b[32m[I 2021-01-25 12:11:46,977]\u001b[0m Trial 31 finished with value: 1949738.6038946675 and parameters: {'eta': 0.24609556685750494, 'gamma': 0.25282878386204577, 'max_depth': 7}. Best is trial 22 with value: 1806350.8072385446.\u001b[0m\n",
      "\u001b[32m[I 2021-01-25 12:11:48,446]\u001b[0m Trial 32 finished with value: 1894068.826529876 and parameters: {'eta': 0.14517496770527288, 'gamma': 0.17513443324394917, 'max_depth': 10}. Best is trial 22 with value: 1806350.8072385446.\u001b[0m\n",
      "\u001b[32m[I 2021-01-25 12:11:51,869]\u001b[0m Trial 33 finished with value: 2115206.748719307 and parameters: {'eta': 0.2901641203062131, 'gamma': 0.38332199589785787, 'max_depth': 14}. Best is trial 22 with value: 1806350.8072385446.\u001b[0m\n",
      "\u001b[32m[I 2021-01-25 12:11:56,075]\u001b[0m Trial 34 finished with value: 2017666.8198550546 and parameters: {'eta': 0.24195922701046568, 'gamma': 0.2691067744655119, 'max_depth': 15}. Best is trial 22 with value: 1806350.8072385446.\u001b[0m\n",
      "\u001b[32m[I 2021-01-25 12:11:56,627]\u001b[0m Trial 35 finished with value: 2526024.031885812 and parameters: {'eta': 0.5043194473485282, 'gamma': 0.2935792085671999, 'max_depth': 3}. Best is trial 22 with value: 1806350.8072385446.\u001b[0m\n"
     ]
    },
    {
     "name": "stderr",
     "output_type": "stream",
     "text": [
      "\u001b[32m[I 2021-01-25 12:11:57,734]\u001b[0m Trial 36 finished with value: 2028834.4034744953 and parameters: {'eta': 0.3935553778468983, 'gamma': 0.22225744898777566, 'max_depth': 8}. Best is trial 22 with value: 1806350.8072385446.\u001b[0m\n",
      "\u001b[32m[I 2021-01-25 12:11:59,646]\u001b[0m Trial 37 finished with value: 1972002.6213956343 and parameters: {'eta': 0.31818419681513793, 'gamma': 0.49816870971269, 'max_depth': 11}. Best is trial 22 with value: 1806350.8072385446.\u001b[0m\n",
      "\u001b[32m[I 2021-01-25 12:12:03,004]\u001b[0m Trial 38 finished with value: 2092098.4975858037 and parameters: {'eta': 0.13535669953053486, 'gamma': 0.1478458223689414, 'max_depth': 15}. Best is trial 22 with value: 1806350.8072385446.\u001b[0m\n",
      "\u001b[32m[I 2021-01-25 12:12:03,492]\u001b[0m Trial 39 finished with value: 3968258.1381663843 and parameters: {'eta': 0.19335543900365834, 'gamma': 0.6244421488991571, 'max_depth': 2}. Best is trial 22 with value: 1806350.8072385446.\u001b[0m\n",
      "\u001b[32m[I 2021-01-25 12:12:04,438]\u001b[0m Trial 40 finished with value: 2024767.6811807838 and parameters: {'eta': 0.3631986489819147, 'gamma': 0.3979867474628402, 'max_depth': 7}. Best is trial 22 with value: 1806350.8072385446.\u001b[0m\n",
      "\u001b[32m[I 2021-01-25 12:12:05,714]\u001b[0m Trial 41 finished with value: 1848825.547941092 and parameters: {'eta': 0.11982541840575849, 'gamma': 0.2068540080291456, 'max_depth': 9}. Best is trial 22 with value: 1806350.8072385446.\u001b[0m\n",
      "\u001b[32m[I 2021-01-25 12:12:07,636]\u001b[0m Trial 42 finished with value: 1871841.5384310854 and parameters: {'eta': 0.10260477934908042, 'gamma': 0.14971732746846173, 'max_depth': 12}. Best is trial 22 with value: 1806350.8072385446.\u001b[0m\n",
      "\u001b[32m[I 2021-01-25 12:12:08,844]\u001b[0m Trial 43 finished with value: 1979944.0010773311 and parameters: {'eta': 0.15258599071713005, 'gamma': 0.10190088192639667, 'max_depth': 9}. Best is trial 22 with value: 1806350.8072385446.\u001b[0m\n",
      "\u001b[32m[I 2021-01-25 12:12:09,649]\u001b[0m Trial 44 finished with value: 2075560.6522417793 and parameters: {'eta': 0.22678264441028445, 'gamma': 0.32847785130982193, 'max_depth': 6}. Best is trial 22 with value: 1806350.8072385446.\u001b[0m\n",
      "\u001b[32m[I 2021-01-25 12:12:12,349]\u001b[0m Trial 45 finished with value: 2356970.407044579 and parameters: {'eta': 0.7922698416924866, 'gamma': 0.20648627194001948, 'max_depth': 12}. Best is trial 22 with value: 1806350.8072385446.\u001b[0m\n",
      "\u001b[32m[I 2021-01-25 12:12:13,069]\u001b[0m Trial 46 finished with value: 2051250.0361744335 and parameters: {'eta': 0.2692408200947434, 'gamma': 0.3052744059071812, 'max_depth': 5}. Best is trial 22 with value: 1806350.8072385446.\u001b[0m\n",
      "\u001b[32m[I 2021-01-25 12:12:14,293]\u001b[0m Trial 47 finished with value: 1771710.4026982312 and parameters: {'eta': 0.16552177999896972, 'gamma': 0.7486655274331668, 'max_depth': 9}. Best is trial 47 with value: 1771710.4026982312.\u001b[0m\n",
      "\u001b[32m[I 2021-01-25 12:12:17,115]\u001b[0m Trial 48 finished with value: 2051825.459757384 and parameters: {'eta': 0.15875623098121444, 'gamma': 0.7981104213801451, 'max_depth': 14}. Best is trial 47 with value: 1771710.4026982312.\u001b[0m\n",
      "\u001b[32m[I 2021-01-25 12:12:21,292]\u001b[0m Trial 49 finished with value: 2093395.520891922 and parameters: {'eta': 0.1015016415025268, 'gamma': 0.7452584273340146, 'max_depth': 16}. Best is trial 47 with value: 1771710.4026982312.\u001b[0m\n",
      "\u001b[32m[I 2021-01-25 12:12:28,798]\u001b[0m Trial 50 finished with value: 2036156.5015814628 and parameters: {'eta': 0.19979060298837692, 'gamma': 0.926744063668054, 'max_depth': 20}. Best is trial 47 with value: 1771710.4026982312.\u001b[0m\n",
      "\u001b[32m[I 2021-01-25 12:12:30,052]\u001b[0m Trial 51 finished with value: 1875151.0801780343 and parameters: {'eta': 0.14408461103254386, 'gamma': 0.8173179819999048, 'max_depth': 9}. Best is trial 47 with value: 1771710.4026982312.\u001b[0m\n",
      "\u001b[32m[I 2021-01-25 12:12:31,874]\u001b[0m Trial 52 finished with value: 1904903.1796019068 and parameters: {'eta': 0.2106915188144024, 'gamma': 0.709033507947019, 'max_depth': 11}. Best is trial 47 with value: 1771710.4026982312.\u001b[0m\n",
      "\u001b[32m[I 2021-01-25 12:12:32,915]\u001b[0m Trial 53 finished with value: 1907434.1840117676 and parameters: {'eta': 0.10091219725584258, 'gamma': 0.8763542756936782, 'max_depth': 8}. Best is trial 47 with value: 1771710.4026982312.\u001b[0m\n",
      "\u001b[32m[I 2021-01-25 12:12:33,715]\u001b[0m Trial 54 finished with value: 2099097.967256717 and parameters: {'eta': 0.17921459447717233, 'gamma': 0.23236642835872345, 'max_depth': 6}. Best is trial 47 with value: 1771710.4026982312.\u001b[0m\n",
      "\u001b[32m[I 2021-01-25 12:12:35,257]\u001b[0m Trial 55 finished with value: 1880751.8728406224 and parameters: {'eta': 0.26886607053241507, 'gamma': 0.5726676242352474, 'max_depth': 10}. Best is trial 47 with value: 1771710.4026982312.\u001b[0m\n",
      "\u001b[32m[I 2021-01-25 12:12:36,335]\u001b[0m Trial 56 finished with value: 2124482.9208767414 and parameters: {'eta': 0.1280038028490612, 'gamma': 0.17621605131200466, 'max_depth': 8}. Best is trial 47 with value: 1771710.4026982312.\u001b[0m\n",
      "\u001b[32m[I 2021-01-25 12:12:46,288]\u001b[0m Trial 57 finished with value: 2211457.5054528946 and parameters: {'eta': 0.47597847481309363, 'gamma': 0.12733460543053526, 'max_depth': 27}. Best is trial 47 with value: 1771710.4026982312.\u001b[0m\n",
      "\u001b[32m[I 2021-01-25 12:12:49,032]\u001b[0m Trial 58 finished with value: 1936720.0654173526 and parameters: {'eta': 0.23260871562271668, 'gamma': 0.3528122772072306, 'max_depth': 13}. Best is trial 47 with value: 1771710.4026982312.\u001b[0m\n",
      "\u001b[32m[I 2021-01-25 12:12:49,960]\u001b[0m Trial 59 finished with value: 2070249.6049188222 and parameters: {'eta': 0.178775725763463, 'gamma': 0.29279126489991225, 'max_depth': 7}. Best is trial 47 with value: 1771710.4026982312.\u001b[0m\n",
      "\u001b[32m[I 2021-01-25 12:12:50,700]\u001b[0m Trial 60 finished with value: 2281258.56756128 and parameters: {'eta': 0.5975362941664452, 'gamma': 0.1010330874147501, 'max_depth': 5}. Best is trial 47 with value: 1771710.4026982312.\u001b[0m\n",
      "\u001b[32m[I 2021-01-25 12:12:52,683]\u001b[0m Trial 61 finished with value: 1887429.7751373125 and parameters: {'eta': 0.1204731954899427, 'gamma': 0.1533764836944644, 'max_depth': 12}. Best is trial 47 with value: 1771710.4026982312.\u001b[0m\n",
      "\u001b[32m[I 2021-01-25 12:12:53,886]\u001b[0m Trial 62 finished with value: 1912938.7404908964 and parameters: {'eta': 0.10808878357483892, 'gamma': 0.19926927229352331, 'max_depth': 9}. Best is trial 47 with value: 1771710.4026982312.\u001b[0m\n",
      "\u001b[32m[I 2021-01-25 12:12:55,641]\u001b[0m Trial 63 finished with value: 2134596.055563942 and parameters: {'eta': 0.1590696156129952, 'gamma': 0.9951718279188371, 'max_depth': 11}. Best is trial 47 with value: 1771710.4026982312.\u001b[0m\n",
      "\u001b[32m[I 2021-01-25 12:12:57,993]\u001b[0m Trial 64 finished with value: 1974885.9032767562 and parameters: {'eta': 0.10338359990106578, 'gamma': 0.15030923625541368, 'max_depth': 13}. Best is trial 47 with value: 1771710.4026982312.\u001b[0m\n",
      "\u001b[32m[I 2021-01-25 12:12:59,510]\u001b[0m Trial 65 finished with value: 1891936.051580366 and parameters: {'eta': 0.2083156327546863, 'gamma': 0.23568635679915861, 'max_depth': 10}. Best is trial 47 with value: 1771710.4026982312.\u001b[0m\n",
      "\u001b[32m[I 2021-01-25 12:13:01,460]\u001b[0m Trial 66 finished with value: 1930420.893888425 and parameters: {'eta': 0.1291908603857631, 'gamma': 0.2743779322178137, 'max_depth': 12}. Best is trial 47 with value: 1771710.4026982312.\u001b[0m\n",
      "\u001b[32m[I 2021-01-25 12:13:02,898]\u001b[0m Trial 67 finished with value: 2480265.3547471315 and parameters: {'eta': 0.9543660614723131, 'gamma': 0.1302649332817165, 'max_depth': 9}. Best is trial 47 with value: 1771710.4026982312.\u001b[0m\n",
      "\u001b[32m[I 2021-01-25 12:13:08,079]\u001b[0m Trial 68 finished with value: 2060173.33958195 and parameters: {'eta': 0.30632303301409947, 'gamma': 0.1923975871601023, 'max_depth': 17}. Best is trial 47 with value: 1771710.4026982312.\u001b[0m\n",
      "\u001b[32m[I 2021-01-25 12:13:10,081]\u001b[0m Trial 69 finished with value: 1908323.494366705 and parameters: {'eta': 0.26336816194306506, 'gamma': 0.1611244560173992, 'max_depth': 11}. Best is trial 47 with value: 1771710.4026982312.\u001b[0m\n",
      "\u001b[32m[I 2021-01-25 12:13:11,153]\u001b[0m Trial 70 finished with value: 1837650.0419117056 and parameters: {'eta': 0.18665672124035693, 'gamma': 0.22027773543309886, 'max_depth': 8}. Best is trial 47 with value: 1771710.4026982312.\u001b[0m\n",
      "\u001b[32m[I 2021-01-25 12:13:12,203]\u001b[0m Trial 71 finished with value: 1773182.293166253 and parameters: {'eta': 0.1662143014368339, 'gamma': 0.2197967926777505, 'max_depth': 8}. Best is trial 47 with value: 1771710.4026982312.\u001b[0m\n"
     ]
    },
    {
     "name": "stderr",
     "output_type": "stream",
     "text": [
      "\u001b[32m[I 2021-01-25 12:13:13,261]\u001b[0m Trial 72 finished with value: 1960746.2812809485 and parameters: {'eta': 0.17402813376991216, 'gamma': 0.2227275202419975, 'max_depth': 8}. Best is trial 47 with value: 1771710.4026982312.\u001b[0m\n",
      "\u001b[32m[I 2021-01-25 12:13:13,893]\u001b[0m Trial 73 finished with value: 2487463.6983094024 and parameters: {'eta': 0.22888603373735433, 'gamma': 0.25019264823639564, 'max_depth': 4}. Best is trial 47 with value: 1771710.4026982312.\u001b[0m\n",
      "\u001b[32m[I 2021-01-25 12:13:14,814]\u001b[0m Trial 74 finished with value: 1852125.163466805 and parameters: {'eta': 0.18883886111564485, 'gamma': 0.19753823216233332, 'max_depth': 7}. Best is trial 47 with value: 1771710.4026982312.\u001b[0m\n",
      "\u001b[32m[I 2021-01-25 12:13:15,630]\u001b[0m Trial 75 finished with value: 2113466.911511165 and parameters: {'eta': 0.19285011025216206, 'gamma': 0.33271899031313434, 'max_depth': 6}. Best is trial 47 with value: 1771710.4026982312.\u001b[0m\n",
      "\u001b[32m[I 2021-01-25 12:13:16,430]\u001b[0m Trial 76 finished with value: 2140179.820444585 and parameters: {'eta': 0.14297797146114147, 'gamma': 0.20811868985899418, 'max_depth': 6}. Best is trial 47 with value: 1771710.4026982312.\u001b[0m\n",
      "\u001b[32m[I 2021-01-25 12:13:16,978]\u001b[0m Trial 77 finished with value: 2873399.2503319276 and parameters: {'eta': 0.21611904087750572, 'gamma': 0.1804870377640347, 'max_depth': 3}. Best is trial 47 with value: 1771710.4026982312.\u001b[0m\n",
      "\u001b[32m[I 2021-01-25 12:13:17,902]\u001b[0m Trial 78 finished with value: 1876007.7149948082 and parameters: {'eta': 0.16908282018967444, 'gamma': 0.2758077530180033, 'max_depth': 7}. Best is trial 47 with value: 1771710.4026982312.\u001b[0m\n",
      "\u001b[32m[I 2021-01-25 12:13:19,418]\u001b[0m Trial 79 finished with value: 1889790.2730948753 and parameters: {'eta': 0.2909663295783993, 'gamma': 0.125765672405199, 'max_depth': 10}. Best is trial 47 with value: 1771710.4026982312.\u001b[0m\n",
      "\u001b[32m[I 2021-01-25 12:13:20,714]\u001b[0m Trial 80 finished with value: 1950495.4344893713 and parameters: {'eta': 0.24542543678203438, 'gamma': 0.210927463147568, 'max_depth': 9}. Best is trial 47 with value: 1771710.4026982312.\u001b[0m\n",
      "\u001b[32m[I 2021-01-25 12:13:21,652]\u001b[0m Trial 81 finished with value: 1812565.0320690381 and parameters: {'eta': 0.1914784611596116, 'gamma': 0.24355822217582943, 'max_depth': 7}. Best is trial 47 with value: 1771710.4026982312.\u001b[0m\n",
      "\u001b[32m[I 2021-01-25 12:13:22,556]\u001b[0m Trial 82 finished with value: 2178845.099147591 and parameters: {'eta': 0.1290400737263897, 'gamma': 0.24511670269607022, 'max_depth': 7}. Best is trial 47 with value: 1771710.4026982312.\u001b[0m\n",
      "\u001b[32m[I 2021-01-25 12:13:23,268]\u001b[0m Trial 83 finished with value: 2290951.267238544 and parameters: {'eta': 0.1933412597183528, 'gamma': 0.1727395368042268, 'max_depth': 5}. Best is trial 47 with value: 1771710.4026982312.\u001b[0m\n",
      "\u001b[32m[I 2021-01-25 12:13:24,320]\u001b[0m Trial 84 finished with value: 2071640.1813577886 and parameters: {'eta': 0.15040528961540392, 'gamma': 0.3113985007344381, 'max_depth': 8}. Best is trial 47 with value: 1771710.4026982312.\u001b[0m\n",
      "\u001b[32m[I 2021-01-25 12:13:25,824]\u001b[0m Trial 85 finished with value: 1840532.1458579833 and parameters: {'eta': 0.1641277877953627, 'gamma': 0.27800265324658185, 'max_depth': 10}. Best is trial 47 with value: 1771710.4026982312.\u001b[0m\n",
      "\u001b[32m[I 2021-01-25 12:13:27,305]\u001b[0m Trial 86 finished with value: 2123400.8966952455 and parameters: {'eta': 0.15805362446367716, 'gamma': 0.2763940403602313, 'max_depth': 10}. Best is trial 47 with value: 1771710.4026982312.\u001b[0m\n",
      "\u001b[32m[I 2021-01-25 12:13:29,001]\u001b[0m Trial 87 finished with value: 1835221.4334055479 and parameters: {'eta': 0.12473983250286269, 'gamma': 0.2280165429134837, 'max_depth': 11}. Best is trial 47 with value: 1771710.4026982312.\u001b[0m\n",
      "\u001b[32m[I 2021-01-25 12:13:30,233]\u001b[0m Trial 88 finished with value: 1891432.6490200902 and parameters: {'eta': 0.12035270931083325, 'gamma': 0.3940373432364129, 'max_depth': 9}. Best is trial 47 with value: 1771710.4026982312.\u001b[0m\n",
      "\u001b[32m[I 2021-01-25 12:13:33,458]\u001b[0m Trial 89 finished with value: 2013364.7247958032 and parameters: {'eta': 0.2261063261748535, 'gamma': 0.3007189878752061, 'max_depth': 14}. Best is trial 47 with value: 1771710.4026982312.\u001b[0m\n",
      "\u001b[32m[I 2021-01-25 12:13:34,566]\u001b[0m Trial 90 finished with value: 1976448.0957424515 and parameters: {'eta': 0.2517934908100756, 'gamma': 0.3508774559913089, 'max_depth': 8}. Best is trial 47 with value: 1771710.4026982312.\u001b[0m\n",
      "\u001b[32m[I 2021-01-25 12:13:36,294]\u001b[0m Trial 91 finished with value: 1884930.8494994945 and parameters: {'eta': 0.14318989330349507, 'gamma': 0.22701118040009, 'max_depth': 11}. Best is trial 47 with value: 1771710.4026982312.\u001b[0m\n",
      "\u001b[32m[I 2021-01-25 12:13:37,752]\u001b[0m Trial 92 finished with value: 1801144.460121368 and parameters: {'eta': 0.16656749484599243, 'gamma': 0.24046909827941548, 'max_depth': 10}. Best is trial 47 with value: 1771710.4026982312.\u001b[0m\n",
      "\u001b[32m[I 2021-01-25 12:13:39,870]\u001b[0m Trial 93 finished with value: 1932134.3152990798 and parameters: {'eta': 0.16945189588148907, 'gamma': 0.25229077202418226, 'max_depth': 12}. Best is trial 47 with value: 1771710.4026982312.\u001b[0m\n",
      "\u001b[32m[I 2021-01-25 12:13:41,366]\u001b[0m Trial 94 finished with value: 1789489.634186157 and parameters: {'eta': 0.20772301108442173, 'gamma': 0.5383080510864685, 'max_depth': 10}. Best is trial 47 with value: 1771710.4026982312.\u001b[0m\n",
      "\u001b[32m[I 2021-01-25 12:13:42,833]\u001b[0m Trial 95 finished with value: 1841601.250249515 and parameters: {'eta': 0.20512577460031528, 'gamma': 0.5318522103152994, 'max_depth': 10}. Best is trial 47 with value: 1771710.4026982312.\u001b[0m\n",
      "\u001b[32m[I 2021-01-25 12:13:43,895]\u001b[0m Trial 96 finished with value: 2005389.7362873077 and parameters: {'eta': 0.18293595015031133, 'gamma': 0.4405209415142105, 'max_depth': 8}. Best is trial 47 with value: 1771710.4026982312.\u001b[0m\n",
      "\u001b[32m[I 2021-01-25 12:13:45,626]\u001b[0m Trial 97 finished with value: 1854885.1397707786 and parameters: {'eta': 0.10101904563738982, 'gamma': 0.675667345803725, 'max_depth': 11}. Best is trial 47 with value: 1771710.4026982312.\u001b[0m\n",
      "\u001b[32m[I 2021-01-25 12:13:49,499]\u001b[0m Trial 98 finished with value: 2326727.008038002 and parameters: {'eta': 0.2134239832337648, 'gamma': 0.8723403276146762, 'max_depth': 15}. Best is trial 47 with value: 1771710.4026982312.\u001b[0m\n",
      "\u001b[32m[I 2021-01-25 12:13:51,902]\u001b[0m Trial 99 finished with value: 2042470.6939289873 and parameters: {'eta': 0.13620523650490463, 'gamma': 0.3706447786784138, 'max_depth': 13}. Best is trial 47 with value: 1771710.4026982312.\u001b[0m\n",
      "\u001b[32m[I 2021-01-25 12:13:53,492]\u001b[0m Trial 100 finished with value: 2124896.5723688467 and parameters: {'eta': 0.3439410188264412, 'gamma': 0.6220829838865074, 'max_depth': 10}. Best is trial 47 with value: 1771710.4026982312.\u001b[0m\n",
      "\u001b[32m[I 2021-01-25 12:13:54,768]\u001b[0m Trial 101 finished with value: 1887627.7470352638 and parameters: {'eta': 0.20729169497310612, 'gamma': 0.4690185897279565, 'max_depth': 9}. Best is trial 47 with value: 1771710.4026982312.\u001b[0m\n",
      "\u001b[32m[I 2021-01-25 12:13:56,236]\u001b[0m Trial 102 finished with value: 1918052.7615229976 and parameters: {'eta': 0.1635742818417495, 'gamma': 0.59543167082681, 'max_depth': 10}. Best is trial 47 with value: 1771710.4026982312.\u001b[0m\n",
      "\u001b[32m[I 2021-01-25 12:13:57,044]\u001b[0m Trial 103 finished with value: 1986411.1233515437 and parameters: {'eta': 0.24563287622279603, 'gamma': 0.515711404717447, 'max_depth': 6}. Best is trial 47 with value: 1771710.4026982312.\u001b[0m\n",
      "\u001b[32m[I 2021-01-25 12:13:58,849]\u001b[0m Trial 104 finished with value: 1876067.536533329 and parameters: {'eta': 0.19327066061525836, 'gamma': 0.5255399949920951, 'max_depth': 11}. Best is trial 47 with value: 1771710.4026982312.\u001b[0m\n",
      "\u001b[32m[I 2021-01-25 12:14:00,141]\u001b[0m Trial 105 finished with value: 1807085.661019993 and parameters: {'eta': 0.2246694275099238, 'gamma': 0.5465797691551768, 'max_depth': 9}. Best is trial 47 with value: 1771710.4026982312.\u001b[0m\n",
      "\u001b[32m[I 2021-01-25 12:14:01,183]\u001b[0m Trial 106 finished with value: 2064859.521272262 and parameters: {'eta': 0.1165256088383192, 'gamma': 0.5536968902637224, 'max_depth': 8}. Best is trial 47 with value: 1771710.4026982312.\u001b[0m\n",
      "\u001b[32m[I 2021-01-25 12:14:03,478]\u001b[0m Trial 107 finished with value: 2107514.426847829 and parameters: {'eta': 0.2844586385288299, 'gamma': 0.28137323549570886, 'max_depth': 12}. Best is trial 47 with value: 1771710.4026982312.\u001b[0m\n"
     ]
    },
    {
     "name": "stderr",
     "output_type": "stream",
     "text": [
      "\u001b[32m[I 2021-01-25 12:14:04,758]\u001b[0m Trial 108 finished with value: 1734688.4097678615 and parameters: {'eta': 0.2236907890037729, 'gamma': 0.9600105007725918, 'max_depth': 9}. Best is trial 108 with value: 1734688.4097678615.\u001b[0m\n",
      "\u001b[32m[I 2021-01-25 12:14:05,694]\u001b[0m Trial 109 finished with value: 1829353.5598464913 and parameters: {'eta': 0.2621899274207117, 'gamma': 0.5862835348484269, 'max_depth': 7}. Best is trial 108 with value: 1734688.4097678615.\u001b[0m\n",
      "\u001b[32m[I 2021-01-25 12:14:06,620]\u001b[0m Trial 110 finished with value: 1893744.3112848636 and parameters: {'eta': 0.32420643056410403, 'gamma': 0.9682719913056328, 'max_depth': 7}. Best is trial 108 with value: 1734688.4097678615.\u001b[0m\n",
      "\u001b[32m[I 2021-01-25 12:14:07,861]\u001b[0m Trial 111 finished with value: 1825613.6670523582 and parameters: {'eta': 0.2338155595205458, 'gamma': 0.8519869000886654, 'max_depth': 9}. Best is trial 108 with value: 1734688.4097678615.\u001b[0m\n",
      "\u001b[32m[I 2021-01-25 12:14:09,172]\u001b[0m Trial 112 finished with value: 1894007.3772154548 and parameters: {'eta': 0.31342026165653425, 'gamma': 0.8967865462281962, 'max_depth': 9}. Best is trial 108 with value: 1734688.4097678615.\u001b[0m\n",
      "\u001b[32m[I 2021-01-25 12:14:09,912]\u001b[0m Trial 113 finished with value: 2120072.798309897 and parameters: {'eta': 0.2598170409125524, 'gamma': 0.7128756579359345, 'max_depth': 5}. Best is trial 108 with value: 1734688.4097678615.\u001b[0m\n",
      "\u001b[32m[I 2021-01-25 12:14:10,940]\u001b[0m Trial 114 finished with value: 1940149.1860427994 and parameters: {'eta': 0.2771692359776774, 'gamma': 0.8453659737598543, 'max_depth': 7}. Best is trial 108 with value: 1734688.4097678615.\u001b[0m\n",
      "\u001b[32m[I 2021-01-25 12:14:12,288]\u001b[0m Trial 115 finished with value: 1846068.8798280333 and parameters: {'eta': 0.22540842698379665, 'gamma': 0.773088990160931, 'max_depth': 9}. Best is trial 108 with value: 1734688.4097678615.\u001b[0m\n",
      "\u001b[32m[I 2021-01-25 12:14:13,548]\u001b[0m Trial 116 finished with value: 2316840.9783638604 and parameters: {'eta': 0.7237919370111475, 'gamma': 0.9189206227228551, 'max_depth': 8}. Best is trial 108 with value: 1734688.4097678615.\u001b[0m\n",
      "\u001b[32m[I 2021-01-25 12:14:14,541]\u001b[0m Trial 117 finished with value: 1870164.070964201 and parameters: {'eta': 0.24245797015790382, 'gamma': 0.6697813523655485, 'max_depth': 7}. Best is trial 108 with value: 1734688.4097678615.\u001b[0m\n",
      "\u001b[32m[I 2021-01-25 12:14:15,373]\u001b[0m Trial 118 finished with value: 1870836.2288795055 and parameters: {'eta': 0.22181987998960512, 'gamma': 0.5763430468812567, 'max_depth': 6}. Best is trial 108 with value: 1734688.4097678615.\u001b[0m\n",
      "\u001b[32m[I 2021-01-25 12:14:17,204]\u001b[0m Trial 119 finished with value: 1867704.2171304575 and parameters: {'eta': 0.2343347537303947, 'gamma': 0.8390494340415211, 'max_depth': 11}. Best is trial 108 with value: 1734688.4097678615.\u001b[0m\n",
      "\u001b[32m[I 2021-01-25 12:14:18,507]\u001b[0m Trial 120 finished with value: 1870121.679552123 and parameters: {'eta': 0.26486089826327064, 'gamma': 0.9752629647571613, 'max_depth': 9}. Best is trial 108 with value: 1734688.4097678615.\u001b[0m\n",
      "\u001b[32m[I 2021-01-25 12:14:19,594]\u001b[0m Trial 121 finished with value: 2039218.0123537013 and parameters: {'eta': 0.18070906975849255, 'gamma': 0.7542188841302881, 'max_depth': 8}. Best is trial 108 with value: 1734688.4097678615.\u001b[0m\n",
      "\u001b[32m[I 2021-01-25 12:14:21,078]\u001b[0m Trial 122 finished with value: 1776949.1996519084 and parameters: {'eta': 0.1910691381411593, 'gamma': 0.9325538482646888, 'max_depth': 10}. Best is trial 108 with value: 1734688.4097678615.\u001b[0m\n",
      "\u001b[32m[I 2021-01-25 12:14:22,606]\u001b[0m Trial 123 finished with value: 1840131.107266268 and parameters: {'eta': 0.19994128933210847, 'gamma': 0.9298835708833759, 'max_depth': 10}. Best is trial 108 with value: 1734688.4097678615.\u001b[0m\n",
      "\u001b[32m[I 2021-01-25 12:14:24,697]\u001b[0m Trial 124 finished with value: 1867796.3666674092 and parameters: {'eta': 0.15240903120681, 'gamma': 0.9511099814929292, 'max_depth': 12}. Best is trial 108 with value: 1734688.4097678615.\u001b[0m\n",
      "\u001b[32m[I 2021-01-25 12:14:25,933]\u001b[0m Trial 125 finished with value: 2083721.2166752245 and parameters: {'eta': 0.13739981016827818, 'gamma': 0.598310457112765, 'max_depth': 9}. Best is trial 108 with value: 1734688.4097678615.\u001b[0m\n",
      "\u001b[32m[I 2021-01-25 12:14:27,596]\u001b[0m Trial 126 finished with value: 1915207.198356178 and parameters: {'eta': 0.17337387671890833, 'gamma': 0.9058099139099851, 'max_depth': 11}. Best is trial 108 with value: 1734688.4097678615.\u001b[0m\n",
      "\u001b[32m[I 2021-01-25 12:14:29,109]\u001b[0m Trial 127 finished with value: 2110293.108935278 and parameters: {'eta': 0.21214553675834752, 'gamma': 0.9427036966785146, 'max_depth': 10}. Best is trial 108 with value: 1734688.4097678615.\u001b[0m\n",
      "\u001b[32m[I 2021-01-25 12:14:30,057]\u001b[0m Trial 128 finished with value: 1982912.2793956154 and parameters: {'eta': 0.23543128042854392, 'gamma': 0.9909226616254521, 'max_depth': 7}. Best is trial 108 with value: 1734688.4097678615.\u001b[0m\n",
      "\u001b[32m[I 2021-01-25 12:14:31,321]\u001b[0m Trial 129 finished with value: 2038958.3107436253 and parameters: {'eta': 0.19656941440553014, 'gamma': 0.8049454087316218, 'max_depth': 9}. Best is trial 108 with value: 1734688.4097678615.\u001b[0m\n",
      "\u001b[32m[I 2021-01-25 12:14:32,117]\u001b[0m Trial 130 finished with value: 2269915.9139822978 and parameters: {'eta': 0.12289265753261035, 'gamma': 0.8629071612815096, 'max_depth': 6}. Best is trial 108 with value: 1734688.4097678615.\u001b[0m\n",
      "\u001b[32m[I 2021-01-25 12:14:33,187]\u001b[0m Trial 131 finished with value: 1811743.7461533586 and parameters: {'eta': 0.17261316502731422, 'gamma': 0.6503528050756301, 'max_depth': 8}. Best is trial 108 with value: 1734688.4097678615.\u001b[0m\n",
      "\u001b[32m[I 2021-01-25 12:14:34,244]\u001b[0m Trial 132 finished with value: 1809693.234469513 and parameters: {'eta': 0.15452683899291875, 'gamma': 0.6484458472668759, 'max_depth': 8}. Best is trial 108 with value: 1734688.4097678615.\u001b[0m\n",
      "\u001b[32m[I 2021-01-25 12:14:34,884]\u001b[0m Trial 133 finished with value: 2559272.7526355945 and parameters: {'eta': 0.17478783054550784, 'gamma': 0.7075916339721466, 'max_depth': 4}. Best is trial 108 with value: 1734688.4097678615.\u001b[0m\n",
      "\u001b[32m[I 2021-01-25 12:14:35,948]\u001b[0m Trial 134 finished with value: 1765895.8034479374 and parameters: {'eta': 0.1627972428795899, 'gamma': 0.6608774036064501, 'max_depth': 8}. Best is trial 108 with value: 1734688.4097678615.\u001b[0m\n",
      "\u001b[32m[I 2021-01-25 12:14:43,978]\u001b[0m Trial 135 finished with value: 2059862.077649881 and parameters: {'eta': 0.14754399784324163, 'gamma': 0.6505791378776485, 'max_depth': 22}. Best is trial 108 with value: 1734688.4097678615.\u001b[0m\n",
      "\u001b[32m[I 2021-01-25 12:14:45,075]\u001b[0m Trial 136 finished with value: 1803662.1348174573 and parameters: {'eta': 0.1581252327339441, 'gamma': 0.7208179776832085, 'max_depth': 8}. Best is trial 108 with value: 1734688.4097678615.\u001b[0m\n",
      "\u001b[32m[I 2021-01-25 12:14:46,150]\u001b[0m Trial 137 finished with value: 2121252.2709454857 and parameters: {'eta': 0.15934353943468066, 'gamma': 0.7268071927631762, 'max_depth': 8}. Best is trial 108 with value: 1734688.4097678615.\u001b[0m\n",
      "\u001b[32m[I 2021-01-25 12:14:47,200]\u001b[0m Trial 138 finished with value: 1878683.7512105221 and parameters: {'eta': 0.10662902054172499, 'gamma': 0.6240371314946873, 'max_depth': 8}. Best is trial 108 with value: 1734688.4097678615.\u001b[0m\n",
      "\u001b[32m[I 2021-01-25 12:14:47,920]\u001b[0m Trial 139 finished with value: 2256694.6130140987 and parameters: {'eta': 0.18523506247296845, 'gamma': 0.6528553140373599, 'max_depth': 5}. Best is trial 108 with value: 1734688.4097678615.\u001b[0m\n",
      "\u001b[32m[I 2021-01-25 12:14:49,395]\u001b[0m Trial 140 finished with value: 1784060.839211887 and parameters: {'eta': 0.13837720012576443, 'gamma': 0.7022811496133805, 'max_depth': 10}. Best is trial 108 with value: 1734688.4097678615.\u001b[0m\n",
      "\u001b[32m[I 2021-01-25 12:14:50,887]\u001b[0m Trial 141 finished with value: 2031714.8187846246 and parameters: {'eta': 0.14196414503277738, 'gamma': 0.6988226831136344, 'max_depth': 10}. Best is trial 108 with value: 1734688.4097678615.\u001b[0m\n",
      "\u001b[32m[I 2021-01-25 12:14:52,100]\u001b[0m Trial 142 finished with value: 1864656.612788302 and parameters: {'eta': 0.16269056225895692, 'gamma': 0.7278740708042931, 'max_depth': 9}. Best is trial 108 with value: 1734688.4097678615.\u001b[0m\n",
      "\u001b[32m[I 2021-01-25 12:14:53,148]\u001b[0m Trial 143 finished with value: 2112985.9501847094 and parameters: {'eta': 0.1334291235954588, 'gamma': 0.6884369318313353, 'max_depth': 8}. Best is trial 108 with value: 1734688.4097678615.\u001b[0m\n"
     ]
    },
    {
     "name": "stderr",
     "output_type": "stream",
     "text": [
      "\u001b[32m[I 2021-01-25 12:14:54,591]\u001b[0m Trial 144 finished with value: 1783503.2432951308 and parameters: {'eta': 0.1009738459824973, 'gamma': 0.6384671682520547, 'max_depth': 10}. Best is trial 108 with value: 1734688.4097678615.\u001b[0m\n",
      "\u001b[32m[I 2021-01-25 12:14:55,527]\u001b[0m Trial 145 finished with value: 2045436.0117216117 and parameters: {'eta': 0.17993564701105033, 'gamma': 0.6550082702103953, 'max_depth': 7}. Best is trial 108 with value: 1734688.4097678615.\u001b[0m\n",
      "\u001b[32m[I 2021-01-25 12:14:57,024]\u001b[0m Trial 146 finished with value: 1789965.5935387604 and parameters: {'eta': 0.20193657164888562, 'gamma': 0.6320670398535803, 'max_depth': 10}. Best is trial 108 with value: 1734688.4097678615.\u001b[0m\n",
      "\u001b[32m[I 2021-01-25 12:14:58,511]\u001b[0m Trial 147 finished with value: 2112960.264989123 and parameters: {'eta': 0.1566002869058457, 'gamma': 0.6058855336666151, 'max_depth': 10}. Best is trial 108 with value: 1734688.4097678615.\u001b[0m\n",
      "\u001b[32m[I 2021-01-25 12:15:00,708]\u001b[0m Trial 148 finished with value: 1914534.7925728231 and parameters: {'eta': 0.20770754327211322, 'gamma': 0.6414448213024784, 'max_depth': 12}. Best is trial 108 with value: 1734688.4097678615.\u001b[0m\n",
      "\u001b[32m[I 2021-01-25 12:15:02,384]\u001b[0m Trial 149 finished with value: 1920397.9088246957 and parameters: {'eta': 0.10406351736879774, 'gamma': 0.6677246258061444, 'max_depth': 11}. Best is trial 108 with value: 1734688.4097678615.\u001b[0m\n",
      "\u001b[32m[I 2021-01-25 12:15:03,825]\u001b[0m Trial 150 finished with value: 1778121.6000545395 and parameters: {'eta': 0.13337099000563826, 'gamma': 0.6191992416185408, 'max_depth': 10}. Best is trial 108 with value: 1734688.4097678615.\u001b[0m\n",
      "\u001b[32m[I 2021-01-25 12:15:05,250]\u001b[0m Trial 151 finished with value: 1832242.2251337713 and parameters: {'eta': 0.12139242213625907, 'gamma': 0.6227105147214711, 'max_depth': 10}. Best is trial 108 with value: 1734688.4097678615.\u001b[0m\n",
      "\u001b[32m[I 2021-01-25 12:15:06,496]\u001b[0m Trial 152 finished with value: 1864081.397840482 and parameters: {'eta': 0.1470216244783373, 'gamma': 0.5401888551033993, 'max_depth': 9}. Best is trial 108 with value: 1734688.4097678615.\u001b[0m\n",
      "\u001b[32m[I 2021-01-25 12:15:07,952]\u001b[0m Trial 153 finished with value: 1870814.784297933 and parameters: {'eta': 0.16297540341381525, 'gamma': 0.633937281420013, 'max_depth': 10}. Best is trial 108 with value: 1734688.4097678615.\u001b[0m\n",
      "\u001b[32m[I 2021-01-25 12:15:09,701]\u001b[0m Trial 154 finished with value: 1842407.7633586235 and parameters: {'eta': 0.19827113179658037, 'gamma': 0.687161695342622, 'max_depth': 11}. Best is trial 108 with value: 1734688.4097678615.\u001b[0m\n",
      "\u001b[32m[I 2021-01-25 12:15:10,965]\u001b[0m Trial 155 finished with value: 1821280.3108396162 and parameters: {'eta': 0.1764270064428473, 'gamma': 0.6086494208907296, 'max_depth': 9}. Best is trial 108 with value: 1734688.4097678615.\u001b[0m\n",
      "\u001b[32m[I 2021-01-25 12:15:12,010]\u001b[0m Trial 156 finished with value: 1859833.0308717485 and parameters: {'eta': 0.1320482668170947, 'gamma': 0.5567653434653308, 'max_depth': 8}. Best is trial 108 with value: 1734688.4097678615.\u001b[0m\n",
      "\u001b[32m[I 2021-01-25 12:15:13,478]\u001b[0m Trial 157 finished with value: 1795827.7638310872 and parameters: {'eta': 0.2176225078209865, 'gamma': 0.6633570804977432, 'max_depth': 10}. Best is trial 108 with value: 1734688.4097678615.\u001b[0m\n",
      "\u001b[32m[I 2021-01-25 12:15:16,098]\u001b[0m Trial 158 finished with value: 1995318.631534841 and parameters: {'eta': 0.2092809695943833, 'gamma': 0.7530750484237769, 'max_depth': 13}. Best is trial 108 with value: 1734688.4097678615.\u001b[0m\n",
      "\u001b[32m[I 2021-01-25 12:15:18,009]\u001b[0m Trial 159 finished with value: 2139405.61916858 and parameters: {'eta': 0.224023624117215, 'gamma': 0.7268366088502031, 'max_depth': 11}. Best is trial 108 with value: 1734688.4097678615.\u001b[0m\n",
      "\u001b[32m[I 2021-01-25 12:15:19,461]\u001b[0m Trial 160 finished with value: 1754536.2234047644 and parameters: {'eta': 0.10260963645864124, 'gamma': 0.668355310057022, 'max_depth': 10}. Best is trial 108 with value: 1734688.4097678615.\u001b[0m\n",
      "\u001b[32m[I 2021-01-25 12:15:20,929]\u001b[0m Trial 161 finished with value: 2027106.6746469662 and parameters: {'eta': 0.11355354436231149, 'gamma': 0.6702301506022584, 'max_depth': 10}. Best is trial 108 with value: 1734688.4097678615.\u001b[0m\n",
      "\u001b[32m[I 2021-01-25 12:15:22,153]\u001b[0m Trial 162 finished with value: 1849822.894837134 and parameters: {'eta': 0.14641084105951582, 'gamma': 0.6705285034995305, 'max_depth': 9}. Best is trial 108 with value: 1734688.4097678615.\u001b[0m\n",
      "\u001b[32m[I 2021-01-25 12:15:24,387]\u001b[0m Trial 163 finished with value: 2015253.455807257 and parameters: {'eta': 0.18368157754236925, 'gamma': 0.6960255752245489, 'max_depth': 12}. Best is trial 108 with value: 1734688.4097678615.\u001b[0m\n",
      "\u001b[32m[I 2021-01-25 12:15:26,107]\u001b[0m Trial 164 finished with value: 1870149.491574869 and parameters: {'eta': 0.13366106732787073, 'gamma': 0.5769733321011727, 'max_depth': 11}. Best is trial 108 with value: 1734688.4097678615.\u001b[0m\n",
      "\u001b[32m[I 2021-01-25 12:15:27,562]\u001b[0m Trial 165 finished with value: 1833012.5483995294 and parameters: {'eta': 0.10175194109343402, 'gamma': 0.4914648092103873, 'max_depth': 10}. Best is trial 108 with value: 1734688.4097678615.\u001b[0m\n",
      "\u001b[32m[I 2021-01-25 12:15:28,802]\u001b[0m Trial 166 finished with value: 2021426.5186926988 and parameters: {'eta': 0.158724272097134, 'gamma': 0.7798900407788695, 'max_depth': 9}. Best is trial 108 with value: 1734688.4097678615.\u001b[0m\n",
      "\u001b[32m[I 2021-01-25 12:15:30,317]\u001b[0m Trial 167 finished with value: 1841105.5953314241 and parameters: {'eta': 0.19372763937903018, 'gamma': 0.635195848131825, 'max_depth': 10}. Best is trial 108 with value: 1734688.4097678615.\u001b[0m\n",
      "\u001b[32m[I 2021-01-25 12:15:32,155]\u001b[0m Trial 168 finished with value: 2161858.8658645786 and parameters: {'eta': 0.2155595699441139, 'gamma': 0.6834662006012507, 'max_depth': 11}. Best is trial 108 with value: 1734688.4097678615.\u001b[0m\n",
      "\u001b[32m[I 2021-01-25 12:15:33,373]\u001b[0m Trial 169 finished with value: 1817520.9359629091 and parameters: {'eta': 0.10023085625793317, 'gamma': 0.6160198276155676, 'max_depth': 9}. Best is trial 108 with value: 1734688.4097678615.\u001b[0m\n",
      "\u001b[32m[I 2021-01-25 12:15:34,435]\u001b[0m Trial 170 finished with value: 2076368.910212779 and parameters: {'eta': 0.16471631024660635, 'gamma': 0.738979933620745, 'max_depth': 8}. Best is trial 108 with value: 1734688.4097678615.\u001b[0m\n",
      "\u001b[32m[I 2021-01-25 12:15:35,519]\u001b[0m Trial 171 finished with value: 1891490.0940168984 and parameters: {'eta': 0.18415255719164847, 'gamma': 0.6593508665335465, 'max_depth': 8}. Best is trial 108 with value: 1734688.4097678615.\u001b[0m\n",
      "\u001b[32m[I 2021-01-25 12:15:36,764]\u001b[0m Trial 172 finished with value: 1809119.5561734636 and parameters: {'eta': 0.16959688006845944, 'gamma': 0.648787300574971, 'max_depth': 9}. Best is trial 108 with value: 1734688.4097678615.\u001b[0m\n",
      "\u001b[32m[I 2021-01-25 12:15:38,241]\u001b[0m Trial 173 finished with value: 1985234.7705874594 and parameters: {'eta': 0.14286113991994842, 'gamma': 0.6391028288538204, 'max_depth': 10}. Best is trial 108 with value: 1734688.4097678615.\u001b[0m\n",
      "\u001b[32m[I 2021-01-25 12:15:39,456]\u001b[0m Trial 174 finished with value: 1850188.3743319423 and parameters: {'eta': 0.1948673046002079, 'gamma': 0.7107575660306009, 'max_depth': 9}. Best is trial 108 with value: 1734688.4097678615.\u001b[0m\n",
      "\u001b[32m[I 2021-01-25 12:15:41,502]\u001b[0m Trial 175 finished with value: 1916173.4885550155 and parameters: {'eta': 0.11360853494421831, 'gamma': 0.6829619677738131, 'max_depth': 12}. Best is trial 108 with value: 1734688.4097678615.\u001b[0m\n",
      "\u001b[32m[I 2021-01-25 12:15:42,914]\u001b[0m Trial 176 finished with value: 2073309.3449829244 and parameters: {'eta': 0.1257749698717259, 'gamma': 0.5858521264031604, 'max_depth': 10}. Best is trial 108 with value: 1734688.4097678615.\u001b[0m\n",
      "\u001b[32m[I 2021-01-25 12:15:44,229]\u001b[0m Trial 177 finished with value: 1970953.3066271965 and parameters: {'eta': 0.24577004183175216, 'gamma': 0.6096245181939025, 'max_depth': 9}. Best is trial 108 with value: 1734688.4097678615.\u001b[0m\n",
      "\u001b[32m[I 2021-01-25 12:15:46,017]\u001b[0m Trial 178 finished with value: 1821397.5291483633 and parameters: {'eta': 0.16678157412669106, 'gamma': 0.6635740476389311, 'max_depth': 11}. Best is trial 108 with value: 1734688.4097678615.\u001b[0m\n",
      "\u001b[32m[I 2021-01-25 12:15:57,692]\u001b[0m Trial 179 finished with value: 2224946.2087378413 and parameters: {'eta': 0.5521980020740783, 'gamma': 0.7057068531050272, 'max_depth': 32}. Best is trial 108 with value: 1734688.4097678615.\u001b[0m\n"
     ]
    },
    {
     "name": "stderr",
     "output_type": "stream",
     "text": [
      "\u001b[32m[I 2021-01-25 12:15:58,759]\u001b[0m Trial 180 finished with value: 1757809.5794396612 and parameters: {'eta': 0.21944525177517002, 'gamma': 0.5092591194592055, 'max_depth': 8}. Best is trial 108 with value: 1734688.4097678615.\u001b[0m\n",
      "\u001b[32m[I 2021-01-25 12:15:59,867]\u001b[0m Trial 181 finished with value: 1970844.4297339667 and parameters: {'eta': 0.21134709934773713, 'gamma': 0.5048186790117546, 'max_depth': 8}. Best is trial 108 with value: 1734688.4097678615.\u001b[0m\n",
      "\u001b[32m[I 2021-01-25 12:16:01,159]\u001b[0m Trial 182 finished with value: 1815191.6992165719 and parameters: {'eta': 0.21877633248011027, 'gamma': 0.5577224971933376, 'max_depth': 9}. Best is trial 108 with value: 1734688.4097678615.\u001b[0m\n",
      "\u001b[32m[I 2021-01-25 12:16:02,634]\u001b[0m Trial 183 finished with value: 1898688.0628382196 and parameters: {'eta': 0.150059945980485, 'gamma': 0.4723696065731276, 'max_depth': 10}. Best is trial 108 with value: 1734688.4097678615.\u001b[0m\n",
      "\u001b[32m[I 2021-01-25 12:16:03,716]\u001b[0m Trial 184 finished with value: 2036488.2415439463 and parameters: {'eta': 0.19831137742829108, 'gamma': 0.5292474068343593, 'max_depth': 8}. Best is trial 108 with value: 1734688.4097678615.\u001b[0m\n",
      "\u001b[32m[I 2021-01-25 12:16:04,650]\u001b[0m Trial 185 finished with value: 2078545.1223929948 and parameters: {'eta': 0.23649842312807112, 'gamma': 0.6322048768643306, 'max_depth': 7}. Best is trial 108 with value: 1734688.4097678615.\u001b[0m\n",
      "\u001b[32m[I 2021-01-25 12:16:05,910]\u001b[0m Trial 186 finished with value: 1812793.5531820757 and parameters: {'eta': 0.1769280124888016, 'gamma': 0.6573683012359176, 'max_depth': 9}. Best is trial 108 with value: 1734688.4097678615.\u001b[0m\n",
      "\u001b[32m[I 2021-01-25 12:16:07,455]\u001b[0m Trial 187 finished with value: 1881655.3733921384 and parameters: {'eta': 0.15549124569212328, 'gamma': 0.5918608493065021, 'max_depth': 10}. Best is trial 108 with value: 1734688.4097678615.\u001b[0m\n",
      "\u001b[32m[I 2021-01-25 12:16:08,824]\u001b[0m Trial 188 finished with value: 1991851.508203235 and parameters: {'eta': 0.13484645784492913, 'gamma': 0.5702139243962305, 'max_depth': 9}. Best is trial 108 with value: 1734688.4097678615.\u001b[0m\n",
      "\u001b[32m[I 2021-01-25 12:16:10,759]\u001b[0m Trial 189 finished with value: 1886026.5465675248 and parameters: {'eta': 0.17884347824526395, 'gamma': 0.6922815955769598, 'max_depth': 11}. Best is trial 108 with value: 1734688.4097678615.\u001b[0m\n",
      "\u001b[32m[I 2021-01-25 12:16:11,139]\u001b[0m Trial 190 finished with value: 20407202.063047208 and parameters: {'eta': 0.2011754699803045, 'gamma': 0.6424960333157892, 'max_depth': 0}. Best is trial 108 with value: 1734688.4097678615.\u001b[0m\n",
      "\u001b[32m[I 2021-01-25 12:16:12,326]\u001b[0m Trial 191 finished with value: 2467737.97979977 and parameters: {'eta': 0.9095460182935735, 'gamma': 0.41518526657112287, 'max_depth': 8}. Best is trial 108 with value: 1734688.4097678615.\u001b[0m\n",
      "\u001b[32m[I 2021-01-25 12:16:13,467]\u001b[0m Trial 192 finished with value: 1819081.3554563525 and parameters: {'eta': 0.1660928626033274, 'gamma': 0.6530891340097212, 'max_depth': 8}. Best is trial 108 with value: 1734688.4097678615.\u001b[0m\n",
      "\u001b[32m[I 2021-01-25 12:16:14,420]\u001b[0m Trial 193 finished with value: 1969745.370560647 and parameters: {'eta': 0.1751233731725696, 'gamma': 0.6795016930479, 'max_depth': 7}. Best is trial 108 with value: 1734688.4097678615.\u001b[0m\n",
      "\u001b[32m[I 2021-01-25 12:16:16,052]\u001b[0m Trial 194 finished with value: 1862382.0588770316 and parameters: {'eta': 0.22237201787891278, 'gamma': 0.6216964645829766, 'max_depth': 10}. Best is trial 108 with value: 1734688.4097678615.\u001b[0m\n",
      "\u001b[32m[I 2021-01-25 12:16:17,180]\u001b[0m Trial 195 finished with value: 1969616.6976656758 and parameters: {'eta': 0.14611521241827796, 'gamma': 0.5431974910307564, 'max_depth': 8}. Best is trial 108 with value: 1734688.4097678615.\u001b[0m\n",
      "\u001b[32m[I 2021-01-25 12:16:18,040]\u001b[0m Trial 196 finished with value: 1949078.585227473 and parameters: {'eta': 0.19046681459427756, 'gamma': 0.7168449468419782, 'max_depth': 6}. Best is trial 108 with value: 1734688.4097678615.\u001b[0m\n",
      "\u001b[32m[I 2021-01-25 12:16:19,378]\u001b[0m Trial 197 finished with value: 2006874.8235627494 and parameters: {'eta': 0.2527121049619339, 'gamma': 0.6414461135590906, 'max_depth': 9}. Best is trial 108 with value: 1734688.4097678615.\u001b[0m\n",
      "\u001b[32m[I 2021-01-25 12:16:20,962]\u001b[0m Trial 198 finished with value: 1792355.0441537134 and parameters: {'eta': 0.12400830071968, 'gamma': 0.6055444337744199, 'max_depth': 10}. Best is trial 108 with value: 1734688.4097678615.\u001b[0m\n",
      "\u001b[32m[I 2021-01-25 12:16:22,644]\u001b[0m Trial 199 finished with value: 1927026.2597849446 and parameters: {'eta': 0.1147814152755428, 'gamma': 0.6017853030993395, 'max_depth': 11}. Best is trial 108 with value: 1734688.4097678615.\u001b[0m\n",
      "\u001b[32m[I 2021-01-25 12:16:24,127]\u001b[0m Trial 200 finished with value: 1809134.5834839796 and parameters: {'eta': 0.13144196274140368, 'gamma': 0.6250084777302333, 'max_depth': 10}. Best is trial 108 with value: 1734688.4097678615.\u001b[0m\n",
      "\u001b[32m[I 2021-01-25 12:16:25,607]\u001b[0m Trial 201 finished with value: 2063872.6231333658 and parameters: {'eta': 0.12690492529190425, 'gamma': 0.6163523004807256, 'max_depth': 10}. Best is trial 108 with value: 1734688.4097678615.\u001b[0m\n",
      "\u001b[32m[I 2021-01-25 12:16:27,038]\u001b[0m Trial 202 finished with value: 1779210.2795158227 and parameters: {'eta': 0.10312447509359163, 'gamma': 0.6280663228432142, 'max_depth': 10}. Best is trial 108 with value: 1734688.4097678615.\u001b[0m\n",
      "\u001b[32m[I 2021-01-25 12:16:28,466]\u001b[0m Trial 203 finished with value: 1802613.0761990403 and parameters: {'eta': 0.11391507148922021, 'gamma': 0.5933805702856554, 'max_depth': 10}. Best is trial 108 with value: 1734688.4097678615.\u001b[0m\n",
      "\u001b[32m[I 2021-01-25 12:16:30,138]\u001b[0m Trial 204 finished with value: 1886255.6022007968 and parameters: {'eta': 0.10651562702915297, 'gamma': 0.5681461472326317, 'max_depth': 11}. Best is trial 108 with value: 1734688.4097678615.\u001b[0m\n",
      "\u001b[32m[I 2021-01-25 12:16:32,163]\u001b[0m Trial 205 finished with value: 1885481.0407928908 and parameters: {'eta': 0.10291181922717972, 'gamma': 0.591202002625782, 'max_depth': 12}. Best is trial 108 with value: 1734688.4097678615.\u001b[0m\n",
      "\u001b[32m[I 2021-01-25 12:16:33,599]\u001b[0m Trial 206 finished with value: 1866726.9093513251 and parameters: {'eta': 0.11739500402962677, 'gamma': 0.5138412491486666, 'max_depth': 10}. Best is trial 108 with value: 1734688.4097678615.\u001b[0m\n",
      "\u001b[32m[I 2021-01-25 12:16:34,785]\u001b[0m Trial 207 finished with value: 1885595.8143315916 and parameters: {'eta': 0.1008766380665565, 'gamma': 0.547847917979809, 'max_depth': 9}. Best is trial 108 with value: 1734688.4097678615.\u001b[0m\n",
      "\u001b[32m[I 2021-01-25 12:16:36,531]\u001b[0m Trial 208 finished with value: 1836482.5789228529 and parameters: {'eta': 0.1469078538563556, 'gamma': 0.5963601096716404, 'max_depth': 11}. Best is trial 108 with value: 1734688.4097678615.\u001b[0m\n",
      "\u001b[32m[I 2021-01-25 12:16:37,995]\u001b[0m Trial 209 finished with value: 1841290.8316432333 and parameters: {'eta': 0.13371581285473536, 'gamma': 0.6091605710071721, 'max_depth': 10}. Best is trial 108 with value: 1734688.4097678615.\u001b[0m\n",
      "\u001b[32m[I 2021-01-25 12:16:39,248]\u001b[0m Trial 210 finished with value: 1919384.3688870308 and parameters: {'eta': 0.20769199723672177, 'gamma': 0.5769108649497381, 'max_depth': 9}. Best is trial 108 with value: 1734688.4097678615.\u001b[0m\n",
      "\u001b[32m[I 2021-01-25 12:16:40,732]\u001b[0m Trial 211 finished with value: 2044186.0204185264 and parameters: {'eta': 0.12749368214233073, 'gamma': 0.6268199135429445, 'max_depth': 10}. Best is trial 108 with value: 1734688.4097678615.\u001b[0m\n",
      "\u001b[32m[I 2021-01-25 12:16:41,976]\u001b[0m Trial 212 finished with value: 1991700.4057414723 and parameters: {'eta': 0.1579848092827813, 'gamma': 0.664593593889797, 'max_depth': 9}. Best is trial 108 with value: 1734688.4097678615.\u001b[0m\n",
      "\u001b[32m[I 2021-01-25 12:16:43,438]\u001b[0m Trial 213 finished with value: 1783833.7404326661 and parameters: {'eta': 0.1010665968548778, 'gamma': 0.6233298313045681, 'max_depth': 10}. Best is trial 108 with value: 1734688.4097678615.\u001b[0m\n",
      "\u001b[32m[I 2021-01-25 12:16:45,181]\u001b[0m Trial 214 finished with value: 1934999.2297997538 and parameters: {'eta': 0.11661138873252144, 'gamma': 0.6764632797656713, 'max_depth': 11}. Best is trial 108 with value: 1734688.4097678615.\u001b[0m\n",
      "\u001b[32m[I 2021-01-25 12:16:46,512]\u001b[0m Trial 215 finished with value: 2064515.885735135 and parameters: {'eta': 0.4495002657526122, 'gamma': 0.6310102655002896, 'max_depth': 9}. Best is trial 108 with value: 1734688.4097678615.\u001b[0m\n"
     ]
    },
    {
     "name": "stderr",
     "output_type": "stream",
     "text": [
      "\u001b[32m[I 2021-01-25 12:16:47,989]\u001b[0m Trial 216 finished with value: 1874298.4133825733 and parameters: {'eta': 0.18010324454083879, 'gamma': 0.6464770607906769, 'max_depth': 10}. Best is trial 108 with value: 1734688.4097678615.\u001b[0m\n",
      "\u001b[32m[I 2021-01-25 12:16:49,488]\u001b[0m Trial 217 finished with value: 1808894.452203297 and parameters: {'eta': 0.16547066739765146, 'gamma': 0.6106961208427881, 'max_depth': 10}. Best is trial 108 with value: 1734688.4097678615.\u001b[0m\n",
      "\u001b[32m[I 2021-01-25 12:16:51,338]\u001b[0m Trial 218 finished with value: 1859239.3240887488 and parameters: {'eta': 0.2294275794073606, 'gamma': 0.6103089990526446, 'max_depth': 11}. Best is trial 108 with value: 1734688.4097678615.\u001b[0m\n",
      "\u001b[32m[I 2021-01-25 12:16:52,764]\u001b[0m Trial 219 finished with value: 1755699.0183374914 and parameters: {'eta': 0.10142538900509339, 'gamma': 0.5908779130230951, 'max_depth': 10}. Best is trial 108 with value: 1734688.4097678615.\u001b[0m\n",
      "\u001b[32m[I 2021-01-25 12:16:54,762]\u001b[0m Trial 220 finished with value: 1832677.468970838 and parameters: {'eta': 0.1005732534017935, 'gamma': 0.9784316058660562, 'max_depth': 12}. Best is trial 108 with value: 1734688.4097678615.\u001b[0m\n",
      "\u001b[32m[I 2021-01-25 12:16:56,222]\u001b[0m Trial 221 finished with value: 1898272.3908941639 and parameters: {'eta': 0.14543043070994546, 'gamma': 0.5828094062277936, 'max_depth': 10}. Best is trial 108 with value: 1734688.4097678615.\u001b[0m\n",
      "\u001b[32m[I 2021-01-25 12:16:57,678]\u001b[0m Trial 222 finished with value: 1791802.6998383293 and parameters: {'eta': 0.12327098979250302, 'gamma': 0.5686089409895028, 'max_depth': 10}. Best is trial 108 with value: 1734688.4097678615.\u001b[0m\n",
      "\u001b[32m[I 2021-01-25 12:16:59,355]\u001b[0m Trial 223 finished with value: 1913010.8662820337 and parameters: {'eta': 0.11401336916621649, 'gamma': 0.5608807301994074, 'max_depth': 11}. Best is trial 108 with value: 1734688.4097678615.\u001b[0m\n",
      "\u001b[32m[I 2021-01-25 12:17:01,011]\u001b[0m Trial 224 finished with value: 2085580.154265044 and parameters: {'eta': 0.4002248580936364, 'gamma': 0.5344818060321207, 'max_depth': 10}. Best is trial 108 with value: 1734688.4097678615.\u001b[0m\n",
      "\u001b[32m[I 2021-01-25 12:17:02,207]\u001b[0m Trial 225 finished with value: 1854917.4125312832 and parameters: {'eta': 0.10039553483319205, 'gamma': 0.5866022596358552, 'max_depth': 9}. Best is trial 108 with value: 1734688.4097678615.\u001b[0m\n",
      "\u001b[32m[I 2021-01-25 12:17:03,676]\u001b[0m Trial 226 finished with value: 2043874.8134211025 and parameters: {'eta': 0.1267112158722598, 'gamma': 0.5657646051474136, 'max_depth': 10}. Best is trial 108 with value: 1734688.4097678615.\u001b[0m\n",
      "\u001b[32m[I 2021-01-25 12:17:04,890]\u001b[0m Trial 227 finished with value: 1808789.6889008468 and parameters: {'eta': 0.10148048647164654, 'gamma': 0.5558578704975121, 'max_depth': 9}. Best is trial 108 with value: 1734688.4097678615.\u001b[0m\n",
      "\u001b[32m[I 2021-01-25 12:17:06,595]\u001b[0m Trial 228 finished with value: 1864173.8203802025 and parameters: {'eta': 0.13536132043942684, 'gamma': 0.5943117642933944, 'max_depth': 11}. Best is trial 108 with value: 1734688.4097678615.\u001b[0m\n",
      "\u001b[32m[I 2021-01-25 12:17:08,032]\u001b[0m Trial 229 finished with value: 2012631.7616879886 and parameters: {'eta': 0.10137899344513766, 'gamma': 0.6217949342837138, 'max_depth': 10}. Best is trial 108 with value: 1734688.4097678615.\u001b[0m\n",
      "\u001b[32m[I 2021-01-25 12:17:09,312]\u001b[0m Trial 230 finished with value: 2063117.1153225838 and parameters: {'eta': 0.19144951307378205, 'gamma': 0.5234477787877799, 'max_depth': 9}. Best is trial 108 with value: 1734688.4097678615.\u001b[0m\n",
      "\u001b[32m[I 2021-01-25 12:17:10,516]\u001b[0m Trial 231 finished with value: 2099560.578006915 and parameters: {'eta': 0.10082336925222951, 'gamma': 0.5467242620274965, 'max_depth': 9}. Best is trial 108 with value: 1734688.4097678615.\u001b[0m\n",
      "\u001b[32m[I 2021-01-25 12:17:11,981]\u001b[0m Trial 232 finished with value: 1864438.1128600559 and parameters: {'eta': 0.11952073145762412, 'gamma': 0.9534727636208936, 'max_depth': 10}. Best is trial 108 with value: 1734688.4097678615.\u001b[0m\n",
      "\u001b[32m[I 2021-01-25 12:17:13,026]\u001b[0m Trial 233 finished with value: 1952571.5622158172 and parameters: {'eta': 0.14153712295160217, 'gamma': 0.5626839795907645, 'max_depth': 8}. Best is trial 108 with value: 1734688.4097678615.\u001b[0m\n",
      "\u001b[32m[I 2021-01-25 12:17:14,417]\u001b[0m Trial 234 finished with value: 2044300.86059107 and parameters: {'eta': 0.6424391087285544, 'gamma': 0.5823790555794534, 'max_depth': 9}. Best is trial 108 with value: 1734688.4097678615.\u001b[0m\n",
      "\u001b[32m[I 2021-01-25 12:17:16,121]\u001b[0m Trial 235 finished with value: 1889527.9429429749 and parameters: {'eta': 0.11772827462148963, 'gamma': 0.6052884833053827, 'max_depth': 11}. Best is trial 108 with value: 1734688.4097678615.\u001b[0m\n",
      "\u001b[32m[I 2021-01-25 12:17:17,371]\u001b[0m Trial 236 finished with value: 1793082.8594150776 and parameters: {'eta': 0.15035267024745688, 'gamma': 0.548125226074412, 'max_depth': 9}. Best is trial 108 with value: 1734688.4097678615.\u001b[0m\n",
      "\u001b[32m[I 2021-01-25 12:17:18,423]\u001b[0m Trial 237 finished with value: 1983146.1339785254 and parameters: {'eta': 0.15088045927030583, 'gamma': 0.7452850857320314, 'max_depth': 8}. Best is trial 108 with value: 1734688.4097678615.\u001b[0m\n",
      "\u001b[32m[I 2021-01-25 12:17:19,921]\u001b[0m Trial 238 finished with value: 1874156.1048417035 and parameters: {'eta': 0.16061928108611048, 'gamma': 0.7685479473359359, 'max_depth': 10}. Best is trial 108 with value: 1734688.4097678615.\u001b[0m\n",
      "\u001b[32m[I 2021-01-25 12:17:21,469]\u001b[0m Trial 239 finished with value: 1888560.4051050313 and parameters: {'eta': 0.2008357381952155, 'gamma': 0.5042496860525502, 'max_depth': 10}. Best is trial 108 with value: 1734688.4097678615.\u001b[0m\n",
      "\u001b[32m[I 2021-01-25 12:17:23,192]\u001b[0m Trial 240 finished with value: 1827913.209334968 and parameters: {'eta': 0.13775373447846517, 'gamma': 0.6351846425902861, 'max_depth': 11}. Best is trial 108 with value: 1734688.4097678615.\u001b[0m\n",
      "\u001b[32m[I 2021-01-25 12:17:24,437]\u001b[0m Trial 241 finished with value: 1877302.2905671124 and parameters: {'eta': 0.1197336668759176, 'gamma': 0.5450483095671087, 'max_depth': 9}. Best is trial 108 with value: 1734688.4097678615.\u001b[0m\n",
      "\u001b[32m[I 2021-01-25 12:17:25,729]\u001b[0m Trial 242 finished with value: 1821014.9519091186 and parameters: {'eta': 0.18152009287874205, 'gamma': 0.5692842292382707, 'max_depth': 9}. Best is trial 108 with value: 1734688.4097678615.\u001b[0m\n",
      "\u001b[32m[I 2021-01-25 12:17:26,795]\u001b[0m Trial 243 finished with value: 1894292.1808500849 and parameters: {'eta': 0.1004844361533895, 'gamma': 0.5396403832061835, 'max_depth': 8}. Best is trial 108 with value: 1734688.4097678615.\u001b[0m\n",
      "\u001b[32m[I 2021-01-25 12:17:28,046]\u001b[0m Trial 244 finished with value: 2032128.5399681525 and parameters: {'eta': 0.15492116172697692, 'gamma': 0.5212594579096401, 'max_depth': 9}. Best is trial 108 with value: 1734688.4097678615.\u001b[0m\n",
      "\u001b[32m[I 2021-01-25 12:17:35,657]\u001b[0m Trial 245 finished with value: 2100498.881309479 and parameters: {'eta': 0.10063091685585257, 'gamma': 0.5999580635223927, 'max_depth': 29}. Best is trial 108 with value: 1734688.4097678615.\u001b[0m\n",
      "\u001b[32m[I 2021-01-25 12:17:37,126]\u001b[0m Trial 246 finished with value: 1817593.0516976789 and parameters: {'eta': 0.13405851258039597, 'gamma': 0.557993787320918, 'max_depth': 10}. Best is trial 108 with value: 1734688.4097678615.\u001b[0m\n",
      "\u001b[32m[I 2021-01-25 12:17:38,387]\u001b[0m Trial 247 finished with value: 1885703.8482029508 and parameters: {'eta': 0.21704472660540014, 'gamma': 0.6901555979041432, 'max_depth': 9}. Best is trial 108 with value: 1734688.4097678615.\u001b[0m\n",
      "\u001b[32m[I 2021-01-25 12:17:39,883]\u001b[0m Trial 248 finished with value: 1818723.6635420944 and parameters: {'eta': 0.18934645890106094, 'gamma': 0.44954194556357085, 'max_depth': 10}. Best is trial 108 with value: 1734688.4097678615.\u001b[0m\n",
      "\u001b[32m[I 2021-01-25 12:17:41,558]\u001b[0m Trial 249 finished with value: 1880324.7928658857 and parameters: {'eta': 0.11967924500380747, 'gamma': 0.5806051991719161, 'max_depth': 11}. Best is trial 108 with value: 1734688.4097678615.\u001b[0m\n",
      "\u001b[32m[I 2021-01-25 12:17:42,634]\u001b[0m Trial 250 finished with value: 1943580.6827944191 and parameters: {'eta': 0.1697670066035377, 'gamma': 0.6661017722209754, 'max_depth': 8}. Best is trial 108 with value: 1734688.4097678615.\u001b[0m\n",
      "\u001b[32m[I 2021-01-25 12:17:44,102]\u001b[0m Trial 251 finished with value: 1818218.6155496559 and parameters: {'eta': 0.15059477123869458, 'gamma': 0.6345154071985643, 'max_depth': 10}. Best is trial 108 with value: 1734688.4097678615.\u001b[0m\n"
     ]
    },
    {
     "name": "stderr",
     "output_type": "stream",
     "text": [
      "\u001b[32m[I 2021-01-25 12:17:45,342]\u001b[0m Trial 252 finished with value: 1858599.1978250355 and parameters: {'eta': 0.1005891328781091, 'gamma': 0.6101789216275252, 'max_depth': 9}. Best is trial 108 with value: 1734688.4097678615.\u001b[0m\n",
      "\u001b[32m[I 2021-01-25 12:17:46,290]\u001b[0m Trial 253 finished with value: 1931615.4339882878 and parameters: {'eta': 0.22680814762068982, 'gamma': 0.7046911568348463, 'max_depth': 7}. Best is trial 108 with value: 1734688.4097678615.\u001b[0m\n",
      "\u001b[32m[I 2021-01-25 12:17:47,538]\u001b[0m Trial 254 finished with value: 2100287.549255686 and parameters: {'eta': 0.1362527611350357, 'gamma': 0.7253359417763672, 'max_depth': 9}. Best is trial 108 with value: 1734688.4097678615.\u001b[0m\n",
      "\u001b[32m[I 2021-01-25 12:17:49,075]\u001b[0m Trial 255 finished with value: 1817866.1175608332 and parameters: {'eta': 0.20415205347849807, 'gamma': 0.48464323913472807, 'max_depth': 10}. Best is trial 108 with value: 1734688.4097678615.\u001b[0m\n",
      "\u001b[32m[I 2021-01-25 12:17:50,875]\u001b[0m Trial 256 finished with value: 1874073.3455983975 and parameters: {'eta': 0.1708303179921155, 'gamma': 0.5505543260118299, 'max_depth': 11}. Best is trial 108 with value: 1734688.4097678615.\u001b[0m\n",
      "\u001b[32m[I 2021-01-25 12:17:51,907]\u001b[0m Trial 257 finished with value: 2151701.6206032536 and parameters: {'eta': 0.12181099002769803, 'gamma': 0.9354343234659278, 'max_depth': 8}. Best is trial 108 with value: 1734688.4097678615.\u001b[0m\n",
      "\u001b[32m[I 2021-01-25 12:17:53,984]\u001b[0m Trial 258 finished with value: 1894409.5842046512 and parameters: {'eta': 0.1517779745446098, 'gamma': 0.6492562715553282, 'max_depth': 12}. Best is trial 108 with value: 1734688.4097678615.\u001b[0m\n",
      "\u001b[32m[I 2021-01-25 12:17:55,650]\u001b[0m Trial 259 finished with value: 1993611.6093332204 and parameters: {'eta': 0.48218046015867466, 'gamma': 0.5940825248841727, 'max_depth': 10}. Best is trial 108 with value: 1734688.4097678615.\u001b[0m\n",
      "\u001b[32m[I 2021-01-25 12:17:56,930]\u001b[0m Trial 260 finished with value: 1797174.6618612984 and parameters: {'eta': 0.24871599481350093, 'gamma': 0.11275727757214388, 'max_depth': 9}. Best is trial 108 with value: 1734688.4097678615.\u001b[0m\n",
      "\u001b[32m[I 2021-01-25 12:17:58,038]\u001b[0m Trial 261 finished with value: 1800582.2674581544 and parameters: {'eta': 0.2524330350179726, 'gamma': 0.12239848107620176, 'max_depth': 8}. Best is trial 108 with value: 1734688.4097678615.\u001b[0m\n",
      "\u001b[32m[I 2021-01-25 12:17:58,982]\u001b[0m Trial 262 finished with value: 1956853.272866583 and parameters: {'eta': 0.2761557502510761, 'gamma': 0.11796174059072626, 'max_depth': 7}. Best is trial 108 with value: 1734688.4097678615.\u001b[0m\n",
      "\u001b[32m[I 2021-01-25 12:17:59,926]\u001b[0m Trial 263 finished with value: 2005076.9958507228 and parameters: {'eta': 0.24293095607781315, 'gamma': 0.12735086779293836, 'max_depth': 7}. Best is trial 108 with value: 1734688.4097678615.\u001b[0m\n",
      "\u001b[32m[I 2021-01-25 12:18:01,018]\u001b[0m Trial 264 finished with value: 1970953.2430545294 and parameters: {'eta': 0.24905975012772674, 'gamma': 0.13282102038835128, 'max_depth': 8}. Best is trial 108 with value: 1734688.4097678615.\u001b[0m\n",
      "\u001b[32m[I 2021-01-25 12:18:02,865]\u001b[0m Trial 265 finished with value: 2135991.455022493 and parameters: {'eta': 0.2123724824590871, 'gamma': 0.10886661180525928, 'max_depth': 11}. Best is trial 108 with value: 1734688.4097678615.\u001b[0m\n",
      "\u001b[32m[I 2021-01-25 12:18:04,362]\u001b[0m Trial 266 finished with value: 2113654.9930787506 and parameters: {'eta': 0.1864679983470361, 'gamma': 0.15759486500228193, 'max_depth': 10}. Best is trial 108 with value: 1734688.4097678615.\u001b[0m\n",
      "\u001b[32m[I 2021-01-25 12:18:05,714]\u001b[0m Trial 267 finished with value: 1911323.7208936433 and parameters: {'eta': 0.22633653023557943, 'gamma': 0.6761076860773797, 'max_depth': 9}. Best is trial 108 with value: 1734688.4097678615.\u001b[0m\n",
      "\u001b[32m[I 2021-01-25 12:18:06,785]\u001b[0m Trial 268 finished with value: 1970415.8935550458 and parameters: {'eta': 0.1715652021958623, 'gamma': 0.11357187792734486, 'max_depth': 8}. Best is trial 108 with value: 1734688.4097678615.\u001b[0m\n",
      "\u001b[32m[I 2021-01-25 12:18:08,328]\u001b[0m Trial 269 finished with value: 1830040.3621435983 and parameters: {'eta': 0.19926085438845134, 'gamma': 0.6167058898804858, 'max_depth': 10}. Best is trial 108 with value: 1734688.4097678615.\u001b[0m\n",
      "\u001b[32m[I 2021-01-25 12:18:10,694]\u001b[0m Trial 270 finished with value: 2019323.977180134 and parameters: {'eta': 0.2912252023295673, 'gamma': 0.10271746442499778, 'max_depth': 12}. Best is trial 108 with value: 1734688.4097678615.\u001b[0m\n",
      "\u001b[32m[I 2021-01-25 12:18:11,928]\u001b[0m Trial 271 finished with value: 1801766.3168524185 and parameters: {'eta': 0.1382132615599426, 'gamma': 0.13392327480583954, 'max_depth': 9}. Best is trial 108 with value: 1734688.4097678615.\u001b[0m\n",
      "\u001b[32m[I 2021-01-25 12:18:13,147]\u001b[0m Trial 272 finished with value: 1834062.767171958 and parameters: {'eta': 0.13644773447815972, 'gamma': 0.9669077037979191, 'max_depth': 9}. Best is trial 108 with value: 1734688.4097678615.\u001b[0m\n",
      "\u001b[32m[I 2021-01-25 12:18:14,228]\u001b[0m Trial 273 finished with value: 1903878.8673009367 and parameters: {'eta': 0.25643564384609885, 'gamma': 0.16792162276140107, 'max_depth': 8}. Best is trial 108 with value: 1734688.4097678615.\u001b[0m\n",
      "\u001b[32m[I 2021-01-25 12:18:15,160]\u001b[0m Trial 274 finished with value: 1894473.375186699 and parameters: {'eta': 0.12283847834088446, 'gamma': 0.13570896420018114, 'max_depth': 7}. Best is trial 108 with value: 1734688.4097678615.\u001b[0m\n",
      "\u001b[32m[I 2021-01-25 12:18:16,410]\u001b[0m Trial 275 finished with value: 1917812.864073425 and parameters: {'eta': 0.15156441775667462, 'gamma': 0.6566356314389834, 'max_depth': 9}. Best is trial 108 with value: 1734688.4097678615.\u001b[0m\n",
      "\u001b[32m[I 2021-01-25 12:18:17,458]\u001b[0m Trial 276 finished with value: 1896890.3453867 and parameters: {'eta': 0.13942548600517324, 'gamma': 0.638471709054166, 'max_depth': 8}. Best is trial 108 with value: 1734688.4097678615.\u001b[0m\n",
      "\u001b[32m[I 2021-01-25 12:18:18,893]\u001b[0m Trial 277 finished with value: 1824125.6331598768 and parameters: {'eta': 0.10040594975036908, 'gamma': 0.139216278143736, 'max_depth': 10}. Best is trial 108 with value: 1734688.4097678615.\u001b[0m\n",
      "\u001b[32m[I 2021-01-25 12:18:20,687]\u001b[0m Trial 278 finished with value: 1976157.3850474937 and parameters: {'eta': 0.16328508311577655, 'gamma': 0.6255763918539681, 'max_depth': 11}. Best is trial 108 with value: 1734688.4097678615.\u001b[0m\n",
      "\u001b[32m[I 2021-01-25 12:18:21,980]\u001b[0m Trial 279 finished with value: 1879057.2530815415 and parameters: {'eta': 0.23503935373677362, 'gamma': 0.6934270338541, 'max_depth': 9}. Best is trial 108 with value: 1734688.4097678615.\u001b[0m\n",
      "\u001b[32m[I 2021-01-25 12:18:23,419]\u001b[0m Trial 280 finished with value: 1819709.0087247924 and parameters: {'eta': 0.11701567814066165, 'gamma': 0.915341713436403, 'max_depth': 10}. Best is trial 108 with value: 1734688.4097678615.\u001b[0m\n",
      "\u001b[32m[I 2021-01-25 12:18:24,477]\u001b[0m Trial 281 finished with value: 1842867.7497678504 and parameters: {'eta': 0.18482294526284052, 'gamma': 0.10111942832976206, 'max_depth': 8}. Best is trial 108 with value: 1734688.4097678615.\u001b[0m\n",
      "\u001b[32m[I 2021-01-25 12:18:26,161]\u001b[0m Trial 282 finished with value: 1823395.3104352825 and parameters: {'eta': 0.1345706418438727, 'gamma': 0.6711160289854802, 'max_depth': 11}. Best is trial 108 with value: 1734688.4097678615.\u001b[0m\n",
      "\u001b[32m[I 2021-01-25 12:18:27,440]\u001b[0m Trial 283 finished with value: 1968926.3462334534 and parameters: {'eta': 0.2123358421457196, 'gamma': 0.6212340991032197, 'max_depth': 9}. Best is trial 108 with value: 1734688.4097678615.\u001b[0m\n",
      "\u001b[32m[I 2021-01-25 12:18:29,004]\u001b[0m Trial 284 finished with value: 2067220.4879972374 and parameters: {'eta': 0.2698752702544356, 'gamma': 0.593335307538396, 'max_depth': 10}. Best is trial 108 with value: 1734688.4097678615.\u001b[0m\n",
      "\u001b[32m[I 2021-01-25 12:18:29,444]\u001b[0m Trial 285 finished with value: 6604717.047989907 and parameters: {'eta': 0.1605181867085862, 'gamma': 0.18495599435388554, 'max_depth': 1}. Best is trial 108 with value: 1734688.4097678615.\u001b[0m\n",
      "\u001b[32m[I 2021-01-25 12:18:30,712]\u001b[0m Trial 286 finished with value: 1806426.7731800498 and parameters: {'eta': 0.1932212444586312, 'gamma': 0.818545172573013, 'max_depth': 9}. Best is trial 108 with value: 1734688.4097678615.\u001b[0m\n",
      "\u001b[32m[I 2021-01-25 12:18:32,140]\u001b[0m Trial 287 finished with value: 1815052.9486298328 and parameters: {'eta': 0.11906747295911779, 'gamma': 0.996230109006916, 'max_depth': 10}. Best is trial 108 with value: 1734688.4097678615.\u001b[0m\n"
     ]
    },
    {
     "name": "stderr",
     "output_type": "stream",
     "text": [
      "\u001b[32m[I 2021-01-25 12:18:33,194]\u001b[0m Trial 288 finished with value: 1818915.2942718894 and parameters: {'eta': 0.14528609671371684, 'gamma': 0.6589592881814975, 'max_depth': 8}. Best is trial 108 with value: 1734688.4097678615.\u001b[0m\n",
      "\u001b[32m[I 2021-01-25 12:18:34,986]\u001b[0m Trial 289 finished with value: 1910554.7929622186 and parameters: {'eta': 0.17207791944885611, 'gamma': 0.5779208418844557, 'max_depth': 11}. Best is trial 108 with value: 1734688.4097678615.\u001b[0m\n",
      "\u001b[32m[I 2021-01-25 12:18:36,275]\u001b[0m Trial 290 finished with value: 1917090.1407206287 and parameters: {'eta': 0.24638518703530432, 'gamma': 0.7137298236772651, 'max_depth': 9}. Best is trial 108 with value: 1734688.4097678615.\u001b[0m\n",
      "\u001b[32m[I 2021-01-25 12:18:37,767]\u001b[0m Trial 291 finished with value: 2164060.547521711 and parameters: {'eta': 0.21089670295434673, 'gamma': 0.6419762502842663, 'max_depth': 10}. Best is trial 108 with value: 1734688.4097678615.\u001b[0m\n",
      "\u001b[32m[I 2021-01-25 12:18:38,807]\u001b[0m Trial 292 finished with value: 2062570.8475838464 and parameters: {'eta': 0.11186885539605233, 'gamma': 0.6042683745388074, 'max_depth': 8}. Best is trial 108 with value: 1734688.4097678615.\u001b[0m\n",
      "\u001b[32m[I 2021-01-25 12:18:40,491]\u001b[0m Trial 293 finished with value: 1815046.3423717946 and parameters: {'eta': 0.1356728280391441, 'gamma': 0.684591904279115, 'max_depth': 11}. Best is trial 108 with value: 1734688.4097678615.\u001b[0m\n",
      "\u001b[32m[I 2021-01-25 12:18:41,411]\u001b[0m Trial 294 finished with value: 2013717.4014432793 and parameters: {'eta': 0.10232018462041985, 'gamma': 0.8838067712248929, 'max_depth': 7}. Best is trial 108 with value: 1734688.4097678615.\u001b[0m\n",
      "\u001b[32m[I 2021-01-25 12:18:42,689]\u001b[0m Trial 295 finished with value: 1768888.1716640713 and parameters: {'eta': 0.17943185710511642, 'gamma': 0.7410613626146803, 'max_depth': 9}. Best is trial 108 with value: 1734688.4097678615.\u001b[0m\n",
      "\u001b[32m[I 2021-01-25 12:18:44,211]\u001b[0m Trial 296 finished with value: 1901447.3060473746 and parameters: {'eta': 0.23017780154352446, 'gamma': 0.6319827533869226, 'max_depth': 10}. Best is trial 108 with value: 1734688.4097678615.\u001b[0m\n",
      "\u001b[32m[I 2021-01-25 12:18:45,491]\u001b[0m Trial 297 finished with value: 1785125.4602466202 and parameters: {'eta': 0.18948491511949644, 'gamma': 0.15207897980004556, 'max_depth': 9}. Best is trial 108 with value: 1734688.4097678615.\u001b[0m\n",
      "\u001b[32m[I 2021-01-25 12:18:46,765]\u001b[0m Trial 298 finished with value: 1817132.5111283956 and parameters: {'eta': 0.19901721834225802, 'gamma': 0.13760813661941473, 'max_depth': 9}. Best is trial 108 with value: 1734688.4097678615.\u001b[0m\n",
      "\u001b[32m[I 2021-01-25 12:18:48,012]\u001b[0m Trial 299 finished with value: 1782137.549047515 and parameters: {'eta': 0.1858946184015332, 'gamma': 0.15964061414393235, 'max_depth': 9}. Best is trial 108 with value: 1734688.4097678615.\u001b[0m\n",
      "\u001b[32m[I 2021-01-25 12:18:50,612]\u001b[0m Trial 300 finished with value: 2256243.3394537256 and parameters: {'eta': 0.18694025790523627, 'gamma': 0.157159327906409, 'max_depth': 13}. Best is trial 108 with value: 1734688.4097678615.\u001b[0m\n",
      "\u001b[32m[I 2021-01-25 12:18:51,890]\u001b[0m Trial 301 finished with value: 2094909.7669371823 and parameters: {'eta': 0.21457058883069569, 'gamma': 0.19789299377947445, 'max_depth': 9}. Best is trial 108 with value: 1734688.4097678615.\u001b[0m\n",
      "\u001b[32m[I 2021-01-25 12:18:53,121]\u001b[0m Trial 302 finished with value: 1823619.7078590787 and parameters: {'eta': 0.19730752357215597, 'gamma': 0.7888933818845292, 'max_depth': 9}. Best is trial 108 with value: 1734688.4097678615.\u001b[0m\n",
      "\u001b[32m[I 2021-01-25 12:18:54,181]\u001b[0m Trial 303 finished with value: 1822742.6556120873 and parameters: {'eta': 0.18230661647593582, 'gamma': 0.17392967013416158, 'max_depth': 8}. Best is trial 108 with value: 1734688.4097678615.\u001b[0m\n",
      "\u001b[32m[I 2021-01-25 12:18:55,777]\u001b[0m Trial 304 finished with value: 1840002.0901189244 and parameters: {'eta': 0.23567466518449837, 'gamma': 0.11370357237742038, 'max_depth': 10}. Best is trial 108 with value: 1734688.4097678615.\u001b[0m\n",
      "\u001b[32m[I 2021-01-25 12:18:57,594]\u001b[0m Trial 305 finished with value: 2166269.56335851 and parameters: {'eta': 0.2116261131691148, 'gamma': 0.6598363727007861, 'max_depth': 11}. Best is trial 108 with value: 1734688.4097678615.\u001b[0m\n",
      "\u001b[32m[I 2021-01-25 12:18:59,729]\u001b[0m Trial 306 finished with value: 1919359.366389504 and parameters: {'eta': 0.1725174965444688, 'gamma': 0.7376170769769214, 'max_depth': 12}. Best is trial 108 with value: 1734688.4097678615.\u001b[0m\n",
      "\u001b[32m[I 2021-01-25 12:19:06,593]\u001b[0m Trial 307 finished with value: 2150805.583750279 and parameters: {'eta': 0.17979104955978503, 'gamma': 0.151572566039194, 'max_depth': 19}. Best is trial 108 with value: 1734688.4097678615.\u001b[0m\n",
      "\u001b[32m[I 2021-01-25 12:19:08,108]\u001b[0m Trial 308 finished with value: 1850711.5679675776 and parameters: {'eta': 0.19615608839316165, 'gamma': 0.6384860180284948, 'max_depth': 10}. Best is trial 108 with value: 1734688.4097678615.\u001b[0m\n",
      "\u001b[32m[I 2021-01-25 12:19:09,176]\u001b[0m Trial 309 finished with value: 1758150.387829955 and parameters: {'eta': 0.21913424963847358, 'gamma': 0.31912269196140963, 'max_depth': 8}. Best is trial 108 with value: 1734688.4097678615.\u001b[0m\n",
      "\u001b[32m[I 2021-01-25 12:19:10,180]\u001b[0m Trial 310 finished with value: 2032971.1179906107 and parameters: {'eta': 0.2528728833591287, 'gamma': 0.3690051389203653, 'max_depth': 6}. Best is trial 108 with value: 1734688.4097678615.\u001b[0m\n",
      "\u001b[32m[I 2021-01-25 12:19:11,298]\u001b[0m Trial 311 finished with value: 1760925.5554490301 and parameters: {'eta': 0.22702008776627886, 'gamma': 0.14974604170940212, 'max_depth': 8}. Best is trial 108 with value: 1734688.4097678615.\u001b[0m\n",
      "\u001b[32m[I 2021-01-25 12:19:12,250]\u001b[0m Trial 312 finished with value: 2013859.9667700857 and parameters: {'eta': 0.2262705225046582, 'gamma': 0.4051006304616224, 'max_depth': 7}. Best is trial 108 with value: 1734688.4097678615.\u001b[0m\n",
      "\u001b[32m[I 2021-01-25 12:19:13,202]\u001b[0m Trial 313 finished with value: 2153887.6860568407 and parameters: {'eta': 0.2135814780017486, 'gamma': 0.7623057225748123, 'max_depth': 7}. Best is trial 108 with value: 1734688.4097678615.\u001b[0m\n",
      "\u001b[32m[I 2021-01-25 12:19:14,494]\u001b[0m Trial 314 finished with value: 1783372.0880573213 and parameters: {'eta': 0.23335866487815593, 'gamma': 0.16348730789234459, 'max_depth': 9}. Best is trial 108 with value: 1734688.4097678615.\u001b[0m\n",
      "\u001b[32m[I 2021-01-25 12:19:15,606]\u001b[0m Trial 315 finished with value: 1951674.513868164 and parameters: {'eta': 0.2234759558151761, 'gamma': 0.1870845351480027, 'max_depth': 8}. Best is trial 108 with value: 1734688.4097678615.\u001b[0m\n",
      "\u001b[32m[I 2021-01-25 12:19:16,742]\u001b[0m Trial 316 finished with value: 2060436.724140657 and parameters: {'eta': 0.20916379233224947, 'gamma': 0.18052088413816736, 'max_depth': 8}. Best is trial 108 with value: 1734688.4097678615.\u001b[0m\n",
      "\u001b[32m[I 2021-01-25 12:19:18,007]\u001b[0m Trial 317 finished with value: 1867265.9402935838 and parameters: {'eta': 0.2014710828829891, 'gamma': 0.15710775848468336, 'max_depth': 9}. Best is trial 108 with value: 1734688.4097678615.\u001b[0m\n",
      "\u001b[32m[I 2021-01-25 12:19:19,249]\u001b[0m Trial 318 finished with value: 1890418.997327663 and parameters: {'eta': 0.18706691425386088, 'gamma': 0.15348658340576588, 'max_depth': 9}. Best is trial 108 with value: 1734688.4097678615.\u001b[0m\n",
      "\u001b[32m[I 2021-01-25 12:19:20,353]\u001b[0m Trial 319 finished with value: 1827126.6828029032 and parameters: {'eta': 0.23611754956954611, 'gamma': 0.32716669133428344, 'max_depth': 8}. Best is trial 108 with value: 1734688.4097678615.\u001b[0m\n",
      "\u001b[32m[I 2021-01-25 12:19:21,585]\u001b[0m Trial 320 finished with value: 1859316.645351943 and parameters: {'eta': 0.16859976031574672, 'gamma': 0.21429603820274282, 'max_depth': 9}. Best is trial 108 with value: 1734688.4097678615.\u001b[0m\n",
      "\u001b[32m[I 2021-01-25 12:19:22,517]\u001b[0m Trial 321 finished with value: 1983038.3232438157 and parameters: {'eta': 0.22289901829305742, 'gamma': 0.6686914339522337, 'max_depth': 7}. Best is trial 108 with value: 1734688.4097678615.\u001b[0m\n",
      "\u001b[32m[I 2021-01-25 12:19:24,320]\u001b[0m Trial 322 finished with value: 1874673.6735122805 and parameters: {'eta': 0.19700943827733003, 'gamma': 0.1629703108418335, 'max_depth': 11}. Best is trial 108 with value: 1734688.4097678615.\u001b[0m\n",
      "\u001b[32m[I 2021-01-25 12:19:26,080]\u001b[0m Trial 323 finished with value: 2211424.6943628765 and parameters: {'eta': 0.7782553742059195, 'gamma': 0.6170902074192631, 'max_depth': 10}. Best is trial 108 with value: 1734688.4097678615.\u001b[0m\n"
     ]
    },
    {
     "name": "stderr",
     "output_type": "stream",
     "text": [
      "\u001b[32m[I 2021-01-25 12:19:27,580]\u001b[0m Trial 324 finished with value: 1907632.548365605 and parameters: {'eta': 0.1826148415954371, 'gamma': 0.6551741961669106, 'max_depth': 10}. Best is trial 108 with value: 1734688.4097678615.\u001b[0m\n",
      "\u001b[32m[I 2021-01-25 12:19:28,815]\u001b[0m Trial 325 finished with value: 1771642.02504832 and parameters: {'eta': 0.1574485764001275, 'gamma': 0.19882887053709924, 'max_depth': 9}. Best is trial 108 with value: 1734688.4097678615.\u001b[0m\n",
      "\u001b[32m[I 2021-01-25 12:19:30,075]\u001b[0m Trial 326 finished with value: 2071729.7904271611 and parameters: {'eta': 0.16337315501749458, 'gamma': 0.14763687553844468, 'max_depth': 9}. Best is trial 108 with value: 1734688.4097678615.\u001b[0m\n",
      "\u001b[32m[I 2021-01-25 12:19:31,141]\u001b[0m Trial 327 finished with value: 1836963.8696455779 and parameters: {'eta': 0.15294153690095555, 'gamma': 0.204055142248841, 'max_depth': 8}. Best is trial 108 with value: 1734688.4097678615.\u001b[0m\n",
      "\u001b[32m[I 2021-01-25 12:19:36,540]\u001b[0m Trial 328 finished with value: 2103292.0340178087 and parameters: {'eta': 0.15411602543317504, 'gamma': 0.1806757355008919, 'max_depth': 17}. Best is trial 108 with value: 1734688.4097678615.\u001b[0m\n",
      "\u001b[32m[I 2021-01-25 12:19:37,620]\u001b[0m Trial 329 finished with value: 1811751.3540731992 and parameters: {'eta': 0.17261820556504592, 'gamma': 0.16867312158739656, 'max_depth': 8}. Best is trial 108 with value: 1734688.4097678615.\u001b[0m\n",
      "\u001b[32m[I 2021-01-25 12:19:38,544]\u001b[0m Trial 330 finished with value: 1903367.3387753868 and parameters: {'eta': 0.149791376655371, 'gamma': 0.23106416831709606, 'max_depth': 7}. Best is trial 108 with value: 1734688.4097678615.\u001b[0m\n",
      "\u001b[32m[I 2021-01-25 12:19:39,766]\u001b[0m Trial 331 finished with value: 2082239.751882157 and parameters: {'eta': 0.12661793205505537, 'gamma': 0.20304764724922583, 'max_depth': 9}. Best is trial 108 with value: 1734688.4097678615.\u001b[0m\n",
      "\u001b[32m[I 2021-01-25 12:19:41,034]\u001b[0m Trial 332 finished with value: 1853088.6462642509 and parameters: {'eta': 0.18433234870460594, 'gamma': 0.5286661211107719, 'max_depth': 9}. Best is trial 108 with value: 1734688.4097678615.\u001b[0m\n",
      "\u001b[32m[I 2021-01-25 12:19:42,079]\u001b[0m Trial 333 finished with value: 2110684.0087488415 and parameters: {'eta': 0.16357866772949442, 'gamma': 0.17297125906899352, 'max_depth': 8}. Best is trial 108 with value: 1734688.4097678615.\u001b[0m\n",
      "\u001b[32m[I 2021-01-25 12:19:43,483]\u001b[0m Trial 334 finished with value: 1846837.8874088847 and parameters: {'eta': 0.1000188479159351, 'gamma': 0.57339440927779, 'max_depth': 10}. Best is trial 108 with value: 1734688.4097678615.\u001b[0m\n",
      "\u001b[32m[I 2021-01-25 12:19:44,716]\u001b[0m Trial 335 finished with value: 1879834.29713572 and parameters: {'eta': 0.1304149604258655, 'gamma': 0.6125463163130263, 'max_depth': 9}. Best is trial 108 with value: 1734688.4097678615.\u001b[0m\n",
      "\u001b[32m[I 2021-01-25 12:19:45,656]\u001b[0m Trial 336 finished with value: 2004883.3285889397 and parameters: {'eta': 0.2014446654930955, 'gamma': 0.4985133855036706, 'max_depth': 7}. Best is trial 108 with value: 1734688.4097678615.\u001b[0m\n",
      "\u001b[32m[I 2021-01-25 12:19:46,472]\u001b[0m Trial 337 finished with value: 2246431.7013539253 and parameters: {'eta': 0.10034056433093193, 'gamma': 0.9554926424165107, 'max_depth': 6}. Best is trial 108 with value: 1734688.4097678615.\u001b[0m\n",
      "\u001b[32m[I 2021-01-25 12:19:48,277]\u001b[0m Trial 338 finished with value: 1837412.6657287914 and parameters: {'eta': 0.1487873077577139, 'gamma': 0.3039341777577481, 'max_depth': 11}. Best is trial 108 with value: 1734688.4097678615.\u001b[0m\n",
      "\u001b[32m[I 2021-01-25 12:19:49,773]\u001b[0m Trial 339 finished with value: 1864171.8344575374 and parameters: {'eta': 0.18005213390213734, 'gamma': 0.21556525780322397, 'max_depth': 10}. Best is trial 108 with value: 1734688.4097678615.\u001b[0m\n",
      "\u001b[32m[I 2021-01-25 12:19:50,997]\u001b[0m Trial 340 finished with value: 1850113.089131813 and parameters: {'eta': 0.11940030558052599, 'gamma': 0.19056960684476332, 'max_depth': 9}. Best is trial 108 with value: 1734688.4097678615.\u001b[0m\n",
      "\u001b[32m[I 2021-01-25 12:19:52,086]\u001b[0m Trial 341 finished with value: 1983615.0145410553 and parameters: {'eta': 0.20305534322444788, 'gamma': 0.1453813709144429, 'max_depth': 8}. Best is trial 108 with value: 1734688.4097678615.\u001b[0m\n",
      "\u001b[32m[I 2021-01-25 12:19:53,581]\u001b[0m Trial 342 finished with value: 1807721.4240558078 and parameters: {'eta': 0.1694971146532837, 'gamma': 0.625983389794992, 'max_depth': 10}. Best is trial 108 with value: 1734688.4097678615.\u001b[0m\n",
      "\u001b[32m[I 2021-01-25 12:19:54,833]\u001b[0m Trial 343 finished with value: 1903365.139914166 and parameters: {'eta': 0.1418874646662457, 'gamma': 0.6017342746925433, 'max_depth': 9}. Best is trial 108 with value: 1734688.4097678615.\u001b[0m\n",
      "\u001b[32m[I 2021-01-25 12:19:56,727]\u001b[0m Trial 344 finished with value: 1875203.9695769888 and parameters: {'eta': 0.2282313050165143, 'gamma': 0.822068310886197, 'max_depth': 11}. Best is trial 108 with value: 1734688.4097678615.\u001b[0m\n",
      "\u001b[32m[I 2021-01-25 12:20:05,584]\u001b[0m Trial 345 finished with value: 2076841.226044689 and parameters: {'eta': 0.1922322567518288, 'gamma': 0.6959688369387544, 'max_depth': 23}. Best is trial 108 with value: 1734688.4097678615.\u001b[0m\n",
      "\u001b[32m[I 2021-01-25 12:20:06,785]\u001b[0m Trial 346 finished with value: 2095235.9825432948 and parameters: {'eta': 0.12651939096018236, 'gamma': 0.2522400671060604, 'max_depth': 9}. Best is trial 108 with value: 1734688.4097678615.\u001b[0m\n",
      "\u001b[32m[I 2021-01-25 12:20:07,841]\u001b[0m Trial 347 finished with value: 1877159.7822946822 and parameters: {'eta': 0.10077844296490762, 'gamma': 0.34633875933850167, 'max_depth': 8}. Best is trial 108 with value: 1734688.4097678615.\u001b[0m\n",
      "\u001b[32m[I 2021-01-25 12:20:09,336]\u001b[0m Trial 348 finished with value: 2104137.7765990775 and parameters: {'eta': 0.16130832123158823, 'gamma': 0.7456107602172539, 'max_depth': 10}. Best is trial 108 with value: 1734688.4097678615.\u001b[0m\n",
      "\u001b[32m[I 2021-01-25 12:20:10,420]\u001b[0m Trial 349 finished with value: 2079975.9558515165 and parameters: {'eta': 0.2120782715483719, 'gamma': 0.5731545718421505, 'max_depth': 8}. Best is trial 108 with value: 1734688.4097678615.\u001b[0m\n",
      "\u001b[32m[I 2021-01-25 12:20:12,013]\u001b[0m Trial 350 finished with value: 1935054.4928647622 and parameters: {'eta': 0.36900170182008885, 'gamma': 0.6347938883817263, 'max_depth': 10}. Best is trial 108 with value: 1734688.4097678615.\u001b[0m\n",
      "\u001b[32m[I 2021-01-25 12:20:14,040]\u001b[0m Trial 351 finished with value: 1969370.5075475809 and parameters: {'eta': 0.1436921729600803, 'gamma': 0.9824541451235516, 'max_depth': 12}. Best is trial 108 with value: 1734688.4097678615.\u001b[0m\n",
      "\u001b[32m[I 2021-01-25 12:20:15,416]\u001b[0m Trial 352 finished with value: 2029689.9097607164 and parameters: {'eta': 0.4246301263953062, 'gamma': 0.5959750009704511, 'max_depth': 9}. Best is trial 108 with value: 1734688.4097678615.\u001b[0m\n",
      "\u001b[32m[I 2021-01-25 12:20:17,192]\u001b[0m Trial 353 finished with value: 2098461.3093578797 and parameters: {'eta': 0.18089194250736865, 'gamma': 0.1692209947881636, 'max_depth': 11}. Best is trial 108 with value: 1734688.4097678615.\u001b[0m\n",
      "\u001b[32m[I 2021-01-25 12:20:18,409]\u001b[0m Trial 354 finished with value: 1760008.8462507548 and parameters: {'eta': 0.11716859682160037, 'gamma': 0.1942597335508809, 'max_depth': 9}. Best is trial 108 with value: 1734688.4097678615.\u001b[0m\n",
      "\u001b[32m[I 2021-01-25 12:20:19,896]\u001b[0m Trial 355 finished with value: 1759165.9132710402 and parameters: {'eta': 0.11086880160639166, 'gamma': 0.18643365737968165, 'max_depth': 10}. Best is trial 108 with value: 1734688.4097678615.\u001b[0m\n",
      "\u001b[32m[I 2021-01-25 12:20:20,952]\u001b[0m Trial 356 finished with value: 1979845.2725772962 and parameters: {'eta': 0.10246049976536792, 'gamma': 0.1919347876261787, 'max_depth': 8}. Best is trial 108 with value: 1734688.4097678615.\u001b[0m\n",
      "\u001b[32m[I 2021-01-25 12:20:22,394]\u001b[0m Trial 357 finished with value: 1785983.6190419814 and parameters: {'eta': 0.11237430322709684, 'gamma': 0.21928120497240836, 'max_depth': 10}. Best is trial 108 with value: 1734688.4097678615.\u001b[0m\n",
      "\u001b[32m[I 2021-01-25 12:20:23,342]\u001b[0m Trial 358 finished with value: 2087259.9883187336 and parameters: {'eta': 0.23389106573636625, 'gamma': 0.22258817023170113, 'max_depth': 7}. Best is trial 108 with value: 1734688.4097678615.\u001b[0m\n",
      "\u001b[32m[I 2021-01-25 12:20:24,597]\u001b[0m Trial 359 finished with value: 2008606.3108391212 and parameters: {'eta': 0.11067401805881494, 'gamma': 0.23069188782374367, 'max_depth': 9}. Best is trial 108 with value: 1734688.4097678615.\u001b[0m\n"
     ]
    },
    {
     "name": "stderr",
     "output_type": "stream",
     "text": [
      "\u001b[32m[I 2021-01-25 12:20:26,307]\u001b[0m Trial 360 finished with value: 1869305.3504022858 and parameters: {'eta': 0.10150563461084999, 'gamma': 0.2068280722757245, 'max_depth': 11}. Best is trial 108 with value: 1734688.4097678615.\u001b[0m\n",
      "\u001b[32m[I 2021-01-25 12:20:27,867]\u001b[0m Trial 361 finished with value: 2101834.4221971617 and parameters: {'eta': 0.21243192286017626, 'gamma': 0.1931756213184386, 'max_depth': 10}. Best is trial 108 with value: 1734688.4097678615.\u001b[0m\n",
      "\u001b[32m[I 2021-01-25 12:20:28,934]\u001b[0m Trial 362 finished with value: 2116667.0025884435 and parameters: {'eta': 0.11593475443339617, 'gamma': 0.27020038005256575, 'max_depth': 8}. Best is trial 108 with value: 1734688.4097678615.\u001b[0m\n",
      "\u001b[32m[I 2021-01-25 12:20:29,778]\u001b[0m Trial 363 finished with value: 1850961.121467863 and parameters: {'eta': 0.27363269174155064, 'gamma': 0.18016081820755903, 'max_depth': 6}. Best is trial 108 with value: 1734688.4097678615.\u001b[0m\n",
      "\u001b[32m[I 2021-01-25 12:20:31,038]\u001b[0m Trial 364 finished with value: 1828787.7897734293 and parameters: {'eta': 0.19407313927189077, 'gamma': 0.20446508498770669, 'max_depth': 9}. Best is trial 108 with value: 1734688.4097678615.\u001b[0m\n",
      "\u001b[32m[I 2021-01-25 12:20:31,989]\u001b[0m Trial 365 finished with value: 1875666.5902941008 and parameters: {'eta': 0.24026359563859356, 'gamma': 0.16374821105099843, 'max_depth': 7}. Best is trial 108 with value: 1734688.4097678615.\u001b[0m\n",
      "\u001b[32m[I 2021-01-25 12:20:33,453]\u001b[0m Trial 366 finished with value: 1823792.4718315853 and parameters: {'eta': 0.13772870309637406, 'gamma': 0.24358815642405324, 'max_depth': 10}. Best is trial 108 with value: 1734688.4097678615.\u001b[0m\n",
      "\u001b[32m[I 2021-01-25 12:20:34,683]\u001b[0m Trial 367 finished with value: 1857697.1141996798 and parameters: {'eta': 0.10174086633501937, 'gamma': 0.2231730287202005, 'max_depth': 9}. Best is trial 108 with value: 1734688.4097678615.\u001b[0m\n",
      "\u001b[32m[I 2021-01-25 12:20:35,779]\u001b[0m Trial 368 finished with value: 1806815.2488925054 and parameters: {'eta': 0.17588094119707987, 'gamma': 0.19327593455985806, 'max_depth': 8}. Best is trial 108 with value: 1734688.4097678615.\u001b[0m\n",
      "\u001b[32m[I 2021-01-25 12:20:37,322]\u001b[0m Trial 369 finished with value: 1851468.0392093887 and parameters: {'eta': 0.22262004177632405, 'gamma': 0.4302971385964858, 'max_depth': 10}. Best is trial 108 with value: 1734688.4097678615.\u001b[0m\n",
      "\u001b[32m[I 2021-01-25 12:20:39,544]\u001b[0m Trial 370 finished with value: 2197324.5716116717 and parameters: {'eta': 0.16237800676819006, 'gamma': 0.17502343216220909, 'max_depth': 12}. Best is trial 108 with value: 1734688.4097678615.\u001b[0m\n",
      "\u001b[32m[I 2021-01-25 12:20:40,808]\u001b[0m Trial 371 finished with value: 1823109.5805603992 and parameters: {'eta': 0.19312799496050054, 'gamma': 0.15014684286899466, 'max_depth': 9}. Best is trial 108 with value: 1734688.4097678615.\u001b[0m\n",
      "\u001b[32m[I 2021-01-25 12:20:42,476]\u001b[0m Trial 372 finished with value: 1924208.5095880947 and parameters: {'eta': 0.11525398513490785, 'gamma': 0.18900056048409383, 'max_depth': 11}. Best is trial 108 with value: 1734688.4097678615.\u001b[0m\n",
      "\u001b[32m[I 2021-01-25 12:20:43,768]\u001b[0m Trial 373 finished with value: 1846838.5026752371 and parameters: {'eta': 0.2642645297945459, 'gamma': 0.20561958062136856, 'max_depth': 9}. Best is trial 108 with value: 1734688.4097678615.\u001b[0m\n",
      "\u001b[32m[I 2021-01-25 12:20:45,677]\u001b[0m Trial 374 finished with value: 2163877.06595323 and parameters: {'eta': 0.21170886109773218, 'gamma': 0.13827124681185105, 'max_depth': 11}. Best is trial 108 with value: 1734688.4097678615.\u001b[0m\n",
      "\u001b[32m[I 2021-01-25 12:20:46,747]\u001b[0m Trial 375 finished with value: 1890363.169717307 and parameters: {'eta': 0.1315610239789521, 'gamma': 0.24056158030848082, 'max_depth': 8}. Best is trial 108 with value: 1734688.4097678615.\u001b[0m\n",
      "\u001b[32m[I 2021-01-25 12:20:48,259]\u001b[0m Trial 376 finished with value: 2141156.2175479713 and parameters: {'eta': 0.15808896316384072, 'gamma': 0.16226650295243167, 'max_depth': 10}. Best is trial 108 with value: 1734688.4097678615.\u001b[0m\n",
      "\u001b[32m[I 2021-01-25 12:20:49,709]\u001b[0m Trial 377 finished with value: 1851919.3372971835 and parameters: {'eta': 0.10018379518978475, 'gamma': 0.21956578664701618, 'max_depth': 10}. Best is trial 108 with value: 1734688.4097678615.\u001b[0m\n",
      "\u001b[32m[I 2021-01-25 12:20:50,709]\u001b[0m Trial 378 finished with value: 2152434.7199753416 and parameters: {'eta': 0.6071973423410676, 'gamma': 0.17047209845845865, 'max_depth': 7}. Best is trial 108 with value: 1734688.4097678615.\u001b[0m\n",
      "\u001b[32m[I 2021-01-25 12:20:51,976]\u001b[0m Trial 379 finished with value: 1780299.3202606887 and parameters: {'eta': 0.19421542151596183, 'gamma': 0.6799630802450419, 'max_depth': 9}. Best is trial 108 with value: 1734688.4097678615.\u001b[0m\n",
      "\u001b[32m[I 2021-01-25 12:20:53,040]\u001b[0m Trial 380 finished with value: 2008738.7942273798 and parameters: {'eta': 0.1804775299735995, 'gamma': 0.7044548259171957, 'max_depth': 8}. Best is trial 108 with value: 1734688.4097678615.\u001b[0m\n",
      "\u001b[32m[I 2021-01-25 12:20:54,273]\u001b[0m Trial 381 finished with value: 1812413.4609275968 and parameters: {'eta': 0.1464484090236885, 'gamma': 0.7256149343129147, 'max_depth': 9}. Best is trial 108 with value: 1734688.4097678615.\u001b[0m\n",
      "\u001b[32m[I 2021-01-25 12:20:55,497]\u001b[0m Trial 382 finished with value: 1772717.7370205985 and parameters: {'eta': 0.1000753763053423, 'gamma': 0.6706874952482411, 'max_depth': 9}. Best is trial 108 with value: 1734688.4097678615.\u001b[0m\n",
      "\u001b[32m[I 2021-01-25 12:20:56,585]\u001b[0m Trial 383 finished with value: 1854587.6229688427 and parameters: {'eta': 0.11946026953637806, 'gamma': 0.6894083756475642, 'max_depth': 8}. Best is trial 108 with value: 1734688.4097678615.\u001b[0m\n",
      "\u001b[32m[I 2021-01-25 12:20:57,629]\u001b[0m Trial 384 finished with value: 1939197.6071030553 and parameters: {'eta': 0.10345487029951891, 'gamma': 0.6774172995798546, 'max_depth': 8}. Best is trial 108 with value: 1734688.4097678615.\u001b[0m\n",
      "\u001b[32m[I 2021-01-25 12:20:58,876]\u001b[0m Trial 385 finished with value: 2114594.523642937 and parameters: {'eta': 0.12349633845313805, 'gamma': 0.7084533333807713, 'max_depth': 9}. Best is trial 108 with value: 1734688.4097678615.\u001b[0m\n",
      "\u001b[32m[I 2021-01-25 12:20:59,810]\u001b[0m Trial 386 finished with value: 1962977.7552008852 and parameters: {'eta': 0.13276532083874487, 'gamma': 0.682072570838249, 'max_depth': 7}. Best is trial 108 with value: 1734688.4097678615.\u001b[0m\n",
      "\u001b[32m[I 2021-01-25 12:21:00,882]\u001b[0m Trial 387 finished with value: 2106926.851775528 and parameters: {'eta': 0.10205586224291599, 'gamma': 0.6534978186221689, 'max_depth': 8}. Best is trial 108 with value: 1734688.4097678615.\u001b[0m\n",
      "\u001b[32m[I 2021-01-25 12:21:02,138]\u001b[0m Trial 388 finished with value: 2061363.5614947462 and parameters: {'eta': 0.14289585230072382, 'gamma': 0.6744083269123755, 'max_depth': 9}. Best is trial 108 with value: 1734688.4097678615.\u001b[0m\n",
      "\u001b[32m[I 2021-01-25 12:21:03,322]\u001b[0m Trial 389 finished with value: 1912271.6883182009 and parameters: {'eta': 0.10054449268921312, 'gamma': 0.6491584133153858, 'max_depth': 9}. Best is trial 108 with value: 1734688.4097678615.\u001b[0m\n",
      "\u001b[32m[I 2021-01-25 12:21:04,175]\u001b[0m Trial 390 finished with value: 2098862.935418081 and parameters: {'eta': 0.5351986450686653, 'gamma': 0.7764143760739077, 'max_depth': 6}. Best is trial 108 with value: 1734688.4097678615.\u001b[0m\n",
      "\u001b[32m[I 2021-01-25 12:21:05,451]\u001b[0m Trial 391 finished with value: 1818015.768392334 and parameters: {'eta': 0.16506014606601666, 'gamma': 0.6668186434847619, 'max_depth': 9}. Best is trial 108 with value: 1734688.4097678615.\u001b[0m\n",
      "\u001b[32m[I 2021-01-25 12:21:06,511]\u001b[0m Trial 392 finished with value: 1892954.788822978 and parameters: {'eta': 0.10063821959398167, 'gamma': 0.712740410585082, 'max_depth': 8}. Best is trial 108 with value: 1734688.4097678615.\u001b[0m\n",
      "\u001b[32m[I 2021-01-25 12:21:07,960]\u001b[0m Trial 393 finished with value: 1815353.677865474 and parameters: {'eta': 0.12276795644974922, 'gamma': 0.9429043573363212, 'max_depth': 10}. Best is trial 108 with value: 1734688.4097678615.\u001b[0m\n",
      "\u001b[32m[I 2021-01-25 12:21:08,888]\u001b[0m Trial 394 finished with value: 1989545.9184449266 and parameters: {'eta': 0.15406469689488062, 'gamma': 0.26332758120180244, 'max_depth': 7}. Best is trial 108 with value: 1734688.4097678615.\u001b[0m\n",
      "\u001b[32m[I 2021-01-25 12:21:10,140]\u001b[0m Trial 395 finished with value: 1795127.4179961185 and parameters: {'eta': 0.13464241005834202, 'gamma': 0.38572966669313713, 'max_depth': 9}. Best is trial 108 with value: 1734688.4097678615.\u001b[0m\n"
     ]
    },
    {
     "name": "stderr",
     "output_type": "stream",
     "text": [
      "\u001b[32m[I 2021-01-25 12:21:11,641]\u001b[0m Trial 396 finished with value: 1818353.7346668947 and parameters: {'eta': 0.17699457701826815, 'gamma': 0.184528410013335, 'max_depth': 10}. Best is trial 108 with value: 1734688.4097678615.\u001b[0m\n",
      "\u001b[32m[I 2021-01-25 12:21:12,700]\u001b[0m Trial 397 finished with value: 2032961.461813033 and parameters: {'eta': 0.12037296033319153, 'gamma': 0.7543008164099863, 'max_depth': 8}. Best is trial 108 with value: 1734688.4097678615.\u001b[0m\n",
      "\u001b[32m[I 2021-01-25 12:21:13,975]\u001b[0m Trial 398 finished with value: 1913393.618559026 and parameters: {'eta': 0.1961143328030206, 'gamma': 0.693654624727676, 'max_depth': 9}. Best is trial 108 with value: 1734688.4097678615.\u001b[0m\n",
      "\u001b[32m[I 2021-01-25 12:21:15,759]\u001b[0m Trial 399 finished with value: 1994186.6663283021 and parameters: {'eta': 0.16441955545846926, 'gamma': 0.2054534199228546, 'max_depth': 11}. Best is trial 108 with value: 1734688.4097678615.\u001b[0m\n",
      "\u001b[32m[I 2021-01-25 12:21:16,991]\u001b[0m Trial 400 finished with value: 1838996.1978510073 and parameters: {'eta': 0.14522960269146362, 'gamma': 0.1399961776271791, 'max_depth': 9}. Best is trial 108 with value: 1734688.4097678615.\u001b[0m\n",
      "\u001b[32m[I 2021-01-25 12:21:18,435]\u001b[0m Trial 401 finished with value: 1847780.7242005388 and parameters: {'eta': 0.1177690856201861, 'gamma': 0.6477578962111088, 'max_depth': 10}. Best is trial 108 with value: 1734688.4097678615.\u001b[0m\n",
      "\u001b[32m[I 2021-01-25 12:21:19,381]\u001b[0m Trial 402 finished with value: 2102841.2946300465 and parameters: {'eta': 0.18558563397261796, 'gamma': 0.7315156310995427, 'max_depth': 7}. Best is trial 108 with value: 1734688.4097678615.\u001b[0m\n",
      "\u001b[32m[I 2021-01-25 12:21:20,645]\u001b[0m Trial 403 finished with value: 1815469.5639385362 and parameters: {'eta': 0.10192628514838935, 'gamma': 0.6780675438446846, 'max_depth': 9}. Best is trial 108 with value: 1734688.4097678615.\u001b[0m\n",
      "\u001b[32m[I 2021-01-25 12:21:21,737]\u001b[0m Trial 404 finished with value: 1988434.2539313526 and parameters: {'eta': 0.23449873156363474, 'gamma': 0.15199144292991218, 'max_depth': 8}. Best is trial 108 with value: 1734688.4097678615.\u001b[0m\n",
      "\u001b[32m[I 2021-01-25 12:21:23,528]\u001b[0m Trial 405 finished with value: 2392982.877258541 and parameters: {'eta': 0.8842059679435774, 'gamma': 0.2912072552398985, 'max_depth': 10}. Best is trial 108 with value: 1734688.4097678615.\u001b[0m\n",
      "\u001b[32m[I 2021-01-25 12:21:24,592]\u001b[0m Trial 406 finished with value: 2112351.724964926 and parameters: {'eta': 0.15418643726258258, 'gamma': 0.17983734385532113, 'max_depth': 8}. Best is trial 108 with value: 1734688.4097678615.\u001b[0m\n",
      "\u001b[32m[I 2021-01-25 12:21:26,413]\u001b[0m Trial 407 finished with value: 1858715.2433054703 and parameters: {'eta': 0.2042544195603139, 'gamma': 0.8983476338375862, 'max_depth': 11}. Best is trial 108 with value: 1734688.4097678615.\u001b[0m\n",
      "\u001b[32m[I 2021-01-25 12:21:29,547]\u001b[0m Trial 408 finished with value: 2073351.358764932 and parameters: {'eta': 0.17351473261851677, 'gamma': 0.21016941960984498, 'max_depth': 14}. Best is trial 108 with value: 1734688.4097678615.\u001b[0m\n",
      "\u001b[32m[I 2021-01-25 12:21:31,035]\u001b[0m Trial 409 finished with value: 1884254.983177134 and parameters: {'eta': 0.13088393880989685, 'gamma': 0.12838696908781647, 'max_depth': 10}. Best is trial 108 with value: 1734688.4097678615.\u001b[0m\n",
      "\u001b[32m[I 2021-01-25 12:21:32,303]\u001b[0m Trial 410 finished with value: 1764339.293009428 and parameters: {'eta': 0.2238210724582092, 'gamma': 0.8006432257499461, 'max_depth': 9}. Best is trial 108 with value: 1734688.4097678615.\u001b[0m\n",
      "\u001b[32m[I 2021-01-25 12:21:37,072]\u001b[0m Trial 411 finished with value: 2051021.555032043 and parameters: {'eta': 0.23444615082467288, 'gamma': 0.8329418057490541, 'max_depth': 16}. Best is trial 108 with value: 1734688.4097678615.\u001b[0m\n",
      "\u001b[32m[I 2021-01-25 12:21:38,380]\u001b[0m Trial 412 finished with value: 1990212.6889135316 and parameters: {'eta': 0.25916575628186345, 'gamma': 0.812939509759627, 'max_depth': 9}. Best is trial 108 with value: 1734688.4097678615.\u001b[0m\n",
      "\u001b[32m[I 2021-01-25 12:21:39,449]\u001b[0m Trial 413 finished with value: 1927262.110109005 and parameters: {'eta': 0.22312346530111404, 'gamma': 0.8654561059559198, 'max_depth': 8}. Best is trial 108 with value: 1734688.4097678615.\u001b[0m\n",
      "\u001b[32m[I 2021-01-25 12:21:40,781]\u001b[0m Trial 414 finished with value: 1960006.0453817537 and parameters: {'eta': 0.24602641616876988, 'gamma': 0.7903463703785906, 'max_depth': 9}. Best is trial 108 with value: 1734688.4097678615.\u001b[0m\n",
      "\u001b[32m[I 2021-01-25 12:21:41,737]\u001b[0m Trial 415 finished with value: 2107610.3110943018 and parameters: {'eta': 0.21623800012455488, 'gamma': 0.7493953570002317, 'max_depth': 7}. Best is trial 108 with value: 1734688.4097678615.\u001b[0m\n",
      "\u001b[32m[I 2021-01-25 12:21:42,820]\u001b[0m Trial 416 finished with value: 1952848.0786586024 and parameters: {'eta': 0.2940523861950617, 'gamma': 0.731929949399908, 'max_depth': 8}. Best is trial 108 with value: 1734688.4097678615.\u001b[0m\n",
      "\u001b[32m[I 2021-01-25 12:21:43,905]\u001b[0m Trial 417 finished with value: 1814758.2923414484 and parameters: {'eta': 0.1915426690169335, 'gamma': 0.7694122515869962, 'max_depth': 8}. Best is trial 108 with value: 1734688.4097678615.\u001b[0m\n",
      "\u001b[32m[I 2021-01-25 12:21:45,165]\u001b[0m Trial 418 finished with value: 1818490.7319856866 and parameters: {'eta': 0.19849404760867498, 'gamma': 0.6935948049785627, 'max_depth': 9}. Best is trial 108 with value: 1734688.4097678615.\u001b[0m\n",
      "\u001b[32m[I 2021-01-25 12:21:46,496]\u001b[0m Trial 419 finished with value: 2023096.6205126373 and parameters: {'eta': 0.21941229015446967, 'gamma': 0.663052826577075, 'max_depth': 9}. Best is trial 108 with value: 1734688.4097678615.\u001b[0m\n",
      "\u001b[32m[I 2021-01-25 12:21:47,436]\u001b[0m Trial 420 finished with value: 1816315.1993366438 and parameters: {'eta': 0.1814285456560915, 'gamma': 0.7175090385574249, 'max_depth': 7}. Best is trial 108 with value: 1734688.4097678615.\u001b[0m\n",
      "\u001b[32m[I 2021-01-25 12:21:48,597]\u001b[0m Trial 421 finished with value: 2350931.4398903777 and parameters: {'eta': 0.7032978908920338, 'gamma': 0.8020964077477584, 'max_depth': 8}. Best is trial 108 with value: 1734688.4097678615.\u001b[0m\n",
      "\u001b[32m[I 2021-01-25 12:21:50,145]\u001b[0m Trial 422 finished with value: 1815923.6738042347 and parameters: {'eta': 0.240641118759817, 'gamma': 0.6423030463888874, 'max_depth': 10}. Best is trial 108 with value: 1734688.4097678615.\u001b[0m\n",
      "\u001b[32m[I 2021-01-25 12:21:51,429]\u001b[0m Trial 423 finished with value: 1968447.0592016226 and parameters: {'eta': 0.25886890585190264, 'gamma': 0.7037223629485305, 'max_depth': 9}. Best is trial 108 with value: 1734688.4097678615.\u001b[0m\n",
      "\u001b[32m[I 2021-01-25 12:21:52,900]\u001b[0m Trial 424 finished with value: 1774417.5435643438 and parameters: {'eta': 0.20233872085987573, 'gamma': 0.6795017265868218, 'max_depth': 10}. Best is trial 108 with value: 1734688.4097678615.\u001b[0m\n",
      "\u001b[32m[I 2021-01-25 12:21:53,468]\u001b[0m Trial 425 finished with value: 2996515.3136626817 and parameters: {'eta': 0.2225442298699597, 'gamma': 0.6786067537445006, 'max_depth': 3}. Best is trial 108 with value: 1734688.4097678615.\u001b[0m\n",
      "\u001b[32m[I 2021-01-25 12:21:55,342]\u001b[0m Trial 426 finished with value: 2157226.07494699 and parameters: {'eta': 0.21168000062270595, 'gamma': 0.6610542515702625, 'max_depth': 11}. Best is trial 108 with value: 1734688.4097678615.\u001b[0m\n",
      "\u001b[32m[I 2021-01-25 12:21:57,493]\u001b[0m Trial 427 finished with value: 1931429.8254162173 and parameters: {'eta': 0.16403159617990484, 'gamma': 0.6927860113471883, 'max_depth': 12}. Best is trial 108 with value: 1734688.4097678615.\u001b[0m\n",
      "\u001b[32m[I 2021-01-25 12:21:59,317]\u001b[0m Trial 428 finished with value: 1877432.5512721278 and parameters: {'eta': 0.19787137071901867, 'gamma': 0.9211825036569347, 'max_depth': 11}. Best is trial 108 with value: 1734688.4097678615.\u001b[0m\n",
      "\u001b[32m[I 2021-01-25 12:22:00,621]\u001b[0m Trial 429 finished with value: 1750304.996594449 and parameters: {'eta': 0.2101203970846256, 'gamma': 0.9680671844219059, 'max_depth': 9}. Best is trial 108 with value: 1734688.4097678615.\u001b[0m\n",
      "\u001b[32m[I 2021-01-25 12:22:02,151]\u001b[0m Trial 430 finished with value: 1822652.221234192 and parameters: {'eta': 0.2456461151789021, 'gamma': 0.9753684322944074, 'max_depth': 10}. Best is trial 108 with value: 1734688.4097678615.\u001b[0m\n",
      "\u001b[32m[I 2021-01-25 12:22:03,101]\u001b[0m Trial 431 finished with value: 2021585.5035782782 and parameters: {'eta': 0.22524978294065623, 'gamma': 0.6360535633593877, 'max_depth': 7}. Best is trial 108 with value: 1734688.4097678615.\u001b[0m\n"
     ]
    },
    {
     "name": "stderr",
     "output_type": "stream",
     "text": [
      "\u001b[32m[I 2021-01-25 12:22:04,179]\u001b[0m Trial 432 finished with value: 2026893.758290312 and parameters: {'eta': 0.20554408598310553, 'gamma': 0.9891871944504416, 'max_depth': 8}. Best is trial 108 with value: 1734688.4097678615.\u001b[0m\n",
      "\u001b[32m[I 2021-01-25 12:22:05,463]\u001b[0m Trial 433 finished with value: 1834987.2944606105 and parameters: {'eta': 0.24024221453451747, 'gamma': 0.9493349228469501, 'max_depth': 9}. Best is trial 108 with value: 1734688.4097678615.\u001b[0m\n",
      "\u001b[32m[I 2021-01-25 12:22:06,578]\u001b[0m Trial 434 finished with value: 2046821.4744442473 and parameters: {'eta': 0.2805826741981273, 'gamma': 0.9704618473788859, 'max_depth': 8}. Best is trial 108 with value: 1734688.4097678615.\u001b[0m\n",
      "\u001b[32m[I 2021-01-25 12:22:08,129]\u001b[0m Trial 435 finished with value: 1882638.1387849906 and parameters: {'eta': 0.20826900358765738, 'gamma': 0.9992260947040107, 'max_depth': 10}. Best is trial 108 with value: 1734688.4097678615.\u001b[0m\n",
      "\u001b[32m[I 2021-01-25 12:22:08,949]\u001b[0m Trial 436 finished with value: 2112396.813442599 and parameters: {'eta': 0.22720348141896393, 'gamma': 0.6623941268071204, 'max_depth': 6}. Best is trial 108 with value: 1734688.4097678615.\u001b[0m\n",
      "\u001b[32m[I 2021-01-25 12:22:10,223]\u001b[0m Trial 437 finished with value: 1751819.8673699503 and parameters: {'eta': 0.1891173722306485, 'gamma': 0.9694282211531835, 'max_depth': 9}. Best is trial 108 with value: 1734688.4097678615.\u001b[0m\n",
      "\u001b[32m[I 2021-01-25 12:22:11,513]\u001b[0m Trial 438 finished with value: 1845646.932200339 and parameters: {'eta': 0.18977062459843708, 'gamma': 0.9318097312818578, 'max_depth': 9}. Best is trial 108 with value: 1734688.4097678615.\u001b[0m\n",
      "\u001b[32m[I 2021-01-25 12:22:12,609]\u001b[0m Trial 439 finished with value: 2012487.761759634 and parameters: {'eta': 0.20799897670527268, 'gamma': 0.9620545223963293, 'max_depth': 8}. Best is trial 108 with value: 1734688.4097678615.\u001b[0m\n",
      "\u001b[32m[I 2021-01-25 12:22:13,541]\u001b[0m Trial 440 finished with value: 2085061.118629806 and parameters: {'eta': 0.17590128594547472, 'gamma': 0.9563815180199641, 'max_depth': 7}. Best is trial 108 with value: 1734688.4097678615.\u001b[0m\n",
      "\u001b[32m[I 2021-01-25 12:22:14,785]\u001b[0m Trial 441 finished with value: 1808546.1614940767 and parameters: {'eta': 0.1947217693349496, 'gamma': 0.9795239820281652, 'max_depth': 9}. Best is trial 108 with value: 1734688.4097678615.\u001b[0m\n",
      "\u001b[32m[I 2021-01-25 12:22:15,873]\u001b[0m Trial 442 finished with value: 2070390.3245344914 and parameters: {'eta': 0.21221290064702497, 'gamma': 0.9379981453936563, 'max_depth': 8}. Best is trial 108 with value: 1734688.4097678615.\u001b[0m\n",
      "\u001b[32m[I 2021-01-25 12:22:17,076]\u001b[0m Trial 443 finished with value: 1796119.5980915762 and parameters: {'eta': 0.1774024645338084, 'gamma': 0.16894288890769066, 'max_depth': 9}. Best is trial 108 with value: 1734688.4097678615.\u001b[0m\n",
      "\u001b[32m[I 2021-01-25 12:22:17,900]\u001b[0m Trial 444 finished with value: 2045253.7500169158 and parameters: {'eta': 0.2296834949489153, 'gamma': 0.9475174808184047, 'max_depth': 6}. Best is trial 108 with value: 1734688.4097678615.\u001b[0m\n",
      "\u001b[32m[I 2021-01-25 12:22:18,991]\u001b[0m Trial 445 finished with value: 2031780.8225720178 and parameters: {'eta': 0.18757833097092116, 'gamma': 0.99528610490046, 'max_depth': 8}. Best is trial 108 with value: 1734688.4097678615.\u001b[0m\n",
      "\u001b[32m[I 2021-01-25 12:22:20,574]\u001b[0m Trial 446 finished with value: 2055730.917800519 and parameters: {'eta': 0.2631089214862897, 'gamma': 0.9068015445981066, 'max_depth': 10}. Best is trial 108 with value: 1734688.4097678615.\u001b[0m\n",
      "\u001b[32m[I 2021-01-25 12:22:21,829]\u001b[0m Trial 447 finished with value: 1817617.370709442 and parameters: {'eta': 0.16663831659198414, 'gamma': 0.9679116562419225, 'max_depth': 9}. Best is trial 108 with value: 1734688.4097678615.\u001b[0m\n",
      "\u001b[32m[I 2021-01-25 12:22:23,083]\u001b[0m Trial 448 finished with value: 1779888.0126273169 and parameters: {'eta': 0.2063399991116143, 'gamma': 0.9314867877838314, 'max_depth': 9}. Best is trial 108 with value: 1734688.4097678615.\u001b[0m\n",
      "\u001b[32m[I 2021-01-25 12:22:24,171]\u001b[0m Trial 449 finished with value: 1855101.1163919033 and parameters: {'eta': 0.21848907655641644, 'gamma': 0.9401098420485485, 'max_depth': 8}. Best is trial 108 with value: 1734688.4097678615.\u001b[0m\n",
      "\u001b[32m[I 2021-01-25 12:22:25,123]\u001b[0m Trial 450 finished with value: 2127647.090870818 and parameters: {'eta': 0.2100144453508142, 'gamma': 0.9081243349409056, 'max_depth': 7}. Best is trial 108 with value: 1734688.4097678615.\u001b[0m\n",
      "\u001b[32m[I 2021-01-25 12:22:26,419]\u001b[0m Trial 451 finished with value: 1799039.2665508068 and parameters: {'eta': 0.2354089139978218, 'gamma': 0.9342779065375857, 'max_depth': 9}. Best is trial 108 with value: 1734688.4097678615.\u001b[0m\n",
      "\u001b[32m[I 2021-01-25 12:22:27,663]\u001b[0m Trial 452 finished with value: 1806317.7712479245 and parameters: {'eta': 0.19568057731667687, 'gamma': 0.8824238244128269, 'max_depth': 9}. Best is trial 108 with value: 1734688.4097678615.\u001b[0m\n",
      "\u001b[32m[I 2021-01-25 12:22:28,754]\u001b[0m Trial 453 finished with value: 1913134.003970025 and parameters: {'eta': 0.20035857295782963, 'gamma': 0.958896527002635, 'max_depth': 8}. Best is trial 108 with value: 1734688.4097678615.\u001b[0m\n",
      "\u001b[32m[I 2021-01-25 12:22:29,852]\u001b[0m Trial 454 finished with value: 1946264.8070439033 and parameters: {'eta': 0.2436399810982218, 'gamma': 0.8418657152263505, 'max_depth': 8}. Best is trial 108 with value: 1734688.4097678615.\u001b[0m\n",
      "\u001b[32m[I 2021-01-25 12:22:31,392]\u001b[0m Trial 455 finished with value: 1800401.6570136324 and parameters: {'eta': 0.17800514446173388, 'gamma': 0.1920977359618582, 'max_depth': 10}. Best is trial 108 with value: 1734688.4097678615.\u001b[0m\n",
      "\u001b[32m[I 2021-01-25 12:22:32,666]\u001b[0m Trial 456 finished with value: 1974138.693151126 and parameters: {'eta': 0.25468173547197154, 'gamma': 0.9984694985908117, 'max_depth': 9}. Best is trial 108 with value: 1734688.4097678615.\u001b[0m\n",
      "\u001b[32m[I 2021-01-25 12:22:33,736]\u001b[0m Trial 457 finished with value: 1908329.7824446338 and parameters: {'eta': 0.22422672820818668, 'gamma': 0.9669386485210428, 'max_depth': 8}. Best is trial 108 with value: 1734688.4097678615.\u001b[0m\n",
      "\u001b[32m[I 2021-01-25 12:22:35,040]\u001b[0m Trial 458 finished with value: 1913163.9284653682 and parameters: {'eta': 0.19026730053389826, 'gamma': 0.9087175102005229, 'max_depth': 9}. Best is trial 108 with value: 1734688.4097678615.\u001b[0m\n",
      "\u001b[32m[I 2021-01-25 12:22:35,984]\u001b[0m Trial 459 finished with value: 2058851.512202675 and parameters: {'eta': 0.16789135025876684, 'gamma': 0.9216215141227596, 'max_depth': 7}. Best is trial 108 with value: 1734688.4097678615.\u001b[0m\n",
      "\u001b[32m[I 2021-01-25 12:22:37,216]\u001b[0m Trial 460 finished with value: 1817125.3430849721 and parameters: {'eta': 0.2031528969850105, 'gamma': 0.9535449301840928, 'max_depth': 9}. Best is trial 108 with value: 1734688.4097678615.\u001b[0m\n",
      "\u001b[32m[I 2021-01-25 12:22:38,745]\u001b[0m Trial 461 finished with value: 1866453.0268631398 and parameters: {'eta': 0.22209871344820536, 'gamma': 0.9770415927334107, 'max_depth': 10}. Best is trial 108 with value: 1734688.4097678615.\u001b[0m\n",
      "\u001b[32m[I 2021-01-25 12:22:39,682]\u001b[0m Trial 462 finished with value: 1869576.782260364 and parameters: {'eta': 0.15898321829496329, 'gamma': 0.9325662018220475, 'max_depth': 7}. Best is trial 108 with value: 1734688.4097678615.\u001b[0m\n",
      "\u001b[32m[I 2021-01-25 12:22:40,938]\u001b[0m Trial 463 finished with value: 1812887.389440724 and parameters: {'eta': 0.18026287713647904, 'gamma': 0.45629105507834394, 'max_depth': 9}. Best is trial 108 with value: 1734688.4097678615.\u001b[0m\n",
      "\u001b[32m[I 2021-01-25 12:22:42,480]\u001b[0m Trial 464 finished with value: 1912967.4304047541 and parameters: {'eta': 0.20700521092136603, 'gamma': 0.341971124424105, 'max_depth': 10}. Best is trial 108 with value: 1734688.4097678615.\u001b[0m\n",
      "\u001b[32m[I 2021-01-25 12:22:43,602]\u001b[0m Trial 465 finished with value: 1824030.4687347123 and parameters: {'eta': 0.24695153960405838, 'gamma': 0.7796351033244155, 'max_depth': 8}. Best is trial 108 with value: 1734688.4097678615.\u001b[0m\n",
      "\u001b[32m[I 2021-01-25 12:22:45,165]\u001b[0m Trial 466 finished with value: 1861837.391419774 and parameters: {'eta': 0.18655113436275395, 'gamma': 0.8922356340436564, 'max_depth': 10}. Best is trial 108 with value: 1734688.4097678615.\u001b[0m\n",
      "\u001b[32m[I 2021-01-25 12:22:46,414]\u001b[0m Trial 467 finished with value: 1811634.5399553564 and parameters: {'eta': 0.1491966396559613, 'gamma': 0.7639313480344816, 'max_depth': 9}. Best is trial 108 with value: 1734688.4097678615.\u001b[0m\n"
     ]
    },
    {
     "name": "stderr",
     "output_type": "stream",
     "text": [
      "\u001b[32m[I 2021-01-25 12:22:47,502]\u001b[0m Trial 468 finished with value: 1838378.8099924927 and parameters: {'eta': 0.22254003923992224, 'gamma': 0.16083636214678984, 'max_depth': 8}. Best is trial 108 with value: 1734688.4097678615.\u001b[0m\n",
      "\u001b[32m[I 2021-01-25 12:22:48,795]\u001b[0m Trial 469 finished with value: 2040918.9352029162 and parameters: {'eta': 0.34004754886635136, 'gamma': 0.18008669750481124, 'max_depth': 9}. Best is trial 108 with value: 1734688.4097678615.\u001b[0m\n",
      "\u001b[32m[I 2021-01-25 12:22:54,578]\u001b[0m Trial 470 finished with value: 2123858.558961027 and parameters: {'eta': 0.1689329922134301, 'gamma': 0.7928642752535464, 'max_depth': 18}. Best is trial 108 with value: 1734688.4097678615.\u001b[0m\n",
      "\u001b[32m[I 2021-01-25 12:22:55,326]\u001b[0m Trial 471 finished with value: 2167985.9748848123 and parameters: {'eta': 0.20308976261371448, 'gamma': 0.98711226079168, 'max_depth': 5}. Best is trial 108 with value: 1734688.4097678615.\u001b[0m\n",
      "\u001b[32m[I 2021-01-25 12:22:56,905]\u001b[0m Trial 472 finished with value: 2159156.5114647024 and parameters: {'eta': 0.2719795855250353, 'gamma': 0.8550939209311248, 'max_depth': 10}. Best is trial 108 with value: 1734688.4097678615.\u001b[0m\n",
      "\u001b[32m[I 2021-01-25 12:22:58,662]\u001b[0m Trial 473 finished with value: 1934557.570494583 and parameters: {'eta': 0.18425030036369333, 'gamma': 0.6819097596022288, 'max_depth': 11}. Best is trial 108 with value: 1734688.4097678615.\u001b[0m\n",
      "\u001b[32m[I 2021-01-25 12:22:59,980]\u001b[0m Trial 474 finished with value: 1775972.1544073971 and parameters: {'eta': 0.23658798988376914, 'gamma': 0.7201280971087332, 'max_depth': 9}. Best is trial 108 with value: 1734688.4097678615.\u001b[0m\n",
      "\u001b[32m[I 2021-01-25 12:23:00,916]\u001b[0m Trial 475 finished with value: 2076115.0198675087 and parameters: {'eta': 0.155987988323626, 'gamma': 0.7167051774704923, 'max_depth': 7}. Best is trial 108 with value: 1734688.4097678615.\u001b[0m\n",
      "\u001b[32m[I 2021-01-25 12:23:02,015]\u001b[0m Trial 476 finished with value: 2040212.568888383 and parameters: {'eta': 0.20921668363617563, 'gamma': 0.7374753969729017, 'max_depth': 8}. Best is trial 108 with value: 1734688.4097678615.\u001b[0m\n",
      "\u001b[32m[I 2021-01-25 12:23:03,762]\u001b[0m Trial 477 finished with value: 1919553.4805567118 and parameters: {'eta': 0.17329170081361153, 'gamma': 0.7562762360944315, 'max_depth': 11}. Best is trial 108 with value: 1734688.4097678615.\u001b[0m\n",
      "\u001b[32m[I 2021-01-25 12:23:05,045]\u001b[0m Trial 478 finished with value: 1735323.948179875 and parameters: {'eta': 0.23717429948990415, 'gamma': 0.7329942775219638, 'max_depth': 9}. Best is trial 108 with value: 1734688.4097678615.\u001b[0m\n",
      "\u001b[32m[I 2021-01-25 12:23:06,678]\u001b[0m Trial 479 finished with value: 1800000.1199358564 and parameters: {'eta': 0.24991271866923273, 'gamma': 0.7402573050997521, 'max_depth': 10}. Best is trial 108 with value: 1734688.4097678615.\u001b[0m\n",
      "\u001b[32m[I 2021-01-25 12:23:07,790]\u001b[0m Trial 480 finished with value: 1975664.3477467566 and parameters: {'eta': 0.23650295533063093, 'gamma': 0.7281506490997607, 'max_depth': 8}. Best is trial 108 with value: 1734688.4097678615.\u001b[0m\n",
      "\u001b[32m[I 2021-01-25 12:23:17,132]\u001b[0m Trial 481 finished with value: 2286068.7178119435 and parameters: {'eta': 0.26292373048547607, 'gamma': 0.7144085840725607, 'max_depth': 26}. Best is trial 108 with value: 1734688.4097678615.\u001b[0m\n",
      "\u001b[32m[I 2021-01-25 12:23:18,212]\u001b[0m Trial 482 finished with value: 2100817.7478869893 and parameters: {'eta': 0.3007200867046833, 'gamma': 0.7333959379824652, 'max_depth': 8}. Best is trial 108 with value: 1734688.4097678615.\u001b[0m\n",
      "\u001b[32m[I 2021-01-25 12:23:19,774]\u001b[0m Trial 483 finished with value: 1823775.21052844 and parameters: {'eta': 0.23058406505826867, 'gamma': 0.7628154967035972, 'max_depth': 10}. Best is trial 108 with value: 1734688.4097678615.\u001b[0m\n",
      "\u001b[32m[I 2021-01-25 12:23:21,082]\u001b[0m Trial 484 finished with value: 1763495.4842817863 and parameters: {'eta': 0.27936519491157463, 'gamma': 0.7086452214249471, 'max_depth': 9}. Best is trial 108 with value: 1734688.4097678615.\u001b[0m\n",
      "\u001b[32m[I 2021-01-25 12:23:22,356]\u001b[0m Trial 485 finished with value: 1869633.6641242933 and parameters: {'eta': 0.26459507000533794, 'gamma': 0.7484486211388447, 'max_depth': 9}. Best is trial 108 with value: 1734688.4097678615.\u001b[0m\n",
      "\u001b[32m[I 2021-01-25 12:23:24,269]\u001b[0m Trial 486 finished with value: 2003674.5892302985 and parameters: {'eta': 0.2853312893165534, 'gamma': 0.70200996244549, 'max_depth': 11}. Best is trial 108 with value: 1734688.4097678615.\u001b[0m\n",
      "\u001b[32m[I 2021-01-25 12:23:25,221]\u001b[0m Trial 487 finished with value: 1909491.487967556 and parameters: {'eta': 0.2498858008470779, 'gamma': 0.7090287005782736, 'max_depth': 7}. Best is trial 108 with value: 1734688.4097678615.\u001b[0m\n",
      "\u001b[32m[I 2021-01-25 12:23:26,343]\u001b[0m Trial 488 finished with value: 2029530.5161001384 and parameters: {'eta': 0.270264079224288, 'gamma': 0.7204464970681157, 'max_depth': 8}. Best is trial 108 with value: 1734688.4097678615.\u001b[0m\n",
      "\u001b[32m[I 2021-01-25 12:23:27,639]\u001b[0m Trial 489 finished with value: 1826528.678324846 and parameters: {'eta': 0.24346620998659252, 'gamma': 0.7470486980459915, 'max_depth': 9}. Best is trial 108 with value: 1734688.4097678615.\u001b[0m\n",
      "\u001b[32m[I 2021-01-25 12:23:29,198]\u001b[0m Trial 490 finished with value: 1886825.9293286565 and parameters: {'eta': 0.22292014096337265, 'gamma': 0.6980693264054668, 'max_depth': 10}. Best is trial 108 with value: 1734688.4097678615.\u001b[0m\n",
      "\u001b[32m[I 2021-01-25 12:23:30,486]\u001b[0m Trial 491 finished with value: 1770479.866077391 and parameters: {'eta': 0.23226833817154552, 'gamma': 0.7310305283527635, 'max_depth': 9}. Best is trial 108 with value: 1734688.4097678615.\u001b[0m\n",
      "\u001b[32m[I 2021-01-25 12:23:33,263]\u001b[0m Trial 492 finished with value: 2105561.736606531 and parameters: {'eta': 0.25336620176547736, 'gamma': 0.7114523514778336, 'max_depth': 13}. Best is trial 108 with value: 1734688.4097678615.\u001b[0m\n",
      "\u001b[32m[I 2021-01-25 12:23:34,831]\u001b[0m Trial 493 finished with value: 1794413.1945478295 and parameters: {'eta': 0.23728599133928507, 'gamma': 0.7279205042147167, 'max_depth': 10}. Best is trial 108 with value: 1734688.4097678615.\u001b[0m\n",
      "\u001b[32m[I 2021-01-25 12:23:35,803]\u001b[0m Trial 494 finished with value: 1732538.8912367197 and parameters: {'eta': 0.24812258114563665, 'gamma': 0.7480793133290846, 'max_depth': 7}. Best is trial 494 with value: 1732538.8912367197.\u001b[0m\n",
      "\u001b[32m[I 2021-01-25 12:23:36,635]\u001b[0m Trial 495 finished with value: 1944495.9675008098 and parameters: {'eta': 0.315834953403069, 'gamma': 0.7648569300572561, 'max_depth': 6}. Best is trial 494 with value: 1732538.8912367197.\u001b[0m\n",
      "\u001b[32m[I 2021-01-25 12:23:37,583]\u001b[0m Trial 496 finished with value: 1975317.6477934958 and parameters: {'eta': 0.28378533978653836, 'gamma': 0.740300429766199, 'max_depth': 7}. Best is trial 494 with value: 1732538.8912367197.\u001b[0m\n",
      "\u001b[32m[I 2021-01-25 12:23:38,535]\u001b[0m Trial 497 finished with value: 1855941.6029867283 and parameters: {'eta': 0.26544882903424705, 'gamma': 0.7512271902825403, 'max_depth': 7}. Best is trial 494 with value: 1732538.8912367197.\u001b[0m\n",
      "\u001b[32m[I 2021-01-25 12:23:39,375]\u001b[0m Trial 498 finished with value: 1906993.7345871648 and parameters: {'eta': 0.2583728891942161, 'gamma': 0.7830464542996274, 'max_depth': 6}. Best is trial 494 with value: 1732538.8912367197.\u001b[0m\n",
      "\u001b[32m[I 2021-01-25 12:23:40,339]\u001b[0m Trial 499 finished with value: 2166917.886572494 and parameters: {'eta': 0.2450226980662499, 'gamma': 0.7227886085004328, 'max_depth': 7}. Best is trial 494 with value: 1732538.8912367197.\u001b[0m\n"
     ]
    }
   ],
   "source": [
    "study = optuna.create_study()  # Create a new study.\n",
    "study.optimize(objective, n_trials=500)"
   ]
  },
  {
   "cell_type": "code",
   "execution_count": 61,
   "id": "respective-compiler",
   "metadata": {},
   "outputs": [
    {
     "data": {
      "text/plain": [
       "{'eta': 0.24812258114563665, 'gamma': 0.7480793133290846, 'max_depth': 7}"
      ]
     },
     "execution_count": 61,
     "metadata": {},
     "output_type": "execute_result"
    }
   ],
   "source": [
    "study.best_params"
   ]
  },
  {
   "cell_type": "code",
   "execution_count": 62,
   "id": "legislative-treasure",
   "metadata": {},
   "outputs": [
    {
     "data": {
      "text/plain": [
       "0.9072985635153251"
      ]
     },
     "execution_count": 62,
     "metadata": {},
     "output_type": "execute_result"
    }
   ],
   "source": [
    "from xgboost import XGBRegressor\n",
    "model = XGBRegressor(eta=0.25,gamma=0.75,max_depth=7)\n",
    "model.fit(X_train, y_train)\n",
    "pred = model.predict(X_test)\n",
    "model.score(X_test, y_test)"
   ]
  },
  {
   "cell_type": "code",
   "execution_count": 63,
   "id": "curious-elements",
   "metadata": {},
   "outputs": [
    {
     "name": "stdout",
     "output_type": "stream",
     "text": [
      "MAE: 725.4152384503583\n",
      "MSE: 1891195.199521587\n",
      "RMSE: 1375.207329649456\n"
     ]
    }
   ],
   "source": [
    "print('MAE:', metrics.mean_absolute_error(y_test, pred))\n",
    "print('MSE:', metrics.mean_squared_error(y_test, pred))\n",
    "print('RMSE:', np.sqrt(metrics.mean_squared_error(y_test, pred)))"
   ]
  },
  {
   "cell_type": "code",
   "execution_count": 64,
   "id": "assumed-graphic",
   "metadata": {},
   "outputs": [],
   "source": [
    "import pickle"
   ]
  },
  {
   "cell_type": "code",
   "execution_count": 65,
   "id": "liberal-family",
   "metadata": {},
   "outputs": [],
   "source": [
    "pickle.dump(model, open('model.pkl', 'wb'))"
   ]
  },
  {
   "cell_type": "code",
   "execution_count": null,
   "id": "precious-clerk",
   "metadata": {},
   "outputs": [],
   "source": []
  }
 ],
 "metadata": {
  "kernelspec": {
   "display_name": "Python 3",
   "language": "python",
   "name": "python3"
  },
  "language_info": {
   "codemirror_mode": {
    "name": "ipython",
    "version": 3
   },
   "file_extension": ".py",
   "mimetype": "text/x-python",
   "name": "python",
   "nbconvert_exporter": "python",
   "pygments_lexer": "ipython3",
   "version": "3.7.9"
  }
 },
 "nbformat": 4,
 "nbformat_minor": 5
}
